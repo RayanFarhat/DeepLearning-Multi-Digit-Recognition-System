{
  "nbformat": 4,
  "nbformat_minor": 0,
  "metadata": {
    "colab": {
      "provenance": [],
      "collapsed_sections": [
        "hS-HR5uP17iA",
        "6zKZELSu4g2I"
      ]
    },
    "kernelspec": {
      "name": "python3",
      "display_name": "Python 3"
    },
    "language_info": {
      "name": "python"
    }
  },
  "cells": [
    {
      "cell_type": "markdown",
      "source": [
        "#DownLoad Dataset\n",
        "**First** we need to download the dataset."
      ],
      "metadata": {
        "id": "hS-HR5uP17iA"
      }
    },
    {
      "cell_type": "code",
      "source": [
        "\"\"\"## DownLoad Dataset\"\"\"\n",
        "\n",
        "!wget http://ufldl.stanford.edu/housenumbers/train.tar.gz\n",
        "!wget http://ufldl.stanford.edu/housenumbers/test.tar.gz"
      ],
      "metadata": {
        "colab": {
          "base_uri": "https://localhost:8080/"
        },
        "id": "xcO0W_8u2Fak",
        "outputId": "bb58a90b-626b-43d8-d831-c6a0e9bbd09d"
      },
      "execution_count": 1,
      "outputs": [
        {
          "output_type": "stream",
          "name": "stdout",
          "text": [
            "--2023-05-22 11:15:57--  http://ufldl.stanford.edu/housenumbers/train.tar.gz\n",
            "Resolving ufldl.stanford.edu (ufldl.stanford.edu)... 171.64.68.10\n",
            "Connecting to ufldl.stanford.edu (ufldl.stanford.edu)|171.64.68.10|:80... connected.\n",
            "HTTP request sent, awaiting response... 200 OK\n",
            "Length: 404141560 (385M) [application/x-gzip]\n",
            "Saving to: ‘train.tar.gz’\n",
            "\n",
            "train.tar.gz        100%[===================>] 385.42M  53.6MB/s    in 9.0s    \n",
            "\n",
            "2023-05-22 11:16:06 (42.7 MB/s) - ‘train.tar.gz’ saved [404141560/404141560]\n",
            "\n",
            "--2023-05-22 11:16:06--  http://ufldl.stanford.edu/housenumbers/test.tar.gz\n",
            "Resolving ufldl.stanford.edu (ufldl.stanford.edu)... 171.64.68.10\n",
            "Connecting to ufldl.stanford.edu (ufldl.stanford.edu)|171.64.68.10|:80... connected.\n",
            "HTTP request sent, awaiting response... 200 OK\n",
            "Length: 276555967 (264M) [application/x-gzip]\n",
            "Saving to: ‘test.tar.gz’\n",
            "\n",
            "test.tar.gz         100%[===================>] 263.74M  47.8MB/s    in 7.8s    \n",
            "\n",
            "2023-05-22 11:16:14 (33.9 MB/s) - ‘test.tar.gz’ saved [276555967/276555967]\n",
            "\n"
          ]
        }
      ]
    },
    {
      "cell_type": "markdown",
      "source": [
        "#LOAD DATASET\n",
        "1- Now we should extract the TAR file to folder and load the digitStruct.mat file for each one."
      ],
      "metadata": {
        "id": "6zKZELSu4g2I"
      }
    },
    {
      "cell_type": "code",
      "source": [
        "import os\n",
        "import sys\n",
        "import tarfile\n",
        "\n",
        "def extract_tar(filename):\n",
        "    # remove .tar.gz\n",
        "    root = os.path.splitext(os.path.splitext(filename)[0])[0] \n",
        "    # if folders already exist then don't extract them \n",
        "    if os.path.isdir(root):\n",
        "        print(root,\" dir already exist\")\n",
        "    else:\n",
        "        tar = tarfile.open(filename)\n",
        "        sys.stdout.flush()\n",
        "        tar.extractall()\n",
        "        tar.close()\n",
        "    # if digitStruct.mat file not exist\n",
        "    if not os.path.exists(root+'/digitStruct.mat'):\n",
        "        print(\"digitStruct.mat  doesn't exist\")\n",
        "    return root + '/digitStruct.mat'\n",
        "\n",
        "train_digitStruct = extract_tar(\"train.tar.gz\")\n",
        "test_digitStruct = extract_tar(\"test.tar.gz\")"
      ],
      "metadata": {
        "id": "D_1KmSFJ4mxH"
      },
      "execution_count": 2,
      "outputs": []
    },
    {
      "cell_type": "markdown",
      "source": [
        "2- Now we will use h5py library for saving and loading trained models, We created a wrapper for the library to make it more easier to use the  h5py data as an object, then we load the digitStruct.mat file we extracted."
      ],
      "metadata": {
        "id": "RVw7oYc48-pJ"
      }
    },
    {
      "cell_type": "code",
      "source": [
        "import h5py\n",
        "\n",
        "class H5pyFile:\n",
        "    def __init__(self, inf):\n",
        "        self.inf = h5py.File(inf, 'r') # The input h5 matlab file\n",
        "        self.digitStructName = self.inf['digitStruct']['name'] # The h5 ref to all the file names\n",
        "        self.digitStructBbox = self.inf['digitStruct']['bbox'] # The h5 ref to all data\n",
        "\n",
        "    # handles the coding difference when there is exactly one bbox or an array of bbox. \n",
        "    def __bboxHelper(self,attr):\n",
        "        if (len(attr) > 1):\n",
        "            attr = [self.inf[attr[j].item()][0][0] for j in range(len(attr))]\n",
        "        else:\n",
        "            attr = [attr[0][0]]\n",
        "        return attr\n",
        "\n",
        "    def __getDigitStructure(self,n):\n",
        "        # get a dict of data for the n(th) bbox\n",
        "        bbox = {}\n",
        "        bb = self.digitStructBbox[n].item()\n",
        "        bbox['height'] = self.__bboxHelper(self.inf[bb][\"height\"])\n",
        "        bbox['label'] = self.__bboxHelper(self.inf[bb][\"label\"])\n",
        "        bbox['left'] = self.__bboxHelper(self.inf[bb][\"left\"])\n",
        "        bbox['top'] = self.__bboxHelper(self.inf[bb][\"top\"])\n",
        "        bbox['width'] = self.__bboxHelper(self.inf[bb][\"width\"])\n",
        "        # get the 'name' string for for the n(th) digitStruct. \n",
        "        bbox['name'] = ''.join([chr(c[0]) for c in self.inf[self.digitStructName[n][0]]])\n",
        "        return bbox\n",
        "\n",
        "    # Return the info about all the images in the dataset\n",
        "    def getDataInfo(self):\n",
        "        # returns all the digitStruct from the input file.     \n",
        "        pictDat = [self.__getDigitStructure(i) for i in range(len(self.digitStructName))]\n",
        "        result = []\n",
        "        structCnt = 1\n",
        "        for i in range(len(pictDat)):\n",
        "            item = { 'filename' : pictDat[i][\"name\"] }\n",
        "            figures = []\n",
        "            for j in range(len(pictDat[i]['height'])):\n",
        "                figure = {}\n",
        "                figure['height'] = pictDat[i]['height'][j]\n",
        "                figure['label']  = pictDat[i]['label'][j]\n",
        "                figure['left']   = pictDat[i]['left'][j]\n",
        "                figure['top']    = pictDat[i]['top'][j]\n",
        "                figure['width']  = pictDat[i]['width'][j]\n",
        "                figures.append(figure)\n",
        "            structCnt = structCnt + 1\n",
        "            item['boxes'] = figures\n",
        "            result.append(item)\n",
        "        return result\n",
        "\n",
        "train = H5pyFile(train_digitStruct)\n",
        "train_data = train.getDataInfo()\n",
        "\n",
        "\n",
        "test = H5pyFile(test_digitStruct)\n",
        "test_data = test.getDataInfo()"
      ],
      "metadata": {
        "id": "kDEWPaUm9uFk"
      },
      "execution_count": 3,
      "outputs": []
    },
    {
      "cell_type": "markdown",
      "source": [
        "3- Lets see example of the info of the image 2.png in train folder to get more understanding about what is going on.\n",
        "\n",
        "We can see that we got the labels(numbers in the image), so we can evaluate the result when we start with the training.\n",
        "![2.png](data:image/png;base64,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)"
      ],
      "metadata": {
        "id": "4opJtK0dOWOP"
      }
    },
    {
      "cell_type": "code",
      "source": [
        "print(train_data[1])"
      ],
      "metadata": {
        "colab": {
          "base_uri": "https://localhost:8080/"
        },
        "id": "Ywubt6AfODug",
        "outputId": "2ce3295d-5237-40e6-b40a-b31449218345"
      },
      "execution_count": 4,
      "outputs": [
        {
          "output_type": "stream",
          "name": "stdout",
          "text": [
            "{'filename': '2.png', 'boxes': [{'height': 32.0, 'label': 2.0, 'left': 77.0, 'top': 29.0, 'width': 23.0}, {'height': 32.0, 'label': 3.0, 'left': 98.0, 'top': 25.0, 'width': 26.0}]}\n"
          ]
        }
      ]
    },
    {
      "cell_type": "markdown",
      "source": [
        "# DEFINITION AND CONVERTION OF THE DATA\n",
        "1- Now we will build a two Dataset object for each directory where it load the the images and convert them to numpy ndarrays so we can read the images later, we using numpy and PIL to proccess the images."
      ],
      "metadata": {
        "id": "9hA2_Y4BF1nH"
      }
    },
    {
      "cell_type": "code",
      "source": [
        "import numpy as np\n",
        "from PIL import Image\n",
        "\n",
        "class Dataset:\n",
        "    \"\"\"crop images and save them to numpy ndarray\"\"\"\n",
        "    \n",
        "    def __init__(self, digitStruct, folder):\n",
        "        self.digitStruct = digitStruct\n",
        "        self.folder = folder\n",
        "        \n",
        "    def getDataset(self):\n",
        "        # init the dataset and labels\n",
        "        self.dataset = np.ndarray(shape=(len(self.digitStruct), 64, 64), dtype='float32')\n",
        "        self.labels = np.ones(shape=(len(self.digitStruct), 5), dtype='int') * 10 # 5 labels, 10 represents none\n",
        "        \n",
        "        for i in range(len(self.digitStruct)):\n",
        "\n",
        "            fin = os.path.join(self.folder, self.digitStruct[i]['filename'])\n",
        "            im = Image.open(fin)\n",
        "            \n",
        "            boxes = self.digitStruct[i]['boxes']\n",
        "            \n",
        "            if len(boxes) > 5:\n",
        "                print(fin, \"has more than 5 digits\")\n",
        "            else:\n",
        "                # get labels individually\n",
        "                self.labels[i,0:len(boxes)] = [int(j['label']) for j in boxes]\n",
        "            \n",
        "            left = [j['left'] for j in boxes]\n",
        "            top = [j['top'] for j in boxes]\n",
        "            height = [j['height'] for j in boxes]\n",
        "            width = [j['width'] for j in boxes]\n",
        "            \n",
        "            box = self.img_box(im, left, top, height, width)\n",
        "\n",
        "            size = (64, 64)\n",
        "            region = im.resize(size)\n",
        "            region = self.normalization(region)\n",
        "            self.dataset[i,:,:] = region[:,:]\n",
        "            \n",
        "        print('dataset:',self.dataset.shape)\n",
        "        print('labels:',self.labels.shape)\n",
        "        return self.dataset, self.labels\n",
        "        \n",
        "    def img_box(self, im, left, top, height, width):\n",
        "\n",
        "        im_left = min(left)\n",
        "        im_top = min(top)\n",
        "        im_height = max(top) + max(height) - im_top\n",
        "        im_width = max(left) + max(width) - im_left\n",
        "\n",
        "        im_top = im_top - im_height * 0.05 # a bit higher\n",
        "        im_left = im_left - im_width * 0.05 # a bit wider\n",
        "        im_bottom = min(im.size[1], im_top + im_height * 1.05)\n",
        "        im_right = min(im.size[0], im_left + im_width * 1.05)\n",
        "\n",
        "        return (im_left, im_top, im_right, im_bottom)\n",
        "\n",
        "\n",
        "    def normalization(self, img):\n",
        "        # convert RGB images to greyscale\n",
        "        im = np.dot(np.array(img, dtype='float32'), [0.299, 0.587, 0.114])\n",
        "\n",
        "        mean = np.mean(im, dtype='float32')\n",
        "        std = np.std(im, dtype='float32', ddof=1)\n",
        "        return (im - mean) / std  \n",
        "\n",
        "train_dataset = Dataset(train_data, 'train')\n",
        "train_dataset, train_labels = train_dataset.getDataset()\n",
        "\n",
        "# remove image number 29929 cuz it have more than 5 numbers, need to import more than 5 numbers later\n",
        "train_dataset = np.delete(train_dataset, 29929, axis=0)\n",
        "train_labels = np.delete(train_labels, 29929, axis=0)\n",
        "\n",
        "test_dataset = Dataset(test_data, 'test')\n",
        "test_dataset, test_labels = test_dataset.getDataset()"
      ],
      "metadata": {
        "colab": {
          "base_uri": "https://localhost:8080/"
        },
        "id": "SE1_WpP6Hx4z",
        "outputId": "f99b16ae-6a57-407d-a43b-525444a64290"
      },
      "execution_count": 5,
      "outputs": [
        {
          "output_type": "stream",
          "name": "stdout",
          "text": [
            "train/29930.png has more than 5 digits\n",
            "dataset: (33402, 64, 64)\n",
            "labels: (33402, 5)\n",
            "dataset: (13068, 64, 64)\n",
            "labels: (13068, 5)\n"
          ]
        }
      ]
    },
    {
      "cell_type": "markdown",
      "source": [
        "2- Now we should build the third dataset(Validation Dataset) to estimate the accuracy of the ML model concerned by spliting the training dataset.\n"
      ],
      "metadata": {
        "id": "6ICwEV8uT585"
      }
    },
    {
      "cell_type": "code",
      "source": [
        "train_portion = 6000\n",
        "valid_dataset = train_dataset[:train_portion,:,:]\n",
        "valid_labels = train_labels[:train_portion]\n",
        "train_dataset = train_dataset[train_portion:,:,:]\n",
        "train_labels = train_labels[train_portion:]\n",
        "\n",
        "print(\"The dataset size after the spliting:\")         \n",
        "print(train_dataset.shape, train_labels.shape)\n",
        "print(valid_dataset.shape, valid_labels.shape)"
      ],
      "metadata": {
        "colab": {
          "base_uri": "https://localhost:8080/"
        },
        "id": "dv5-5h16UdxU",
        "outputId": "cbfa796a-5d84-4ab9-f7b1-acc5eb56ff74"
      },
      "execution_count": 6,
      "outputs": [
        {
          "output_type": "stream",
          "name": "stdout",
          "text": [
            "The dataset size after the spliting:\n",
            "(27401, 64, 64) (27401, 5)\n",
            "(6000, 64, 64) (6000, 5)\n"
          ]
        }
      ]
    },
    {
      "cell_type": "markdown",
      "source": [
        "3- Now we can see the final results of each image and there labels:"
      ],
      "metadata": {
        "id": "9wUSAZ1LVOnr"
      }
    },
    {
      "cell_type": "code",
      "source": [
        "import matplotlib.pyplot as plt\n",
        "\n",
        "plt.figure()\n",
        "plt.imshow(train_dataset[101], cmap='gray')\n",
        "\n",
        "print(\"Label for image: {}\".format(train_labels[101]))"
      ],
      "metadata": {
        "colab": {
          "base_uri": "https://localhost:8080/",
          "height": 449
        },
        "id": "xvYd_h1tVV4r",
        "outputId": "6fe558e8-d70c-4815-9cb5-13ea3b26d4ff"
      },
      "execution_count": 7,
      "outputs": [
        {
          "output_type": "stream",
          "name": "stdout",
          "text": [
            "Label for image: [ 9  5 10 10 10]\n"
          ]
        },
        {
          "output_type": "display_data",
          "data": {
            "text/plain": [
              "<Figure size 640x480 with 1 Axes>"
            ],
            "image/png": "[encoded data removed]"
          },
          "metadata": {}
        }
      ]
    },
    {
      "cell_type": "markdown",
      "source": [
        "# CONSTRUCTION AND TRAINING THE MODEL\n",
        "1- now to the hard part, training the model, so first we need to use One-hot encoding technique to get one-hot array from each digit label so the machine learning algorithms can use the data."
      ],
      "metadata": {
        "id": "LBGrR_FvfGXR"
      }
    },
    {
      "cell_type": "code",
      "source": [
        "from keras.utils import np_utils\n",
        "\n",
        "possible_classes = 11 # from 0 to 10\n",
        "\n",
        "def convert_labels(labels):\n",
        "    \n",
        "    # As per Keras conventions, the multiple labels need to be of the form [array_digit1,...5]\n",
        "    # Each digit array will be of shape (60000,11)\n",
        "        \n",
        "    # Declare output ndarrays\n",
        "    # 5 for digits, 11 for possible classes  \n",
        "    dig0_arr = np.ndarray(shape=(len(labels),possible_classes))\n",
        "    dig1_arr = np.ndarray(shape=(len(labels),possible_classes))\n",
        "    dig2_arr = np.ndarray(shape=(len(labels),possible_classes))\n",
        "    dig3_arr = np.ndarray(shape=(len(labels),possible_classes))\n",
        "    dig4_arr = np.ndarray(shape=(len(labels),possible_classes))\n",
        "    \n",
        "    for index,label in enumerate(labels):\n",
        "        \n",
        "        # Using np_utils from keras to convert, each label is a row in one-hot array\n",
        "        dig0_arr[index,:] = np_utils.to_categorical(label[0],possible_classes)\n",
        "        dig1_arr[index,:] = np_utils.to_categorical(label[1],possible_classes)\n",
        "        dig2_arr[index,:] = np_utils.to_categorical(label[2],possible_classes)\n",
        "        dig3_arr[index,:] = np_utils.to_categorical(label[3],possible_classes)\n",
        "        dig4_arr[index,:] = np_utils.to_categorical(label[4],possible_classes)\n",
        "        \n",
        "    return [dig0_arr,dig1_arr,dig2_arr,dig3_arr,dig4_arr]\n",
        "\n",
        "train_labels = convert_labels(train_labels)\n",
        "test_labels = convert_labels(test_labels)\n",
        "valid_labels = convert_labels(valid_labels)\n",
        "\n",
        "# Checking the shape of the OHE array for the first digit position\n",
        "print(np.shape(train_labels[0]))"
      ],
      "metadata": {
        "colab": {
          "base_uri": "https://localhost:8080/"
        },
        "id": "1CoaDUBAhATV",
        "outputId": "9bca7f0d-4ddb-4032-cea6-76ce485b1792"
      },
      "execution_count": 8,
      "outputs": [
        {
          "output_type": "stream",
          "name": "stdout",
          "text": [
            "(27401, 11)\n"
          ]
        }
      ]
    }
  ]
}