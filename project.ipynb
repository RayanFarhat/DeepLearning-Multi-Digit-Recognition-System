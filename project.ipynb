{
  "cells": [
    {
      "cell_type": "markdown",
      "metadata": {
        "id": "hS-HR5uP17iA"
      },
      "source": [
        "#DownLoad Dataset\n",
        "**First** we need to download the dataset."
      ]
    },
    {
      "cell_type": "code",
      "execution_count": 1,
      "metadata": {
        "colab": {
          "base_uri": "https://localhost:8080/"
        },
        "id": "xcO0W_8u2Fak",
        "outputId": "41fe11ee-7b32-469e-ae78-a09172567488"
      },
      "outputs": [
        {
          "output_type": "stream",
          "name": "stdout",
          "text": [
            "--2023-07-08 05:32:22--  http://ufldl.stanford.edu/housenumbers/train.tar.gz\n",
            "Resolving ufldl.stanford.edu (ufldl.stanford.edu)... 171.64.68.10\n",
            "Connecting to ufldl.stanford.edu (ufldl.stanford.edu)|171.64.68.10|:80... connected.\n",
            "HTTP request sent, awaiting response... 200 OK\n",
            "Length: 404141560 (385M) [application/x-gzip]\n",
            "Saving to: ‘train.tar.gz’\n",
            "\n",
            "train.tar.gz        100%[===================>] 385.42M  20.7MB/s    in 21s     \n",
            "\n",
            "2023-07-08 05:32:44 (18.3 MB/s) - ‘train.tar.gz’ saved [404141560/404141560]\n",
            "\n",
            "--2023-07-08 05:32:44--  http://ufldl.stanford.edu/housenumbers/test.tar.gz\n",
            "Resolving ufldl.stanford.edu (ufldl.stanford.edu)... 171.64.68.10\n",
            "Connecting to ufldl.stanford.edu (ufldl.stanford.edu)|171.64.68.10|:80... connected.\n",
            "HTTP request sent, awaiting response... 200 OK\n",
            "Length: 276555967 (264M) [application/x-gzip]\n",
            "Saving to: ‘test.tar.gz’\n",
            "\n",
            "test.tar.gz         100%[===================>] 263.74M  20.5MB/s    in 14s     \n",
            "\n",
            "2023-07-08 05:32:58 (18.9 MB/s) - ‘test.tar.gz’ saved [276555967/276555967]\n",
            "\n"
          ]
        }
      ],
      "source": [
        "\"\"\"## DownLoad Dataset\"\"\"\n",
        "\n",
        "!wget http://ufldl.stanford.edu/housenumbers/train.tar.gz\n",
        "!wget http://ufldl.stanford.edu/housenumbers/test.tar.gz"
      ]
    },
    {
      "cell_type": "markdown",
      "metadata": {
        "id": "6zKZELSu4g2I"
      },
      "source": [
        "#LOAD DATASET\n",
        "1- Now we should extract the TAR file to folder and load the digitStruct.mat file for each one."
      ]
    },
    {
      "cell_type": "code",
      "execution_count": 2,
      "metadata": {
        "id": "D_1KmSFJ4mxH"
      },
      "outputs": [],
      "source": [
        "import os\n",
        "import sys\n",
        "import tarfile\n",
        "\n",
        "def extract_tar(filename):\n",
        "    # remove .tar.gz\n",
        "    root = os.path.splitext(os.path.splitext(filename)[0])[0]\n",
        "    # if folders already exist then don't extract them\n",
        "    if os.path.isdir(root):\n",
        "        print(root,\" dir already exist\")\n",
        "    else:\n",
        "        tar = tarfile.open(filename)\n",
        "        sys.stdout.flush()\n",
        "        tar.extractall()\n",
        "        tar.close()\n",
        "    # if digitStruct.mat file not exist\n",
        "    if not os.path.exists(root+'/digitStruct.mat'):\n",
        "        print(\"digitStruct.mat  doesn't exist\")\n",
        "    return root + '/digitStruct.mat'\n",
        "\n",
        "train_digitStruct = extract_tar(\"train.tar.gz\")\n",
        "test_digitStruct = extract_tar(\"test.tar.gz\")"
      ]
    },
    {
      "cell_type": "markdown",
      "metadata": {
        "id": "RVw7oYc48-pJ"
      },
      "source": [
        "2- Now we will use h5py library for saving and loading trained models, We created a wrapper for the library to make it more easier to use the  h5py data as an object, then we load the digitStruct.mat file we extracted."
      ]
    },
    {
      "cell_type": "code",
      "execution_count": null,
      "metadata": {
        "id": "kDEWPaUm9uFk"
      },
      "outputs": [],
      "source": [
        "import h5py\n",
        "\n",
        "class H5pyFile:\n",
        "    def __init__(self, inf):\n",
        "        self.inf = h5py.File(inf, 'r') # The input h5 matlab file\n",
        "        self.digitStructName = self.inf['digitStruct']['name'] # The h5 ref to all the file names\n",
        "        self.digitStructBbox = self.inf['digitStruct']['bbox'] # The h5 ref to all data\n",
        "\n",
        "    # handles the coding difference when there is exactly one bbox or an array of bbox.\n",
        "    def __bboxHelper(self,attr):\n",
        "        if (len(attr) > 1):\n",
        "            attr = [self.inf[attr[j].item()][0][0] for j in range(len(attr))]\n",
        "        else:\n",
        "            attr = [attr[0][0]]\n",
        "        return attr\n",
        "\n",
        "    def __getDigitStructure(self,n):\n",
        "        # get a dict of data for the n(th) bbox\n",
        "        bbox = {}\n",
        "        bb = self.digitStructBbox[n].item()\n",
        "        bbox['height'] = self.__bboxHelper(self.inf[bb][\"height\"])\n",
        "        bbox['label'] = self.__bboxHelper(self.inf[bb][\"label\"])\n",
        "        bbox['left'] = self.__bboxHelper(self.inf[bb][\"left\"])\n",
        "        bbox['top'] = self.__bboxHelper(self.inf[bb][\"top\"])\n",
        "        bbox['width'] = self.__bboxHelper(self.inf[bb][\"width\"])\n",
        "        # get the 'name' string for for the n(th) digitStruct.\n",
        "        bbox['name'] = ''.join([chr(c[0]) for c in self.inf[self.digitStructName[n][0]]])\n",
        "        return bbox\n",
        "\n",
        "    # Return the info about all the images in the dataset\n",
        "    def getDataInfo(self):\n",
        "        # returns all the digitStruct from the input file.\n",
        "        pictDat = [self.__getDigitStructure(i) for i in range(len(self.digitStructName))]\n",
        "        result = []\n",
        "        structCnt = 1\n",
        "        for i in range(len(pictDat)):\n",
        "            item = { 'filename' : pictDat[i][\"name\"] }\n",
        "            figures = []\n",
        "            for j in range(len(pictDat[i]['height'])):\n",
        "                figure = {}\n",
        "                figure['height'] = pictDat[i]['height'][j]\n",
        "                figure['label']  = pictDat[i]['label'][j]\n",
        "                figure['left']   = pictDat[i]['left'][j]\n",
        "                figure['top']    = pictDat[i]['top'][j]\n",
        "                figure['width']  = pictDat[i]['width'][j]\n",
        "                figures.append(figure)\n",
        "            structCnt = structCnt + 1\n",
        "            item['boxes'] = figures\n",
        "            result.append(item)\n",
        "        return result\n",
        "\n",
        "train = H5pyFile(train_digitStruct)\n",
        "train_data = train.getDataInfo()\n",
        "\n",
        "\n",
        "test = H5pyFile(test_digitStruct)\n",
        "test_data = test.getDataInfo()"
      ]
    },
    {
      "cell_type": "markdown",
      "metadata": {
        "id": "4opJtK0dOWOP"
      },
      "source": [
        "3- Lets see example of the info of the image 2.png in train folder to get more understanding about what is going on.\n",
        "\n",
        "We can see that we got the labels(numbers in the image), so we can evaluate the result when we start with the training.\n",
        "![2.png](data:image/png;base64,iVBORw0KGgoAAAANSUhEUgAAAMcAAABTCAIAAACkkITEAAAAB3RJTUUH2wsYBysIK7Rr8wAAIABJREFUeJy8vWmTJMmRJfaeqpkfceZVmXV2NxoDYAeYHe4sj6Xwf/Erv/HfUYTCnZUdzAEMrr7rzCMOdzNVfjB3j8jMqgZmV0iX6uooDw8/zNRUnz49nP/H//m/k8w5iwiEAACQtOGDuDsgJMt+BwA4RVXpIAkIAAdI0glgOFQAgBCMmxM5ZwA+bjAHkN1IhUvO2V23m927dx++++47dwKAl3soZ0Pf94ABGG5l3FQVMAiPN3e6Z5HD/ZcNEDMrdzIe5oDR4e70bGblABt/BcDg0/5yIQEXi0X5FhAnSDrpRBm34cHdy3iqI6UsXs6p47iIO90wn8/v7rYigeRut2vb1t2vr6+vnl/NF83f/Q+/+k//6X8KDf7+//m/rt+/fvfu9Wq9+MlPPv/sxcsQAh1NM6vb2Wa32+2627vN19/88F/+4dfffP1dqKqT9QWp23233W7NTFU00N2Rreu66+v32+22229Tt1/M47PnF+dnq7aBe3L0KXXu7qIA1KOqYpAOQGQaQDPzQXwQpsfGp7dxhh4eM44mHn9LPNzc3ccjP3Y5O/xmlJd7py1P4kU+SLJI5L1NHl6WJBkGKeS9b8uZ3d2d46QTDhJuhzt09yKUB8m+/7CH9fbpISSJcjlCVWQ8d7lpgHChSEoIoVKJImIZlhFCXJ2eLBazs/P1s2dXz55fNa1+/+1Vv7/b3bVVVanqdJWc+/1+T6qIkgoIoSKiqg+eHYAbj8cZgBzdv4Ll9n5cMGCGYTQIgI4iWKHI2iA3nxqRcnYXgGXuBZT7knM0uA7S3GWQgI+fc1jx4zMWqSlPev+r4fiMYTJIDhLIhzfgODzLqGC8iMXxTU4DAsC9/AeDE04H6TIeNv2W4m5GDOJFctRgPFonh5PTQdDpk8aSsqxhDCwa0R1eDkPRfLLZ79zdrY+xlhBj1POLU1VeXp2/fH75xRefr1YzFayWS2FwETfm7GZQBg1UVXenHCbC3VWDShQJlu8tZiXdB038YAaPR+mwlswPkoDD52mkDg9OBh6NID4hBA+mhI+m8/DB7+0cJuD+Numqck/Tr4b9nkm656OTTCf34bFF8LHtvjyNe1QeLJdy2YPsOqysSwDmKjQbRvNIekQoNkrt4WL4iAp/NDjH6llIgbu7mbkbAS97mqbuursQghubplosFrHSly+fPrk8u7w6e/ns2YuXVyTMnFBSVaJqJBRGkqoqIn02RVGu6u40kCoSRMRyPr4xu29PhMwPp/ijJmVAQYfxmc7gMA7zGPBISh5tgiOtM2GIsgQn43gsnYM0lME/OtGxPA17iLJuSQjgPojlaGUyRvUgPhmMg5okmUdBFhHnASpBCBIkVIqtJHWSJLfDgDm8zIF75qCVvYA5kkUOSAEcXnCbHBQ8Cqx8qFyHkYG4ewFb5Y4JuMHMzWhGdxcKQNFAlWZWL5fLtpmvT5aLxUIVL19c/d1//NvZvJrNmsWiAZDdVTWEqq7btm3rui1a0N1TSt0+N22AC4Ccc3neIArAWLTx0Z/pPkctJePCxHi39GGsD4DAbICFZewOEjZZdgTgnsXhx/DTvW/v/3OaRb+/8/FWFNGDqxzBFwMUNLhiND0PsRopDudoho8G5Rj0HJkmWnEWVIpnMNgFOx47Fsk3QKiEuRsOSOtwQidoh2c7kiqQWpQrHumA8ZCicstMCiBuDneCIqqqqjHn3DTVYjG7uDh/+vTq7PxksZg9vbr44ifP+r7v095hhJhZl3LfZUBUYghRGNwJFPhnKSUzerbcW0rp8YyMQuA2SsyxJGG0Ym7DnkE8eGTvRgUxjfMDID3qqiK9o7dCALQi8o9/8/g+MB5/b4J9nLWPbT8iu0ciopOmdWQAk6UqJ7aC4cxIP1ppg1QZoaBycFEhYjY8lJmLTCcXdw8c8GZOeTC1LsXUkiSVcBG4mxuJAYIBOqjbR6uJvIerSHHCLZAKOBVwL1C6qioNDCGcnKxXq8WLl09fvXpxfnFyeXlxsp4DoOS+31vdBJGu625ubu7u7rIlUoNW05iLiMaQkznEzFJKOefylZkJXEA6pMDqY4dj+iQHE1/gehEdM+MgQ8e2TwtowKDvWeRQnKMPCHMhDy4jyug/3lh4BgcAAQ1OR8Gcw/18xBocDfS44aFgFXM9YCAWgXaALGp2UobHSkZJkM48HHsPMQ+IrVgxdysi5T56Pyo8RhpenkZs+EAtP4e4swAqhxcnMcMJOmmgQTGQKwMAHG+iCBPyoJXoHgAqowBGMzERqeoQo4QQTk/XL1++PDtZffmTz58/v2pn9el6oUD2PhJtVUcJBnT7frvZJbMq1HXdNrESUbM+pWTwnHOGoDytJfP8aJzHwSkP7S4oAMaPqZrCChXKAy48PJEBgzEZ2aeyys1GosSAkKwnqVGNPvBGOLhXReXKYDMUAzkBgdGH8RMXs0GyHM5xgIu9m6yVT1TXiOncTQbYRCGDhhCk2/WeLYhWoYblZBmAwYUjE2UOmruPC25ECOW0BCgiAtFB/ozmKMsQJOgFwqWceFg5FJTFDNdhZVgZ54yUnEgUAQgJUBFOjyHuFYalZKPgFSJDzNBnpwYNcdcld86bpRhDgHtOvpWI07PF85fPnpxfvHr16nS1Pj1ZL2bNrKnbViuYe1Y6GWNTGdyd371+8813b1L2GAcVNZvNYgy9dSmloCrEbrff97ucc4wxZmgMAFJKad8hW1CJIQBm2UDZ93tk63f7ft9VtZ6dnZycnIigTx1YcC0m9sIA0gsbNyGq7A4garEJQpHBAlqZJ6rT6DqhUTyS8oOqcMfAdA74f7C1OqDmT2m741OV8xdfoMgWAJgXobEiOkdKSBxWJHbcBGYDxC4nFBDlueFSOKKin9wKOQkDBIRUB/1XwBrp7gGFynU66Qe6laSDJu6gYbBrmYAqXAgbPApaWfnZJBlSzjAmZ7bgDsu62+yaShbz5vLs9ORieXq+fvr08uLsybOrJ4vZfDGbBaGK1yJEFk6uuRiQixwTwMBCuXvOGfAud13X9dlVw77r9vt9SimlVKZSVYVKKpmEKlLUgg0q6b4ys8FjGbwjHc3c0ZGGcQSOLJM5izIbLSCKBzb6K4NitAFfW1nkozDxoPsm9TMaHuEDeTp2QR+7AgeH0R1EYa7dne4cyQU75iSH/xV9mMWRMdnDwYcfeDVjpkuhTih0p8DgBgfFHSkljjcgww0X/VduzOTgdwJA8gzRbNkhhmwQdxdANQLGwzMCoDg8STak3kFKRspwZ888Xy5mbXxyefbs+fnl07Oz8/XZ+Wq9PFnO2llbNzGkPpulrrcYdUQ4D9Gpuxf+M+fcdR2JXb/d7XZdshDiZtvf3O6ubzbbTZe9mIIIJFLJKFCaODKpx87XCE2suC7j7AzzOkwBi2cm5DR3mTzMeNEU4f7dDobp8fT/hdsAmMYLPDjPj59zAltmlnNvZg6Y2TjNhzMPkgoUWmEMjyh8wDvm7hQnzE00clCeyIA5nE4XUh0DR2EEXEZA5CweIVCwwrA83ZwwgwMZmt3MTMA+mSPTISKUUKCCUbtd785d56QHpRlJJuOXP//F2fni+Yur50/PTs8Wi2XbNiFqCPA2BgJVUBhUvTikSnns9kxjm1Lqug7wXbfbbre7Lrtxu0vv319fX9/e3NxR42yeYrCcPSdPvUEpImZuRW0YD0JzPLwDwHmMgAftcPz3tL98COU3cv84FK6ZH6HbJ895OvLB54/K0Kfk6fgMPpKDZpbcIIKipvxwZB7ILYrDfFBOxfEViBMOuktR0NmoYHIXL7hczL2HFeWUkhnGQA0AZPGBoVGDgAkAkAqMAPJAZnJc0XSXbHaHvuA8uBj6THFTd8CDO3OPoGzbKorGGLWOs9Xq/NnV5cuny5PZbFmvFk1UiEFYfC5zM8Vg8nPOolLm4QF3U2xf3/dd6knknFNKOdtum7a7tNvsdpvtbrej2n7fh9Cl3lLKRUN3nWFwDIGRyDWzMR46MosjAh5nHkBZjfkgUkZSBvww3l4gWYISBytzZJV+nB79iAzx4c7H0vYjZyiK0swsH6zh9Ng4WqO5OCQjMDMzCs3dQIDmNNKc2bWu6xIFLZRLUfoCzakY9yNjDdAlCga8V+S1MAIjagQgXsJdBXJllWDw5DkZ+mT7jGSeDSIUiEhYVItmebqczeeLZnnayqzdi7/f3O77zc1t1V+cXJwsZwFjgIGecoIBogI4Hwc8yrSklPq+7/s+pRRjUNUY6uw9mcsohRBUYgkAm1nOOeeUcxaSDO7ZLE+r9qM6osyHHmkjs7Im6aPAPaYVvXDrj4Vg0luOHxOLUVX+GVnBp6nR6YBiwiddNU0hgAefp1Nl0M0BOh2U4uQ7xMhkDmjxirPpoOFdMtzg2Z2U0CwA+JhWYIQ4xCRwZHQIA5yS3Z2iA1cKwQGOiENEMhjdO6M6JKN3McfddhdjXdXN8vTs6tnzJxcnF+fLs8v5k8uVRAvqgO3N377bWs9127aVtDWDUmPN4nIgS9TiFB0N33DD3T51Vdf3vWfTShijG0XUjRrMzN9/uFksNhmIMaoqpQONZCH5QMKKLbNj/XSkt3z0YGyaJh2uLiVqU+bhaHILh8DBB/yoffqoD3j87afs2r9JRT02z7ivOIGDXT5eTwAhRfQLIykOyS4OATUXLt3D9e3OB20nGU4ymwEiQQ0yamMpAFUNSuHk1YJWgIdLuZZSygVEQhk1JzOCqRq0l5BjcIpTJKRQ19V8vnp6df7FZy+eP7l6evrkCZcrZENUtES/xdtvv3/9w7cN/dnF6cXp7Pxs5lJkmu508zKT09BYAY8uKaWcQ+E5RaRIvYgQGkJKyZbzxWx+3WevqhCCkC4CimsoMQofCKb0F07UsInDJqTkrmS+JwYGIhSdRtFpXu/PX3GUiZE/Lc4WScjBLzyICEBSjkTqWMEey81wFTDnXGgwESlLpMCFEm0oR042ejjbKFrw4m+JQ1Py7OaQBKSc+kwzN+v3u55UqgiDE+6W4e5GsYP5ozoBc1hxP4u4DOlaAN0YQnB35Oy5BPCFJDwwNgnew01gATkqqugaYlOlJvpiuWuW711midikuzdh3TEoKoH22H64/vDD9fWb79Pth9/N659+8fTLz59fnC7bmaoXIXEFB9LVAaBtZm3bbm9uUkq73W6/b0SkaRoG7Ps+Bo8xV9kl6Gazub79cLfba4AjMVArjcIoKiLZEkgBNzkVFn4wmqru3ve9ey4hqkKviIzyYGY8Wvaj+8cxFQO4bwFHtTHMn9xPDeC4/WUy/Wc2fjLRavh2+vzQbB9d30GHOEuIngDNmIzJJJsnEzdmmFC98Jzl2eAOZhsYWziLAKGwXz7CUhAuY+SOm9sC9FWggSIi1Ipa3dztk2sSZhFtK6la1VaqGvMGdchNs9P6Xe9+vblOXf2eYqkOqGC+77cfrrfv3nR373x3/eLypGmqtqmVUF3VUUiOiVH3ObqjISoP7g6MYbsYA9SaFKsq1E1lZloFUH1rgJMmohTznN0NFPcM2I/PbLGD05Qd38mkNQJQAKe7h8JF6dHvH5z9oxf7b5YtP9qme/pzqOvIREohKMt300GSQVAzmMBk3ifss5vBDZnRXAExlDRNz/CDcyl0KwEsdwKuPkY/yxJ1I10AMYgXOYMkiriK1+bxpreeAdJCq1gt2tmyWi7jrFmuF1Jp00ZpQx/jdbLNXRdvfXvzvg0SCdt1/e21bXeVSRvaxLjp0vXdbtsnAzOgg4MxkmDAceiKJKGDh2MmIrSDtqC4KERK7MXMPIj1kunZRFQVBpQg1jgSk9YoeNrMRA9CI1JmoaxD8UIGD7dVaEUr3A+PWNAHE3nv8zTrk3F8jJx+BGY9Pu2052gpjicfcvPssbkcTiIFNouABik43SHmNEOf0Sd0vffmyUb+nxAXglKoLHc4U04gUETKUdxooxcKHi4wulGcgxbMmksqcNGOGmDiKro6o7bSzpv5vF4tFutVs5xLFWPbQC1G1Yqm0tHN3MxdVyZwEcYU2qpp88lCz+Z8sq5O51iezJtZW1WsBJaNlAfDxmGV+ZQ2fYyvfcQSqhqjhiDlMI4rU6RYIAOQ4fTDOB8rlHEZmwjdjHSzg3kxt4OTOC5uMxs5Uw8FlXxqe4yRPwau7xFlf4kaeyyCxxcazjAmTQwH2EOeo0hDUR6A9NlSZkreJeuyd5nmMHONJdRegjniyF70ko/somOwDcOjDPJEA5xmhKuB2RUMWcS1YgguQaraNbbrU23mzWIxX65mq2U1b0NVSdAu7Y3I7rkzRRZFJANY6QxBSbKyGJplGy9Oqst1vFhw2aS29aptCvSQQvQf5X4cU1bHk5JzFg5ZVnVdGwGwbdu2bXOmgdlEZEcaWcJ0NlDHjkkWJ2U1yoqTA6dVdOGAjmzMXChBtePspuF+8sCC/iX27BhX/bdZwPue3b0Pj6/14FcDVhwfYpDsQiYVzjN7l7zrvUveJyYrMemQfcjFCEVujGM6mfqQ+S4lPohJyTtLSA8mbnAXc4VEo5oGD7VUjTQNYsUYV8+fa123y8VisYh1qzFAaETQJnuyIRvFJRX0RqmkhxoRjFHqRGapMvV6vwua5jW7vs+uYcj1cziEJQ1oBCo+unukD0ml7nnQOjlnqBTpEQnlWc1syGIelFU5pZjlj+qq7K5DTKYQEQdV4nA7WKoSUR4rXMap+WQu6GSe/nvE6KPbMa6anudjx0nJ3vyUbR13ERCndn2X8mAB+wxzUgpTVbzWkgfkLJNidINwiNQW2OKAQsYigTHTAeLQ7OySWyA0itZez9g2YT5H0PXVE1ahaupQVVBJHCjcEIIiaAxVsebmAlMHXfrM7La31AiD4u3tBpZnchdcF3Xc9+ytqrVon8LvcMxvB8YKpsnVLoJFCswd3vc9PUwG0cyzed/ngsMAJxTF7HvRJzJxYMOo0saMPn+Aa8sVFYSP4bIxzOxGG7grue8DAn6c8P+J7VNS+En5ODrgAWg7ZHV6CckJUcIdMgWnpp8UDqnwk0Xf2njPBvTZe5NkngzZHAInCsZECZ4XTwclB01JCtSdA33NIn3K4iiWIyEZmqlJyVCxarSd1YvTZnXSrGftchHruDxZMoAiLkSZxezu3O97wioVEREKjZ4L0NNsuTeD06z3HeiWd5vzReqtcWlcmN0yhO455Rir0b0b5d0FKGzLoIlGMAg6NKiEYBkhhCrUMfZIJWkv0QCRAau5iEvy5O5GIzlF6KZhH6ijYWpYRKcAhylFffQii2AMyjQMVFDyA2VlJEYGFj7kgxMOK5wsDyR9kfGDL1Cmg8OdyUdtq+N4nwgKgxLMsNnttre7fptzl+V+Is2E4iWIweHIhpRSqGsNMSU1YTL2DoYQYoCou3tG2neAIcamaUSYktGhIvDQbw1KqhBgpMP7vVUhCmCQ2Naq9W6bdn1GCDJbrC4uqsVpVS/m65PletHMq7aR3W5TsiwlRIfQSFc3wEH1lPfZETXUUqdst3d3dROhNEsKuiJtd/vNnS3s/GSxPr80dpRKQ0iAiiJIZ1Zy8AORHN4lMa9C3e+3oR4G2zz1ucyMFkopZ69jc3p61ie+fX+dO0/JVKOIwJFzlgnSKLLZpt/VKlWzjCHk5ITl3BEmwrI4y8y7MJuJlHTIwtVQJA7gbFz+B10lJWF3iCgKj9JC72mXR/bIjuTrwUYOVXtT2Ojh2UY97D7kMo2H/Vhu1lTdakNdDLPBEMoJ3FD8aTe6edvOSqKiiIBmliy7A7OqQuUlM8ZpMBR6qNImJdt1vaW+Ws/r9YlSva5Q1etnz5Yn522zijFSTLwX4yxSpQSKLIHZtcvIQ+ZSClFUFdm7vnN4M58l65UDQ+Ys4I3mJBSMZMJo3PPAN9OGrMmhdBAAbKSh6RQHDDQfkqet1JUUmRGwhFnoJQNbzZIPobiSQW0ZB/VTrI2Uq1PHeyFZKvFGpTGQ4QPtP1xqnJ+PMAsA8FCkZDLnR3sGEHd//guOQUkGL6gIgFuhyA4ZxoOAmqPUyRAZnuHZ3YgMt2OVxuNEHw5YyglHMqGIWamKsQNQGCQWGlvkktiO5Dmzp3olDKHLOXXJcu/CEOtKY9TZoutdKAbrMxWxmq+bZuVNvTw/bRbLpm1jbGMQ5E2g1UAd4bb3tDfvaEldIoJ5hMTUG1wC28yQ3IwSY8j7DCA7SWbHyFwI9VB2XQzJPZU+figQbTBSDwu1i0kqmHoorJUxa79om6lie0Is7j4VWpJ0zyPpNeTyGsVBipao2HRpcAi3FLVxXKLyWKp+jHN6eOinCaqDv/qx4zmKV+FRRvd21KM+VbgcbxOMkDEcKmYZGRSUKMwAn1zMTKjln6k3uosMGFTBELWpVNDPKFUgTKqqjqHR0FRxdn3X1fPFCbFzol3J6oSztbTL9ZMnyVKfs1o311AFRtiyRqOpUqujVlUrYu7MJinHTWcfbrv3m27f3eUwgzTOepd7h3s2ODJdB2hSMndl1C7qPiAZArxfU+TuZmmIs5FQKZWAANxLXiwog8MfQpCgD2qXx0yQe5NCh4wVHTyaj0HURUCKCMVzzkWacc+T4/ElPqGr/ru36b7HDyVVdlgkx9+6+1jQdm/7+GkpQrq5gclLHp0jlSxboQ3F7ByizgCOEv+SAKSHEKSuYwycN20VYhWqeTOHaepdQ/N5e766uPC2ebfv3+z81poUK86aelGJ0XtrxNo6tdgtYjpr9fJkfroMT87mZ6dVUyNnbDddt+d3b2+//zD7/TfvfvfD7Yddb7VbUHMYoRB4ntaOgYUQKttoZMr4QI5iy8frT44UlaqOpdgOwM3M6Z5JqCpUQBt12T1bMaZjQwvpAAoUuF/lW8pfhENVhEhB9pN+KmJ/bMf+P5Gqj+EnPth/pKvumcVJXR1+e5+7GutDxd1yLoVINlYbs1hHlBifmThF4NkFoqCZUEId6qapz8+Wq0WlglrCerWqpRGGxWLxi7/55exk0YX47c3d7364+dcf9t9eeycO9iG6eZZ+g30/n8nL8/bzJ/O/erWeVzhZoq2gxXc/q/Y9Pn9yer3Db5+u5//89T9+e/M2pY4pQTLcqCjELKZV5kWkFINQDanaAI6ARxmdkiykWpSITOHaUnRnZqCVuHgpNZSxpG2SKjPzKRXdiFwyfDjakPG+gGE4CRVCKAOqprsJD2XGxzf5aVz1bxOiklH4IGEepaphKD4uUIBTOuUQpBnxOt1Gm2hDVGVIy/tEXGiUviFYbGYySaeRCnHAYejhEHGhBgZoFaMuZ/P1ol2vFyerWjXPKn12dXm2Wq9Xi6eXZ7/45TMXbIEPqf3Jh4vz327/82/ffv3e93lLc9vfWX+3bKsvLte//OzsJ1fNiydQjpyPmdKFWiuWK5yvsFq1i+Xny9+9+/VXm6/epZvOBNEpBhcwpwGVClxZ2EkqyCl1/MFI39Plg0gVA3ePu5IRjZOq1CkUZgbYRAQAILXkaAhKgfaA38sg22iCAw920HIqJ/YRq3l5gv8fLOAwVhhqFI+h57FkCMXMptpFuBSo/vBMznvYnRyKWfyeVbj3ixEu5NQrXJSqiBKbujqZL09XcyBXbbVeVRfnJ3/1xavLs9OTVXt1PiOR4RV8FeTFOd5v299/g29+uPMcHdC8P5nJly9P/sPPnn55ySdzzIrvUJ5QSia8OWTf5TroRYP4WQj1k13/7s3b715/2FfLcxeYi2PotDGqbddhnj4qUdNjFSI7HxoVAWPrA3fPg6YZc5SFLJ4KebjWNFz6sMziAXQZldDYqqLIUxGkacEXR+EhriqTM/Zlwth46mEa3XRbZcfRI32cgyjSMJQKAiJSAuRTC6tStkeSEHNPlrvUJ8tjtoEfRYmcMpBsFMnZhgAWjDARkcDc9cIYFFmQzTNLlXiA5f1ub5KbZTNrq7PTk8snp/NlPT+tzy+Xp+ezn3752bOrs8uTignZrFWRjKBiwAz4/BL/uKxez5tv3+xBrub1szV/+eXVZ5e8XKDKaBQ5Q7Q8teTsIiQwq7RzC5AZ8fk5fni2/ud//qr2Xi1v0z5ULSyTjDFI71Glbdu6ghqaJox+x/Hgw8Gc836/7/teRFLuRRoNdM/uHiiZvk+pTwYaJIiEspVqHLNc1RGIfZf6vmfGfr/vtvuu63LOdETRSkNUhaU+JdIKWspuNCskpblzyrQ6BuwQGaXc3cMoKx8XC3/8xf3tgYWafuvux/3QeCSjvM/dD4rnKFsIwJHHN530WF1JwQNlMzMyZCsSqdloEEMIIgSDMrBqY2iaqm3kZFm9eHb25MXp6dW6mUUGxLaRquoBEdQUAuoQoAUyMCOeLOIq8K31Dsw1Xq7by7WczNEqKgEdQWFAdnQJbhRDrQAgngJRIS4in8zk+Xp+s63ep+Kfgg54LqaTpMJpkJIvPcU97w/s5PqZmYaP6LMCuUqq56i6ikq3Kcfh4TSNGzDAmALXJkN5X3v92LxPWzgGZY+3QRo+krOA4z33fjLwSQ/s0fFOu//VlNp56H9XPvD+dY/GYnhCc9Kpojmzz54NXXYzmtPpmVCIiSrEKLN5++Llk5/91au//tUXL35y1S7bMK8/3N7ttv1//ac/Bomns+pnz89igwokUAMJWAY8P138pt6EtM9idZCz03h6iirAgJwLS8DX7/bfv7/Z7aGQWVtdnrUX5yoijizeV6zWM5wu6pOZ3HxwHS1WqYIVuBBCqkBKET4GA0b6sdPOMZz8YI4AZHgaY39uBiY6zZOPvJQICqxnSbrKj5d3iaOUEBaBY6s3eAaTV0iWwtBDcHKKovhf6AMeCdMDtH94qj+r1UaBeHgYyaGWfoqK273YdnkijuEjc5QMH8swg0DMSx8OdQSHuKsjUIKGKKwKqdAs61dfvvhP//Ov/vZXX7z87Gx1ip646/H7r+++/+HDh/e3ubeZYP/2/f/2H780IDqUCECKhWUgAAAgAElEQVRFnC/DqtblrN57Xsybk5Nl04yLRgnBh2v80x+++8Offthsc9/n85P5X395eXr2VKmCrKAClSKIwyyUzGy3gcyFCxnIUJojgcp7IzYt+FFgbPz7HmM0JC7kXLwXEG5ppKYMtOIP+lGKr7vnqSOXECrGAYAfpmZy8Y7na/QEj/ccCcO/3QeccNWx8rh3wNTH7yM/FnhJxEQJSA2wdCT+fawxMjNheEDxk3SDOeClKWMg3E2yiVlxyiMhYBAGjW2INbW6vfuwXi7OX5794m9+9j/+L7/68vO6jjDCDbstrj/sP1ynm1vrtt112pw2moCKyEDp7KNAUChBzzDrc9723c7mjUCABiDx5jZ/8+buu/e77WZ/d3u72dw+OWuzPVWloBI4HL0jmSczYS1O80HTqkABoQelSCkN/7HBn4Zoyos5CJan0rW0pD0RyNkmrR+iiOqBPp2QO0kVQUmP0SJVImI26qop+EMK1MxLQW6RrZGAJccGG+4eHkvJXyJYP3LsoDw/5pEd29khxQX3CsoK8MTION8/r49rG25wUzdzQ3YVE4OS4q7ZmJIkULOJG6NJOzt5dv7qZy8//8WXV5/VsRoqmFWQE7Z3/v7t7v372267WTSs27kTCdAjV/Tupu/7HEObHNmq99f25gNQwSIy8cN3/pvff//Hb96/u77t+z73vWiryr6HAlSC7A27DtvkmeJCtZGM8qxwwkLphEDI0FGwxKTuwYjJdzPP00ANmgNmhqHoz4fWI3CWeutCPquqqAI41lUTrioBbE7RxXuGgscNY1jacz5CacfbJ3XVPafvUWXzj2zu02AMzQsAsHAHNEcuQb0Ctg2ZlIFfKDT42CpYdVJU94iJEVdJiUnDgiGayz7nzrTLSDkg1KIRWnkIP//rnz97vjx7sZZF1RMdkHuEAAdurvGvv/3m9evbuq4Xi9WisdmidUUyaGliASTHmze3ux1ubn1rcrfbfXj77vZDd9FU67qKrnc3H97fvO8krs8vguQ2+BdPzz97cVk8JQM6YOt4fZte3243HSA1rFTmD+tHQaELPQgk44DCj9agT2M78nviNulykiM5mstkmTs47Dom7g9idCRVBypHhjJkDLqoTGGJog4tDkvbpZLpT+HAFQxKY8hhO0jVOIfHBnLc9cim/SXi9WDzIwTvXoRfx5UAL6SwqCO7m5fesyTgh2D4GMo0SsmnMxAMjthDNp110MwKbRPr+Ww+ny3aMNOXP/3JfG6b1P/h2/cny9XpTNB387Z6+273+vWu33qtYdE0sxkuzsKXX750h1k2kd5hRMp4d9vtelmfXsUct93tu9vud3/avq/Sok62z/vN9fKEX3zx+atnJ6sWiygXCz1pIQ4KMmDA7RZvr7fvP9x9uGOzWg5QEgeZIAmYcqDUZZyGqc/iNBWHElyWao2iWAaXuej40QUfCsHh9xTPKIWHE4vAh9bXdnQ/AG3qHFsi0KU4/7jodTgP7yUDhLHWcMzQ4kgzDBNeWmJCMPr/YxaKTMTB0XOzdJ479vVk4q7ci3+GQbaFAoYulfoN6VK+3WxuN5veelXROPTCGw6WUFabIWusvv3h5uYua3MaYmtVvXfc+h7a6Py0np2enl1cXl7MVtV6Va1O5m2jaX/zr3/avnn7uyZk7zYBOW33gpi6vq3C+br66U+f/PtfPTudIRAa2FkSiR3wu2/w3Yf0dpd33iYgW6ji6a6Tt8nf3iYV8cRZ0F/++ydXKywFDVET1nmM7LIjsO/wX//+j3/4w3a/7dOeKaUuSaybEBrJ+67rZg3PTk5Plsvc+8VqFvUoH0ikd8s5hxAo3Hb73W4Xo95ZSolRFqenp3Xd9H232eyur6/hEqoYY0T2PlvOllLqciLpxuu765xz7lO338NyFdSj9vukRGyq+bxt6go0d9NKPQXl0LgWohkuZu6ZpLqBR7JXspIGz9SEer8i/pH2KZrkeL8MCRAPj/zUdrwm7KiVuR8keET9xwuoFDMOC2uIS6gqqc7oUAizK10RoratgIsn8xyWi9XTZn62OlkvL0+rmONcta5ckNEYY++Npb06RVJ2aytdnS+uLlavXpy9erU+mw8JTApSYu+42+PNh/z2pn9707Gee2mppsEYOnj2RGO37c5T7BxCiHgsrse44lLCzXX68P76+v1mv9/PZqf9SKWUnPApe66kNkvJRp1G7BAVIXxKzRhzGIf4RHDvj6ZMRh1fEhKFpExF6kcWEIOWyrDsLjwwPuSo8HLpeZpG5YOsqiXbWRxeulrSh5Y4MFDpDzKM72tbd7eirEZ7jCPJ41FPo8NPHovUEbOFwQee6n4yIWPvRSvFfD4UTWrX9Ryip0W24G5OpuyZhT2Xqo7L05P27CpsgbtkcbU8e1LP1vPloprVIp2JeUAxlEFrQrzv3E0kr+bhxcXq8nT22bPzy/M4m0FLYUU2qgLYbPD9O/zwZne7wa5zoCMyYSIp5al9t/XoTSsDTGBgDziQ3TyLBgZgNgvPnp59fcv4ZtMFFx1a25i7oiQqGYdOgGPrzuMZHiJ0BYkNKWuqekwZTh1cp1UpInQjMQKq4h6piKfUl3gjmQtEHZoEGt3hRtHSmpJZhsI12lCARDIjDxEb0IWF4qB7qdwpfdA+idaHmfw0i1pawD+UxAci9fi0HDzSgRRhcisVoHAkdxcM3TtLH0C4ujEX40kabZeyaOMa6raar0+evXi+ePqyvu3z69tO57PVIjSz0FRSwTwbPVnOCVFChHrqmfqqwqrVF09WP3158eyiPV0gEDCoImc41YDNHl+/sd/+6e6r7zebPQwalcIc6VFy6m+doKq7q1jf5bcfcNogzgBCHXXQKZi3nOEXP392I8t/+X6z3dgElM2trP8ps0ApPIrSFnQ0eWRmPjaQzfffS8Bj9TNwNCWXkyyNaSh5QixH7puUF70Y3Fyckg0KWnahO4tOopuYFh4EACy5wEgmeEHxXtKu3MXF6ICNDoeXistHglXqD/xw9+OTFG7t40HQSS35FPoe3w7ygBcuMP1Q41myQAl31lUDIJcuHCj3LiLetrXGucm883p9eXn14vnp81f+5kNqFjtvpV64VBIRazpCU8Es00u/KSB1rfqz9fzpqf+7n169uIzziACYIfV9pZGCfcLtDt++xT/9/sM//O7dH96mDztJDkld1HyyDG2w/a7rcwcN++Rg9/b19j///W+vf1g+Pa2fni9nlT9ZSgQU6Lq9VPVyhouzxXwWwl7S+LoXATBUo7sISPBe4L8MzyF1yY19n0tTRhH5KBlEcfNE4+AFsjQGdrIUwDgPDMH4bh8V8QARc3VILh3laAOvD5auSQA9uxAiWrqmDH3jKCXlISdzlK6Go6560P0Xxbl4JGePto/krB+RT4Mb/ODcB/d4GJRDa7Jj1zLnbIacM91UNca6aoPGuDg5DdXyZu99blZPrj7/4tXJixd93fTx5roPWZuuAwWuHsAqBKQkfRaYWt9Id3VS/dXL9fMn8fOnsVHQMsgIiVUE0PX46of9d+/6P32/+ZevP/zuu9sPfZO1DsGD5NOF/Pyz0+dnMfe3yfrMcLO1f/nNH96+fvePv/7d22/qs1V89fz0ZBH+5icvrk6qSlGHCCASswqLpg7iHHJ+sjsMHkhVUWUQyCOpmnS6O8ys7/uu6/L9d4dM+QhlGefBOheuIbtnRy4oezx+UmwkVDWmQms5c+F6PYv7lGNAQMwHyt1t1gSHCdUsk+rGAmJgyCwFESOuup9pAgAZh9e5jDft4/rwH69WOBYgylDU7QdaY+Rsh7EZirTERZw00gY6yiwDpoFtG9cni9XJsp3Pr168cjZvb/u7DZuTk8ur9ckTebdbf/3uVq0UNRmM1rshmUKzIecq+KLx05pfPp//7NX8fIWZQoG+76BKrfoeH277P/1w8y9/evfHH7av7/L7O9nkYKHRqqktXSzDF0/Cf/jZ4uevEFkDyMC7LbS7+/W2e//u7r3tN9ebu9vteo5VVZ8tn0MQRAAosKyxns+jbIdetu4l4xB0o5cozaCxxtFLbgEiQ9HT0E2v7/tStzplwpBHHc1dcs5kTuUNFE7zRMvlJQnltRo2OOBDX/AQQvJEuguLN5AMMCu1oySnNms0Vwrs0JWj5ByX63IksYAfwVX/Rjqq/OTAKvzYOY+Yqyk2f6hikOKmzudVSWusK12v55dX50+enC/XJy8++8k+6fzN3fevd2jCrK1ihVLKElRJTUIAERQGZnqXQu7aGE5aXK315VV7dYY2gG6BdFHR2Ju/fX/z1Tdv//EPP7y5s29/2F7vpQ9LDbEKggr9ro/itdiiwrpCDQjQA+p4fta8Xc3zzpqqtrzZ7/N13m92e1HkjNx1LjSNMWDezqqYPA26uzT89bESXQRTDzpOw3Vg+FD00FELwnHM7+ENejZTjBm25nnqvzCxpjb9BIAwCIMjA+IOM+TkcM+5XCKPCVXlXSu563ZyqKsZigvpoqqlKaFAw9FMIwxvaBEU32R4ngONUDxO8uhtFQCQp6/Hzq8T4XJEJbjnDBvbRZhbyftZLtbdttv2+/2u67rU98nMgtJyH6Ou1ssnl6fn5yerdXN59eT05OzlqxebvfTpm9ubfbVoF7OKwPZus7m926WKqpG1GSSjaYJaTruu399Us9nzs9Uvf3r+5VNtFUxdDEKEEKu7Xfftd6+/+vr7P337+s2HXQrzthWd1R4qNGfv9/L7r7/t9ttFmPUns7ZBBSAlErWGVYUvrk5++Obmw5t3/Xaf8n6/vbv84kkQzT2kQjOrumxUdDfYbrckc58Ca4hYToDBMox1HUNECFNo2d1dyhsDsjPQHXd3d5vNpoCqPmfVqq5rd+/7or9yXdd9l0Vkv+tzzhKjeYlSaFNJ1yXSzZPnHHVMnmqaEELDxlHeoujupgzZPcYiGzZmJQ3lx7vN1p1KIW2EVgQymWzo6WUPOzh+WsHcZ9sfazJa4co/epKjawiQD/ipdH01WC5xVQ0hkGxCdXZ+Ol/OLp6cPLk8OT9fr09m6/V6Pl/OWjUgCugehJ5T7kK335YqkZJIQlDgwUWyzaoYJFyeta+erZ6eaasIyBJgfcp0c83uzay9vLpoFosXPXaZm55Z2qRN0vk3H9L27s3rd3dE3u/3dxtPzlkIQ7KK4+l5+9NXJ9325sP7rRlny8XPf/r8i5dXVQAFyZHdksvdBpvNdrPplbMSlBIHhSxVyANR7sXxHthzwB0y5mH6ob3lIUX4GLVOUbVpGQ9RX4VZyYShCKDFLFjwACBEye4UnzLgUxqM7NDxcUxPAuDGZjZQXzI2RKPi4LODJAOPoM5Q3lVuZWI+jt7QdRCm42wCF3dXCX9GnsqvBrNeTkgH+z7ngRkUUdR1VVXVaj67vLw4OV9fXV1cXZ2cna2Xq7aqomrQILEzQRIF6UGkL1VHbgK6i0LdXY2SKZaRUxN5vm4vL5pFC0FvqVMJMUaDZqCNdd3U5+enNiLGzmAc4ne/f1NZvvrNH/j27dv3d/ntze6mb6VCHIYQp2v87b+7fPZkfnuzB6xdxCcX69MF4sA7gyF0GbvO911KKfmYj+hemi+UfpATUzAOe+luIMO8FAuYUslKOIR6cH+Fl3qi8kfMnSgEcqEZM9w9ZqQgyG5ZXRQxxuyl2ZWEMNSp5pzMzJHd3TIADKlaXkCygKWH/cAsACUrbBCvj/Rb52MZmqTiSBVNBxwoqB/d7q2ho50ppfJCxBh1Nmtms9lqMT85XV1cnJ+erp9cnp6drlbr2WLRkkwppa7ve9t3O2Sr67qqKijauiozVG6nZHW4JXgOks9OZ8+vTk5WCABhJfTT99kEXsL4LE0tQMLcCAODuFFkrlDfpNT1yW739v3N/vvrVk8wC6BZyec5WeBkPofNMfY/FgKeM90QEnCzw9ub/aZzm95FWNKeAIqLQJUqH09cQ2EF3cq7Hvq+n/jxY5rKC2c9xcZG5KSqMcagLCVc5N5UPbs5c84paVVVRogghBBjlKHncQZK6XyeQtTlEinloR5HBu/Nj95zWepCPtLBEUe6dHL+ByR4SGg5vMn40JzliNs9nNMxRXgeCSWKoBAMQeqqXS5mMYbT09PT0/X5xeliMVuuZm1bV1VVVrO4JkfO3u1zzjmESgQGUENJihcW8toHboY5pd18cXJyKlGGBiZOMQRDduqBjgVyn81TVQWxDLhQBWgVbahijNVscZfzH1/fXJ7P2ybqHGoeaAGEexAJAgLZUIrsE3J2AXGzw1dv8PX3d+9v093OuJBSu+LuTiNdFCpHtDgQKD0nyYCPy68fMRRHMvOeVA3b8D4jYYBICCTpROqNiSKSNYuI5YFTresagAaJMdZ1PSa5D+l+Rarcy990930/+oYyZjEV1H/or34kVQfH/76CmSTmUyvpz+48PttBXQ1IUN2zSqiqsJwvZrPZfNGuVqvlerFYLKo46OScc9/TnTl5Fecq+2RIBoBdwi5jv9+jRM3USXct1jYbekMfag0NMpEdxkgiJ0cIHHtflarxJqq5uOXC/imEQO6w2+26vTHMbm+v//Ddh9NFdbG+Wi8Qgg4FWzRFjqVjtpvTCSWrztEbvnuHf/3T5qsf9rd7JgRFwFRuC3M3EQyvTx5pw/I6kAdKvfBVZZr1kaKahneIB8NVIwNFJAeD0CqLXdyFziv38vLtQgeWrvAh1HVd13WMkUMecxrFNE+JEpOicaHAvPiHQwLC8IpNGB+i9UlFlT615SUFQx3+gQY4/A1gyMEQjukFI+d+T0Yf9nrHyGCVQF9dx5PTxfn5+XI5XywWbduaZy++tFpOvrdsBlJms1YC3SUbndonbPe+2XVGczEHoEZzMjuToV+t5q66Tdg7AlkVYkNojjQkJFkUrTzYAA+C+RByMMeuQ+oFodrepb2Fdzfp91+/fbKcLeLybIZ1Ax8beJa35AiEZh3chHd7fP8e//Sbm1//5t331+jznIFEdEuUAZsOOnjEVVOOyaCoprwQR1EtxQJO+OuxYElpUQwv5i+EUNpKOaGaRCSH8goE5OyebbPZOB0wgSsRZAj7QqsC2AtVPrkIIQTSDa4UCMsrLeiUoF5Slu3TGcYsgYW/jLQiH4QDrcDNo9wGe1AEUdS3WyYhiljpbNas18v1yapt2xjjbrfr+z0wZCsMI88IBncM1h7uhj57zl5eNMoSqfbs6gCc6B2vrze/+67ru2oZsI6IhiAQhUHcRYhc6BrADRLRJbgiG246vN/grldjvdn3rnUiv327/4fffifJXj1pX11Vp3OUmpm9gQZTZJHOcb3FV6/9j9/e/f2//PCbr2421u4QsqsOgS8vwWnQStM8wRBTHZlh46OA2KgzBn9+FKmDonJ3KennoIgEiguFUNVs5goPNr2jXsRd2HWdBAIxhBAs6/iiyhBHYD5MX8nqRgglWDlB6mKmS+kH1Mxl7Lc+PgoLMBxcQgJjf22SLAUgLPTvgXkf2kePeKl8724QuI0OrsMsE9Di+49goTDJpb57uVyuVitVvbu7KzLTVLUyWF/KHVKXM8kb3IGMdRXbfdvWokj7pNB5Na9kkVyZnaRn6yWrVFpVN7v0f//DV/8cvFE2loNlAou2IdJIapcKFFXoYjbPbvuED3t7u83f3eXvt9yiXp7NzEy8N6u+epuur7/5LyEv2P+vf/fL81U1q5F7OJCJ2x1e33S//s0f323233/Yf7iTLWIKgdrMpEYoVV3GWFt/Q+b1ybxta4dHZXkzRc7ZRl4wO1WpqvP5smlmgKSUBGjaKkZNKe3dU0olQU+C9n0/Npl1MxOIiDIzMoSgUUPOuc8pWQboElbn65KavOu7LqdKQ4xRlZVVIYRYaRxJzZQ6N3PL5cXLY5RajtWtiuDwhlwccPpBAx0F8H4cME3bYEORAS9vG3ycilV85vu7D4wIDlAR085DrtXAplrOifSxGwosmSV3pOJZuRSdEIx8/X5TidfKa/FavHJTd/1/W/u25VaSHEkHEJFJUjo6Vd3Ta2v7/x+y7/sNa/uw1x7rqjo3icyIAHwfEJmidOo2PZMmk1ESRTIjkQhcHO4RBc+CmPx9kiUcFJaILyISUl9QnsM+D3xuvoWhFFIZGliCJcjBaLr81//233/8sJyKtREeQCkvzT9/bb9c23XIc7NblLAV9UyrQOlbD4bogPTwG6sHW4wmsuamh92rUyJQjpT8CG7SSR2+6vBSeO3e2N3aTt+YjGTGqQWvEGp4MH2M7MWtI6EDkJxYEZFgUZJkLMsSU4Ze7uhG3oTdr7PL+O0NT3lwbv3BMbO8PXEUYhIEQ49O6TvU7Hz3/fFcncnZTO7jb8equfvttrXWACSnEiO8dZIeHqJEqBaxjNyrAgqLgBPDhRjGsIDbHMYM5FD1hG+/vLxAhKZDrEt5cR3koNAtIuDWGV11BFvIi2A8vzx+i6KyjR5E9n++vvQu1gMhy7BFyhqivQfYzYw+hErQRItFNVNJ2mT9nZjjPtcJGGXHZ78L6gU5dnx8ZfIhIgpSqUzoFQWiKqWoRHJhJMMxDt4GelBGFr9I4juF8+8LHK9WtX+i7zrM/6GH7KOV726y+yV79Zf78G1EpAiXqiZGe3h/fvl2u91mX8gRMcYY9CCHlKWUqku1QofH8GIrqKA4Y4i4qyIQKZUkpAyGB50yJ/H1kSoiJSDdZXO0QASUKoGgktY8QqMTNylSPoSW8N57SdbkIFpZxSrERFRRBjCCncHh51pUl4LB0FL0YV0uS12qCUP4qsbByRnzBm6Fu7vrdebz7vgOSfN2/d9m9Jlt1lrVM8lCBnMzcIshIu752N+80V1id3y2I9ICUPah4nfonqT63OMeedNL/6et6vvfiGgKvL7+dl/Ow0s5EvkxG1Wjj+v12lqjLe4+fEhQwBjNodBRhKoKcnj3NpZSCR9BhTgpZM68nc9nMqW2zXOcXhGUb9tVqBFqMM4ZIBZR0l1VaQEhPZRD4YSWpUOCpaMHaGEiEiXrZiB0BD1leYuJTdbyZGgpxGp6KlIEGq6zDUhISoDlMiWWjZwUFQHAJIsG0wiPgjsZOxkr778o4gxO7NrcSCNcQmAChCAki9FEVI4xZUjUpOhBqhYAzuc1qS5TCVsnEkdqrcc1vFfIvT++ozm4O8hfKbv/yUNmovamEnbcBri7I984/IjkgVZVkXB30IsofXB4MTmtBg6w+yhdN5hCJMZo7XZeF4giCT8gIik3Zt+8MXQQEaNFOMVdBqxb3SsjJjl8SSik914AqjiVmrQhgqCUpblLIaUi1V6EVNu2TaCkj/DBAGBa1dbee5VwGRgbtRtWIzG6ignjUGAnODWb9k3xKHCnozmYq+591RvJt++umiNRD3fYhxBEtNF77956yknKxqIWTAAMs6F0uKKHh4c5yJXDKdlgwF5yA/AHTEO/sSf+0yZ1f4bH4/1jJcrqfZTg7mY5cWaiKiKlmIJmUmoxoSDWxT48rI+XRbvcvCMUYVIXM1nW2vw2ZzJDTGgCVQ0tFFDMUwRQBQhSkaCuDOmi08M4Z3hz7VJDnmo60wIbHu4RwyXB3+4iIjGBaCKQbI5EaCEIjdCioAujgIvIkmyTnMUXAhCLyV80q6IIRoy9yRFAqL2uEuHZY92D35Qr0CO0kiTtzonBI1oNRvB6vc6q/djcXYSqoiLemygl+bT2DVdEqonsId19tP6dr+KfGh/9Nx3ya92bt38l73qO93nfu+M+/BKRZM+ppRQTA6rEuZbHU/nx46lcQ24x0It4MbJWp13bNWvYBgbEVMRUFKN7gKlDlPxqYChYUgsXqec1cjxBRNwbNGNcy/kkgYZgeBLBwLJUMjccHLOdixUl3FxVqgqBRZEMMGvBedFTLUvJaiJil/l6u1zz3N+tYRruPtuZcdVvrvmRQsbdQcrtdnP31m+9d/cOUIUm2seWmG/Dq+kA2LZtN6miCtUiwpzPODAzJXkRfi31SKuX73fDd5Ea3lpDem+S7+rp7yL0Y40iIvua2dqc5x9xPp9V9Xq9eoxaFwBkr7TWOcY4n88vt/7pp39cHn/8+PRX0b9dLo//43///eX6C7Cy+a0/i9X18rhYGYRICCM5pAmQutYaER7RIsRDcpw1e1+jk4RKqSYiI3ofo7uLmGmxSYTPcCd5MnGEh0dMe9IksEpwYjhESynJqxveVtOqo3Csi/71w8PfPj6dq0W7ysPpw+PqPkrqhYiO0YtVAW633nsvpUTE6XS6Xp/N7MAU1FqTEux8PvfmJGeTAInXJxmI7GFY9D7G2LY2NZtb+/L5c/fWexdCFWrs3sP7qz5wvAb3Qoz+aVKtqanCMDF961pzyusOYfwf7av+8Hifj7ztPOC+QuPwDJTJiDifL6fTaTH90q/P375cv32+fHh6Ote6XNr24P3l+cYBbt6hqGwBKDm4400jFNRAEXEOhC/BMSm1nZSqEgXDgyqcHQYPGeUkEKhCQGWIWGgooUJVKmKGw5AMj1TuUf+iSA3C0GiL4VR4MXs618tqa7WiIvQsVx3z//dXJD378eO71nI+Pu5Y3XX6yNf2hogB3rtv25awvt5761trzTnVI4Kge3DcucBk2zr8jooiKbY0cepCQFTktl1THBOUEvsZpAIBgIMaa+5Q8iuB1B9a4e/vgN8/+S5Pluy6py5KRKggEf4C672rudDdvV9f2uZfn375y1/+8vjxhw8V7eXUb+unr9u1j2tzRxgtPAhL0OxUKxVRoshq8DGGDiIxRFBQT5dLCw7XIXSJIQy4SZASpI8RYZNEP7sESkPQG8e0ziBD9Hw+B+E8iIEIBiKKxknkYnFWVhKj9JtcxfvD2ROTAw1EgXDKpuTAzF1IvmMEDmPakeyvVyQiOGk8CGiAPpqI9O7X53a9XvfZitvtlnGnm4qZQJ3hiJEctYncEXllrgNinjhEICrKiADHaHc74Oj2yssAAA6jSURBVDQTfbcH/laUc9jBnzWZ3zjuV+GwqmPhEuvqe647xhARzbTu69eXlxcfPYZ7XG/Pn6PfHoqH2IeT/8uTnWq9dbk176EQ3VwcEoEIjeHI1Du4rhyEu7jT06gIQrWMhejqnd4ZQ1iKrxQz6x4cjNFFIGImWiBLMSIi1N09UusLJAU3Dyro7tlRM0YRPxUsCB0+vL0MfrXbg53NZXxcPWB3PIiZt3N323vtwCef/ltWlndZTjAy1/OAM5zSezdYa+P6fE0ayNZaa9vtdlULM5FiooQHMRBD9JjYO2S3FPCJAd1Hu6ZWIJE15SRr/7Uc8C0n8W9Zw2/FVX/yeDUpWALyd7HXCXQXkT2EF3c3MzW4+//7+7/+46dPn3/+5eXb1+7y+Pnn29efx8fTcjl/XFH+dgmao7aBbYTTRItnw8EJDx9MGu1SlsEI5xgRvoPpYN+uNw+MwAjvGIEMN6hanOF9IkREpMBUpF1vmIL11T016IXErW27NTgAVTVFAZ4uJ41+e76+fP30NdqCl4f6tPDU+0AmjYDEnPgzwCevLknPu4skTLNghbk5Zh1rr0qQETGG9+Yj2MdwSO8d1NHay/PLdr217n1s7XZr/VYWWU+lTAZDerjCj1cDU2TrLrUSTCf4evF1pyMi5LCq75pHf2gN//6DEzoY8n2lGHilxcFhXoiI6/X68u25tSYii2kVim/sL+ryeMLlcrJyElscsnWMEetJj9sk8suRqqcBjA4PROSoL4KI+BBATJcDVVhFKfNpd+uYowD4/PkmkomhkkxdwqMmNMZwHwiKsghM8fTh8fn5+e//R/7nt5++ff78TbbnC07m7t4dpnP8gHQFji5DvhrumhMzq9fdL93BLQcZwdGjDd9a690HI7nHx9a3bbttvfe+bVvbrq3fVpRSheUYBctt19NYlMoEE6Q+zB7CIYEIc2IqK7T5+B4JIzFT2D/T8Ls/3mLY/w3/t2MljoCdByOoUncSAujkGxERMh4fH7fbUFsRqHX94YenHz5cTlWfv/wkiZexFWUhltGi9179hNkKUaUENeej28uNKFsfHtrDZ8YqsixLUSU8xysWq6uVWnFe9u6DzZjCAyS+PZ5UckvKGDk58XG71YgsikPFl6K1ihmk4MuXE25fP/3f8vLLiHHr7eaxjjGOG9bBIkloBxwkqLvpiEgRLfJ+ByQpphgENVyHy+jR2thG90FVA9A8Wvetj9EmsrT3rVaZ9BsTkLOXqoGUtRGRySPCROSCSVyQeGwJhoBDYITjjr3jj33Vn8kT31Qc/sxxpK13Gc3xUnLXWjoekBTlspbTcl6W5Xw5uffnr18+ff0ZqhQ4QRSi9u6996WYzpJLoagPknDKly8vwzlCRtDjdUNv7TY14AMGWZbl4XJa1+VyWkpRKwKDWJYJOKj/+OmzitW6zhtD5uXvvQtMlEuxy/m0nE9VT7Wc10WG4WJjFV/VT2aXxR7WIhEab65BIHvn4rNS8xZR8rpi866eyKX0dFBSukd3jh5jeK0GgJFoxsg0wplE5NmgS8eTWtMS4WZ2jylg8ngkpo+Ygy1Jey9UUewJZ7nrwR1qzG8/tMgrJPH4JVMx7rvYi6nqvP/wWqCam/CsFL92ZmL0tn788C9//dFMet9ExN2FFi3Wdb030210Eb3dXkQA6d1pjK3jf/3987Zdk7mQIloqqG349eV2u16XZcmizvn08PDwwcy2rW+31lrbtn7dbgypdV3Xc61VhL1vBouIl61766r6swLA+Xy+3p4vl4uqXts19+KgtS0iOGKfZkHkxhf0ZSmXy+XDw/nx8fF8Xtd1LVoj8HJt3748fzzh9F/+clrqX5/OT+f6n3582p6fz3YREwLX7VZrFdjW2u3aKfrt28unT5+en58vD+f1YX14erClmMl2bd0HRccYoLl7QChwxghGULUu6yJi27Zdt9Y9SGkjbrett+Zj1Pp4WU9VJaITQ4RCV8LdBeY7bZpIyna8Yz7ed7i8TMJw3xldqfj1WuhhpH9YR/i+IvzrfkveNJOxLMu61lJ0WZZSSoZT1co0xvevwMeHs6pmH6EuCqNRrBaOQTFT1WICo8DXCsbldCZhZufz+eFyKqVczqs3L6VkpyIiVMq6npZlMbNv1+daKwV96713iJgZI758+QIup6WKiOI0YhhEtcijDQLUUsqyLFYkDatWU0MptlhRVZgqHSNOy1LOVlFP9mG0uiz16ePDh4fzx4fzZa02b3mRUqlG7kWM6U1fSwz7HXufNqmDFEQIOdnvODkOsyK9d6OzeT/BSkdyJtkL4lEZSwGLt2AH4E1s/eYqy4xeXqN1Uf21IrveFdmBJLTl/EPs7vGAm92/UyRm6w2WKl0VX38izCx1p+Wu2aSasc67f4WQT09PZbnWq4XDasndwYZKrU6aaSkmVhJGLYyPP3xgiKqez+fHx4fL6SQiiFnjyYxdZI4D1LIuy39elkUNvXnvPZHkEZGjw+u6UmyMAWCMoVoeHx/Th6/rejqt61rV9rpADnLtvFPujn0+PVUeWmsQLsuy1vL08VJsZ3A8alH76UeMQ1PDdxAw+R7hGLvBYW5NM1uT3bBITtzbnXXGgZxKk5LJZaV7bzuObsrk6ZjRFfbb/t624p/TB+TvsVa9vtMfvgh2FF76jNZaXozWGuKVFvzN84mHh4c83YTVgjGUqkKPoslGpJZUC1ZYY9uu2etVjKWgaNRaq+jwTYqtphECUNWL+mJxXmRd1cy8aGuEGCR8MJpF0cUEBlcxKxFWazVjOpe1xmXF6QQrk6CHZErzkRJh7iB1XcsMhPFhDM8Cb1WrZa5+0iOqHMEChBhjtNbu4aC5LEcdS0Ri52F/68xmvga8okljJ23HTH8j4A7FO4jufhgk8JqBHhPIhzHdX3H959WRJGLPCH7zKQTeGWnKXs4XmL877t10AKrq7n4HHnrzanRVFJVqipABSjCj51BCYAITMZEAkhi4b1fuuGdREr6uq6u6exFlKdM9ZCci5Hbt4MnMog93D8nrQe/P7i8RXmA5GwaLaqIaEQ6Co3sbrie4iNiy5NoykVKBoSk8MAZspm9WUHPMNafEwt0pTJ40IV/9Qd9GtoHzH7NjDfejlpVPS1KXCPo0Hd+d2auRHSaVy54V4lzkkBwB58yLsBc/M2iXAFUmzwpyI71TMZqbEONXq6ASv28uJP8oF/xTR55trXUnm3vd/u7BOm8+mshRuQHy5pKcu2UnFboPq5hQEYiUHZtIbUSM1kwJ0TGaewkvRVMH2UYfGH1ZltECajkpJSJiyojt+q29vCwKlFWVymzkQs2YA4shgha+5Yfn5bLv6ZZQnIgIeF1O2ZbMJEgECgPg4bPNMpVXNKkrEwa9bVtaFUkzy9HQiNiVx+YREYSQgKRpHb4qAYuv7mr/QyT5inMEam6ZcReC5W+ypiPZ5Xsdfbn//uYavZ1dxmFPf7Yo+k8chw8TEc646pWP8LcKDRnIKRGj0bvQRbNfKLWo6exApUVSJMaUvct6NASB3m6MMfqmqlqLjt7ddFmWuhgi6OhxBS+gZzF6cAp1RERRWWs5r8u6nqBMBIGZibBFCzqDowU8PJEXveWHyZARQEiQrLXGTg1FEdXkIWQwBDAzoQKgIBCi6mBEZMPucOfJBiMTuPU6WS6pIYIpJDkj8rlDvDbEDttK3TdHyj3kkx0SAgtJyNeOIlFo/JozuXdAu9/6zldJgLY/4zcdxp8Jv37nuL+97k/1iKCzRfPubTN4OGJVpBFRQ3Ufxs25NFVVuucaJMmMqla1rJC4Oz2KVYQ7LDhEShHx8BheHy0Hpi0sAmZSiorUz58/j+EjfEUgQcbhQOSwb74sAMF0pe4HYDK3rUhE6KSFUu4MCDmfRxExnWp+EeSOXcgQ/EhX8zVLKQDu50TuFnZy+R1ru7/O60Z5fxWyxgZMaDcB26vTrwhhKsCQELyG1Me/313XSW5TdIb/enC/zGtI5JYp1D2Ey/M0AAJ7gzW/yzxVlYIUU/nuhHF/krut4OnpqdaajJdpTNPB3HkvKFPCFUCEZxvEllprVSnAXGgAvfl1u27b1m6bt1HrWqyUMnunAhSr1croLYdJCkpVK8VyKvB2u/XuQYY7RCALERGhVsXYw7UYTIe71WWx4u7QogUm5u6jj/3UZsep2JI8Ee5wd4gn7pCi241DeimlFFHV1IeZHRh47tzu/nK7fvr06Xq90l2Bh9M5BLZURHcPBGP4GNGbp6kNj2zIZO1crYogYqQMeN607u7RxxjrSc/rSVV77ypRrKRwYebG2apJYDdgeT9hTn0eU/x5smnHkh0b3a1SNUH7xCygiioVyYA8mU7SMufcRBqiEoNhkJCQSMCNCh1UQZA5ErS/+/vyEyYXdLZDiCmuoaKqEqSIJaxpt9oMvSSFSuZIGZU0mZmzqSqypTfLNzJl2FVVTaSomdmyXoqgVjufz+u6FhOSXry1MXfno2uhFvTmo/mo7s2HUvO6wMIsNQ2VjP37vMsZEmR4H8NJ9t7HGH+rS7Ij5vRBLhkCy1IBiiZeiRqisvOUeXd3xECKfKlajlPMa5rXLizZ6nLvi0jVYREBPV9YEGDPCyd0ZShgMCWUCpjkxYKl49oxC6mpNKGI2akh33op7FJuJIAik55Zk/ZdZTbNhDbZ43NI7ZhtnHODAgBBVUHQJpGtCkWhoDhUcm4x41HuxSoi+a5edzGiSClSTAzErAJQJ+MIoEgtAgJAiKqYaIgFgRA6hAGIQSASjIhhDM10yB0RlEE3mJhYES0KRVzWh2q6LMu6rstaimgIIqK3b4qsdemUQg4q1Zt76922cRqqOsZQVRovlyoREqJUBmWSfU2F8QMcIpk3BzmccAKiYATB4UGzqhoSiURIWIAl3rwP9u7bLUYXRrFSzIoaSAQkJN/amZVSISnOBNBIuEYgp0EiNIbG0OhgFwwwJFxZDGqsSA5iVDAC2KH3SHuiChnZdcDcMfYrNFuEJJmN5/8PXcHSrkmcNLEAAAAASUVORK5CYII=)"
      ]
    },
    {
      "cell_type": "code",
      "execution_count": null,
      "metadata": {
        "colab": {
          "base_uri": "https://localhost:8080/"
        },
        "id": "Ywubt6AfODug",
        "outputId": "aedab446-26f0-4fb0-a267-6fd6ad301395"
      },
      "outputs": [
        {
          "name": "stdout",
          "output_type": "stream",
          "text": [
            "{'filename': '2.png', 'boxes': [{'height': 32.0, 'label': 2.0, 'left': 77.0, 'top': 29.0, 'width': 23.0}, {'height': 32.0, 'label': 3.0, 'left': 98.0, 'top': 25.0, 'width': 26.0}]}\n"
          ]
        }
      ],
      "source": [
        "print(train_data[1])"
      ]
    },
    {
      "cell_type": "markdown",
      "metadata": {
        "id": "9hA2_Y4BF1nH"
      },
      "source": [
        "# DEFINITION AND CONVERTION OF THE DATA\n",
        "1- Now we will build a two Dataset object for each directory where it load the the images and convert them to numpy ndarrays so we can read the images later, we using numpy and PIL to proccess the images."
      ]
    },
    {
      "cell_type": "code",
      "execution_count": null,
      "metadata": {
        "colab": {
          "base_uri": "https://localhost:8080/"
        },
        "id": "SE1_WpP6Hx4z",
        "outputId": "ab155b75-df8f-4e2d-f86b-2c81c3de5d2e"
      },
      "outputs": [
        {
          "name": "stdout",
          "output_type": "stream",
          "text": [
            "dataset: (33402, 64, 64)\n",
            "labels: (33402, 6)\n",
            "dataset: (13068, 64, 64)\n",
            "labels: (13068, 6)\n"
          ]
        }
      ],
      "source": [
        "import numpy as np\n",
        "from PIL import Image\n",
        "\n",
        "class Dataset:\n",
        "    \"\"\"crop images and save them to numpy ndarray\"\"\"\n",
        "\n",
        "    def __init__(self, digitStruct, folder):\n",
        "        self.digitStruct = digitStruct\n",
        "        self.folder = folder\n",
        "\n",
        "    def getDataset(self):\n",
        "        # init the dataset and labels\n",
        "        self.dataset = np.ndarray(shape=(len(self.digitStruct), 64, 64), dtype='float32')\n",
        "        self.labels = np.ones(shape=(len(self.digitStruct), 6), dtype='int') * 10 # 6 labels(max image in the data have 6 numbers), 10 represents none\n",
        "\n",
        "        for i in range(len(self.digitStruct)):\n",
        "\n",
        "            fin = os.path.join(self.folder, self.digitStruct[i]['filename'])\n",
        "            im = Image.open(fin)\n",
        "\n",
        "            boxes = self.digitStruct[i]['boxes']\n",
        "\n",
        "            if len(boxes) > 6:\n",
        "                print(fin, \"has more than 6 digits\")\n",
        "            else:\n",
        "                # get labels individually\n",
        "                self.labels[i,0:len(boxes)] = [int(j['label']) for j in boxes]\n",
        "\n",
        "            left = [j['left'] for j in boxes]\n",
        "            top = [j['top'] for j in boxes]\n",
        "            height = [j['height'] for j in boxes]\n",
        "            width = [j['width'] for j in boxes]\n",
        "\n",
        "            box = self.img_box(im, left, top, height, width)\n",
        "\n",
        "            size = (64, 64)\n",
        "            region = im.resize(size)\n",
        "            region = self.normalization(region)\n",
        "            self.dataset[i,:,:] = region[:,:]\n",
        "\n",
        "        print('dataset:',self.dataset.shape)\n",
        "        print('labels:',self.labels.shape)\n",
        "        return self.dataset, self.labels\n",
        "\n",
        "    def img_box(self, im, left, top, height, width):\n",
        "\n",
        "        im_left = min(left)\n",
        "        im_top = min(top)\n",
        "        im_height = max(top) + max(height) - im_top\n",
        "        im_width = max(left) + max(width) - im_left\n",
        "\n",
        "        im_top = im_top - im_height * 0.05 # a bit higher\n",
        "        im_left = im_left - im_width * 0.05 # a bit wider\n",
        "        im_bottom = min(im.size[1], im_top + im_height * 1.05)\n",
        "        im_right = min(im.size[0], im_left + im_width * 1.05)\n",
        "\n",
        "        return (im_left, im_top, im_right, im_bottom)\n",
        "\n",
        "\n",
        "    def normalization(self, img):\n",
        "        # convert RGB images to greyscale\n",
        "        im = np.dot(np.array(img, dtype='float32'), [0.299, 0.587, 0.114])\n",
        "\n",
        "        mean = np.mean(im, dtype='float32')\n",
        "        std = np.std(im, dtype='float32', ddof=1)\n",
        "        return (im - mean) / std\n",
        "\n",
        "train_dataset = Dataset(train_data, 'train')\n",
        "train_dataset, train_labels = train_dataset.getDataset()\n",
        "\n",
        "test_dataset = Dataset(test_data, 'test')\n",
        "test_dataset, test_labels = test_dataset.getDataset()"
      ]
    },
    {
      "cell_type": "markdown",
      "metadata": {
        "id": "6ICwEV8uT585"
      },
      "source": [
        "2- Now we should build the third dataset(Validation Dataset) to estimate the accuracy of the ML model concerned by spliting the training dataset.\n"
      ]
    },
    {
      "cell_type": "code",
      "execution_count": null,
      "metadata": {
        "colab": {
          "base_uri": "https://localhost:8080/"
        },
        "id": "dv5-5h16UdxU",
        "outputId": "58357240-dfe2-453c-c8bd-dc22f491d6b6"
      },
      "outputs": [
        {
          "name": "stdout",
          "output_type": "stream",
          "text": [
            "The dataset size after the spliting:\n",
            "(27402, 64, 64) (27402, 6)\n",
            "(6000, 64, 64) (6000, 6)\n"
          ]
        }
      ],
      "source": [
        "train_portion = 6000\n",
        "valid_dataset = train_dataset[:train_portion,:,:]\n",
        "valid_labels = train_labels[:train_portion]\n",
        "train_dataset = train_dataset[train_portion:,:,:]\n",
        "train_labels = train_labels[train_portion:]\n",
        "\n",
        "print(\"The dataset size after the spliting:\")\n",
        "print(train_dataset.shape, train_labels.shape)\n",
        "print(valid_dataset.shape, valid_labels.shape)"
      ]
    },
    {
      "cell_type": "markdown",
      "metadata": {
        "id": "9wUSAZ1LVOnr"
      },
      "source": [
        "3- Now we can see the final results of each image and there labels:"
      ]
    },
    {
      "cell_type": "code",
      "execution_count": null,
      "metadata": {
        "colab": {
          "base_uri": "https://localhost:8080/",
          "height": 449
        },
        "id": "xvYd_h1tVV4r",
        "outputId": "0c116b36-d77f-4f6a-8acc-87a132427647"
      },
      "outputs": [
        {
          "name": "stdout",
          "output_type": "stream",
          "text": [
            "Label for image: [ 9  5 10 10 10 10]\n"
          ]
        },
        {
          "data": {
            "image/png": "[encoded data removed]",
            "text/plain": [
              "<Figure size 640x480 with 1 Axes>"
            ]
          },
          "metadata": {},
          "output_type": "display_data"
        }
      ],
      "source": [
        "import matplotlib.pyplot as plt\n",
        "\n",
        "plt.figure()\n",
        "plt.imshow(train_dataset[101], cmap='gray')\n",
        "\n",
        "print(\"Label for image: {}\".format(train_labels[101]))"
      ]
    },
    {
      "cell_type": "markdown",
      "metadata": {
        "id": "LBGrR_FvfGXR"
      },
      "source": [
        "# CONSTRUCTION AND TRAINING THE MODEL\n",
        "1- now to the hard part, training the model, so first we need to use One-hot encoding technique to get one-hot array from each digit label so the machine learning algorithms can use the data."
      ]
    },
    {
      "cell_type": "code",
      "execution_count": null,
      "metadata": {
        "colab": {
          "base_uri": "https://localhost:8080/"
        },
        "id": "1CoaDUBAhATV",
        "outputId": "59cfc4dd-8606-48fc-e790-65e1ae8ea1be"
      },
      "outputs": [
        {
          "name": "stdout",
          "output_type": "stream",
          "text": [
            "(27402, 11)\n"
          ]
        }
      ],
      "source": [
        "from keras.utils import np_utils\n",
        "\n",
        "possible_classes = 11 # from 0 to 10\n",
        "\n",
        "def convert_labels(labels):\n",
        "\n",
        "    # As per Keras conventions, the multiple labels need to be of the form [array_digit1,...6]\n",
        "    # Each digit array will be of shape (60000,11)\n",
        "\n",
        "    # Declare output ndarrays\n",
        "    # 6 for digits, 11 for possible classes\n",
        "    dig0_arr = np.ndarray(shape=(len(labels),possible_classes))\n",
        "    dig1_arr = np.ndarray(shape=(len(labels),possible_classes))\n",
        "    dig2_arr = np.ndarray(shape=(len(labels),possible_classes))\n",
        "    dig3_arr = np.ndarray(shape=(len(labels),possible_classes))\n",
        "    dig4_arr = np.ndarray(shape=(len(labels),possible_classes))\n",
        "    dig5_arr = np.ndarray(shape=(len(labels),possible_classes))\n",
        "\n",
        "    for index,label in enumerate(labels):\n",
        "\n",
        "        # Using np_utils from keras to convert, each label is a row in one-hot array\n",
        "        dig0_arr[index,:] = np_utils.to_categorical(label[0],possible_classes)\n",
        "        dig1_arr[index,:] = np_utils.to_categorical(label[1],possible_classes)\n",
        "        dig2_arr[index,:] = np_utils.to_categorical(label[2],possible_classes)\n",
        "        dig3_arr[index,:] = np_utils.to_categorical(label[3],possible_classes)\n",
        "        dig4_arr[index,:] = np_utils.to_categorical(label[4],possible_classes)\n",
        "        dig5_arr[index,:] = np_utils.to_categorical(label[5],possible_classes)\n",
        "\n",
        "    return [dig0_arr,dig1_arr,dig2_arr,dig3_arr,dig4_arr,dig5_arr]\n",
        "\n",
        "train_labels = convert_labels(train_labels)\n",
        "test_labels = convert_labels(test_labels)\n",
        "valid_labels = convert_labels(valid_labels)\n",
        "\n",
        "# Checking the shape of the OHE array for the first digit position\n",
        "print(np.shape(train_labels[0]))"
      ]
    },
    {
      "cell_type": "markdown",
      "metadata": {
        "id": "HRdogZIfhT9s"
      },
      "source": [
        "2- Now We need to Reshape image data to be processed by Keras."
      ]
    },
    {
      "cell_type": "code",
      "execution_count": null,
      "metadata": {
        "colab": {
          "base_uri": "https://localhost:8080/"
        },
        "id": "3GpRpqDohbqk",
        "outputId": "d53145dd-a5bd-46cb-b3bf-84b9866d4ab2"
      },
      "outputs": [
        {
          "name": "stdout",
          "output_type": "stream",
          "text": [
            "(27402, 64, 64, 1)\n",
            "(13068, 64, 64, 1)\n"
          ]
        }
      ],
      "source": [
        "def prep_data_keras(img_data):\n",
        "\n",
        "    # Reshaping data for keras, with tensorflow as backend\n",
        "    img_data = img_data.reshape(len(img_data), 64, 64, 1)\n",
        "\n",
        "    # Converting everything to floats\n",
        "    img_data = img_data.astype('float32')\n",
        "\n",
        "    # Normalizing values between 0 and 1\n",
        "    img_data /= 255\n",
        "\n",
        "    return img_data\n",
        "\n",
        "train_images = prep_data_keras(train_dataset)\n",
        "test_images = prep_data_keras(test_dataset)\n",
        "valid_images = prep_data_keras(valid_dataset)\n",
        "# train_images = train_dataset\n",
        "# test_images = test_dataset\n",
        "# valid_images = valid_dataset\n",
        "\n",
        "\n",
        "print(np.shape(train_images))\n",
        "print(np.shape(test_images))"
      ]
    },
    {
      "cell_type": "markdown",
      "metadata": {
        "id": "-6T2DHWgizze"
      },
      "source": [
        "3- Now We build the deep learning model to process data."
      ]
    },
    {
      "cell_type": "code",
      "execution_count": null,
      "metadata": {
        "colab": {
          "base_uri": "https://localhost:8080/"
        },
        "id": "71GuK17vi74K",
        "outputId": "ffb070f1-58eb-4f88-cdd8-1c83c39478cf"
      },
      "outputs": [
        {
          "name": "stdout",
          "output_type": "stream",
          "text": [
            "Model: \"model\"\n",
            "__________________________________________________________________________________________________\n",
            " Layer (type)                   Output Shape         Param #     Connected to                     \n",
            "==================================================================================================\n",
            " input_1 (InputLayer)           [(None, 64, 64, 1)]  0           []                               \n",
            "                                                                                                  \n",
            " conv2d (Conv2D)                (None, 64, 64, 32)   288         ['input_1[0][0]']                \n",
            "                                                                                                  \n",
            " batch_normalization (BatchNorm  (None, 64, 64, 32)  128         ['conv2d[0][0]']                 \n",
            " alization)                                                                                       \n",
            "                                                                                                  \n",
            " activation (Activation)        (None, 64, 64, 32)   0           ['batch_normalization[0][0]']    \n",
            "                                                                                                  \n",
            " conv2d_1 (Conv2D)              (None, 64, 64, 32)   9216        ['activation[0][0]']             \n",
            "                                                                                                  \n",
            " batch_normalization_1 (BatchNo  (None, 64, 64, 32)  128         ['conv2d_1[0][0]']               \n",
            " rmalization)                                                                                     \n",
            "                                                                                                  \n",
            " activation_1 (Activation)      (None, 64, 64, 32)   0           ['batch_normalization_1[0][0]']  \n",
            "                                                                                                  \n",
            " max_pooling2d (MaxPooling2D)   (None, 32, 32, 32)   0           ['activation_1[0][0]']           \n",
            "                                                                                                  \n",
            " dropout (Dropout)              (None, 32, 32, 32)   0           ['max_pooling2d[0][0]']          \n",
            "                                                                                                  \n",
            " conv2d_2 (Conv2D)              (None, 30, 30, 64)   18432       ['dropout[0][0]']                \n",
            "                                                                                                  \n",
            " batch_normalization_2 (BatchNo  (None, 30, 30, 64)  256         ['conv2d_2[0][0]']               \n",
            " rmalization)                                                                                     \n",
            "                                                                                                  \n",
            " activation_2 (Activation)      (None, 30, 30, 64)   0           ['batch_normalization_2[0][0]']  \n",
            "                                                                                                  \n",
            " conv2d_3 (Conv2D)              (None, 30, 30, 64)   36864       ['activation_2[0][0]']           \n",
            "                                                                                                  \n",
            " batch_normalization_3 (BatchNo  (None, 30, 30, 64)  256         ['conv2d_3[0][0]']               \n",
            " rmalization)                                                                                     \n",
            "                                                                                                  \n",
            " activation_3 (Activation)      (None, 30, 30, 64)   0           ['batch_normalization_3[0][0]']  \n",
            "                                                                                                  \n",
            " max_pooling2d_1 (MaxPooling2D)  (None, 15, 15, 64)  0           ['activation_3[0][0]']           \n",
            "                                                                                                  \n",
            " dropout_1 (Dropout)            (None, 15, 15, 64)   0           ['max_pooling2d_1[0][0]']        \n",
            "                                                                                                  \n",
            " conv2d_4 (Conv2D)              (None, 13, 13, 128)  73728       ['dropout_1[0][0]']              \n",
            "                                                                                                  \n",
            " batch_normalization_4 (BatchNo  (None, 13, 13, 128)  512        ['conv2d_4[0][0]']               \n",
            " rmalization)                                                                                     \n",
            "                                                                                                  \n",
            " activation_4 (Activation)      (None, 13, 13, 128)  0           ['batch_normalization_4[0][0]']  \n",
            "                                                                                                  \n",
            " conv2d_5 (Conv2D)              (None, 13, 13, 128)  147456      ['activation_4[0][0]']           \n",
            "                                                                                                  \n",
            " batch_normalization_5 (BatchNo  (None, 13, 13, 128)  512        ['conv2d_5[0][0]']               \n",
            " rmalization)                                                                                     \n",
            "                                                                                                  \n",
            " activation_5 (Activation)      (None, 13, 13, 128)  0           ['batch_normalization_5[0][0]']  \n",
            "                                                                                                  \n",
            " max_pooling2d_2 (MaxPooling2D)  (None, 6, 6, 128)   0           ['activation_5[0][0]']           \n",
            "                                                                                                  \n",
            " dropout_2 (Dropout)            (None, 6, 6, 128)    0           ['max_pooling2d_2[0][0]']        \n",
            "                                                                                                  \n",
            " conv2d_6 (Conv2D)              (None, 4, 4, 256)    294912      ['dropout_2[0][0]']              \n",
            "                                                                                                  \n",
            " batch_normalization_6 (BatchNo  (None, 4, 4, 256)   1024        ['conv2d_6[0][0]']               \n",
            " rmalization)                                                                                     \n",
            "                                                                                                  \n",
            " activation_6 (Activation)      (None, 4, 4, 256)    0           ['batch_normalization_6[0][0]']  \n",
            "                                                                                                  \n",
            " conv2d_7 (Conv2D)              (None, 4, 4, 256)    589824      ['activation_6[0][0]']           \n",
            "                                                                                                  \n",
            " batch_normalization_7 (BatchNo  (None, 4, 4, 256)   1024        ['conv2d_7[0][0]']               \n",
            " rmalization)                                                                                     \n",
            "                                                                                                  \n",
            " activation_7 (Activation)      (None, 4, 4, 256)    0           ['batch_normalization_7[0][0]']  \n",
            "                                                                                                  \n",
            " max_pooling2d_3 (MaxPooling2D)  (None, 2, 2, 256)   0           ['activation_7[0][0]']           \n",
            "                                                                                                  \n",
            " dropout_3 (Dropout)            (None, 2, 2, 256)    0           ['max_pooling2d_3[0][0]']        \n",
            "                                                                                                  \n",
            " flatten (Flatten)              (None, 1024)         0           ['dropout_3[0][0]']              \n",
            "                                                                                                  \n",
            " dense (Dense)                  (None, 2056)         2107400     ['flatten[0][0]']                \n",
            "                                                                                                  \n",
            " dropout_4 (Dropout)            (None, 2056)         0           ['dense[0][0]']                  \n",
            "                                                                                                  \n"
          ]
        },
        {
          "name": "stdout",
          "output_type": "stream",
          "text": [
            " dense_1 (Dense)                (None, 11)           22627       ['dropout_4[0][0]']              \n",
            "                                                                                                  \n",
            " dense_2 (Dense)                (None, 11)           22627       ['dropout_4[0][0]']              \n",
            "                                                                                                  \n",
            " dense_3 (Dense)                (None, 11)           22627       ['dropout_4[0][0]']              \n",
            "                                                                                                  \n",
            " dense_4 (Dense)                (None, 11)           22627       ['dropout_4[0][0]']              \n",
            "                                                                                                  \n",
            " dense_5 (Dense)                (None, 11)           22627       ['dropout_4[0][0]']              \n",
            "                                                                                                  \n",
            " dense_6 (Dense)                (None, 11)           22627       ['dropout_4[0][0]']              \n",
            "                                                                                                  \n",
            "==================================================================================================\n",
            "Total params: 3,417,722\n",
            "Trainable params: 3,415,802\n",
            "Non-trainable params: 1,920\n",
            "__________________________________________________________________________________________________\n",
            "None\n",
            "Epoch 1/100\n",
            "857/857 [==============================] - 236s 271ms/step - loss: 5.8353 - dense_1_loss: 2.1026 - dense_2_loss: 2.2714 - dense_3_loss: 1.1919 - dense_4_loss: 0.2569 - dense_5_loss: 0.0082 - dense_6_loss: 0.0042 - dense_1_accuracy: 0.2573 - dense_2_accuracy: 0.2388 - dense_3_accuracy: 0.7340 - dense_4_accuracy: 0.9626 - dense_5_accuracy: 0.9987 - dense_6_accuracy: 0.9992 - val_loss: 5.5863 - val_dense_1_loss: 2.0036 - val_dense_2_loss: 2.1615 - val_dense_3_loss: 1.1666 - val_dense_4_loss: 0.2508 - val_dense_5_loss: 0.0028 - val_dense_6_loss: 0.0012 - val_dense_1_accuracy: 0.2748 - val_dense_2_accuracy: 0.2548 - val_dense_3_accuracy: 0.7275 - val_dense_4_accuracy: 0.9620 - val_dense_5_accuracy: 0.9998 - val_dense_6_accuracy: 1.0000\n",
            "Epoch 2/100\n",
            "857/857 [==============================] - 242s 283ms/step - loss: 5.1108 - dense_1_loss: 1.8120 - dense_2_loss: 2.0462 - dense_3_loss: 1.0327 - dense_4_loss: 0.2138 - dense_5_loss: 0.0051 - dense_6_loss: 9.6994e-04 - dense_1_accuracy: 0.3634 - dense_2_accuracy: 0.2804 - dense_3_accuracy: 0.7367 - dense_4_accuracy: 0.9635 - dense_5_accuracy: 0.9997 - dense_6_accuracy: 1.0000 - val_loss: 4.4933 - val_dense_1_loss: 1.4589 - val_dense_2_loss: 1.7887 - val_dense_3_loss: 1.0327 - val_dense_4_loss: 0.2112 - val_dense_5_loss: 0.0018 - val_dense_6_loss: 1.4315e-05 - val_dense_1_accuracy: 0.5043 - val_dense_2_accuracy: 0.3583 - val_dense_3_accuracy: 0.7283 - val_dense_4_accuracy: 0.9620 - val_dense_5_accuracy: 0.9998 - val_dense_6_accuracy: 1.0000\n",
            "Epoch 3/100\n",
            "857/857 [==============================] - 249s 291ms/step - loss: 3.7438 - dense_1_loss: 1.1873 - dense_2_loss: 1.5102 - dense_3_loss: 0.8558 - dense_4_loss: 0.1859 - dense_5_loss: 0.0038 - dense_6_loss: 7.7801e-04 - dense_1_accuracy: 0.6063 - dense_2_accuracy: 0.4763 - dense_3_accuracy: 0.7507 - dense_4_accuracy: 0.9634 - dense_5_accuracy: 0.9997 - dense_6_accuracy: 1.0000 - val_loss: 3.5561 - val_dense_1_loss: 0.9987 - val_dense_2_loss: 1.4093 - val_dense_3_loss: 0.9257 - val_dense_4_loss: 0.2202 - val_dense_5_loss: 0.0021 - val_dense_6_loss: 1.0184e-04 - val_dense_1_accuracy: 0.6782 - val_dense_2_accuracy: 0.5182 - val_dense_3_accuracy: 0.7295 - val_dense_4_accuracy: 0.9623 - val_dense_5_accuracy: 0.9998 - val_dense_6_accuracy: 1.0000\n",
            "Epoch 4/100\n",
            "857/857 [==============================] - 268s 313ms/step - loss: 3.0134 - dense_1_loss: 0.9054 - dense_2_loss: 1.1980 - dense_3_loss: 0.7376 - dense_4_loss: 0.1682 - dense_5_loss: 0.0035 - dense_6_loss: 6.7723e-04 - dense_1_accuracy: 0.7103 - dense_2_accuracy: 0.6006 - dense_3_accuracy: 0.7757 - dense_4_accuracy: 0.9637 - dense_5_accuracy: 0.9997 - dense_6_accuracy: 1.0000 - val_loss: 2.5886 - val_dense_1_loss: 0.7483 - val_dense_2_loss: 1.0535 - val_dense_3_loss: 0.6306 - val_dense_4_loss: 0.1546 - val_dense_5_loss: 0.0016 - val_dense_6_loss: 2.6142e-05 - val_dense_1_accuracy: 0.7722 - val_dense_2_accuracy: 0.6578 - val_dense_3_accuracy: 0.8090 - val_dense_4_accuracy: 0.9640 - val_dense_5_accuracy: 0.9998 - val_dense_6_accuracy: 1.0000\n",
            "Epoch 5/100\n",
            "857/857 [==============================] - 297s 346ms/step - loss: 2.6058 - dense_1_loss: 0.7724 - dense_2_loss: 1.0342 - dense_3_loss: 0.6441 - dense_4_loss: 0.1517 - dense_5_loss: 0.0028 - dense_6_loss: 4.3481e-04 - dense_1_accuracy: 0.7562 - dense_2_accuracy: 0.6593 - dense_3_accuracy: 0.8017 - dense_4_accuracy: 0.9647 - dense_5_accuracy: 0.9997 - dense_6_accuracy: 1.0000 - val_loss: 2.2901 - val_dense_1_loss: 0.6627 - val_dense_2_loss: 0.8987 - val_dense_3_loss: 0.5797 - val_dense_4_loss: 0.1475 - val_dense_5_loss: 0.0015 - val_dense_6_loss: 1.8198e-05 - val_dense_1_accuracy: 0.7995 - val_dense_2_accuracy: 0.7102 - val_dense_3_accuracy: 0.8260 - val_dense_4_accuracy: 0.9663 - val_dense_5_accuracy: 0.9998 - val_dense_6_accuracy: 1.0000\n",
            "Epoch 6/100\n",
            "857/857 [==============================] - 275s 321ms/step - loss: 2.3694 - dense_1_loss: 0.6945 - dense_2_loss: 0.9357 - dense_3_loss: 0.5934 - dense_4_loss: 0.1422 - dense_5_loss: 0.0032 - dense_6_loss: 4.3776e-04 - dense_1_accuracy: 0.7825 - dense_2_accuracy: 0.6954 - dense_3_accuracy: 0.8179 - dense_4_accuracy: 0.9661 - dense_5_accuracy: 0.9997 - dense_6_accuracy: 1.0000 - val_loss: 2.1000 - val_dense_1_loss: 0.6106 - val_dense_2_loss: 0.8295 - val_dense_3_loss: 0.5233 - val_dense_4_loss: 0.1345 - val_dense_5_loss: 0.0020 - val_dense_6_loss: 3.5283e-05 - val_dense_1_accuracy: 0.8112 - val_dense_2_accuracy: 0.7372 - val_dense_3_accuracy: 0.8448 - val_dense_4_accuracy: 0.9687 - val_dense_5_accuracy: 0.9998 - val_dense_6_accuracy: 1.0000\n",
            "Epoch 7/100\n",
            "857/857 [==============================] - 233s 272ms/step - loss: 2.1587 - dense_1_loss: 0.6344 - dense_2_loss: 0.8505 - dense_3_loss: 0.5406 - dense_4_loss: 0.1298 - dense_5_loss: 0.0029 - dense_6_loss: 4.7404e-04 - dense_1_accuracy: 0.8009 - dense_2_accuracy: 0.7252 - dense_3_accuracy: 0.8343 - dense_4_accuracy: 0.9679 - dense_5_accuracy: 0.9997 - dense_6_accuracy: 1.0000 - val_loss: 1.9980 - val_dense_1_loss: 0.5988 - val_dense_2_loss: 0.7851 - val_dense_3_loss: 0.4801 - val_dense_4_loss: 0.1315 - val_dense_5_loss: 0.0024 - val_dense_6_loss: 4.2019e-05 - val_dense_1_accuracy: 0.8237 - val_dense_2_accuracy: 0.7505 - val_dense_3_accuracy: 0.8552 - val_dense_4_accuracy: 0.9695 - val_dense_5_accuracy: 0.9998 - val_dense_6_accuracy: 1.0000\n",
            "Epoch 8/100\n",
            "857/857 [==============================] - 234s 274ms/step - loss: 2.0228 - dense_1_loss: 0.5932 - dense_2_loss: 0.7961 - dense_3_loss: 0.5079 - dense_4_loss: 0.1227 - dense_5_loss: 0.0025 - dense_6_loss: 3.2678e-04 - dense_1_accuracy: 0.8164 - dense_2_accuracy: 0.7431 - dense_3_accuracy: 0.8440 - dense_4_accuracy: 0.9687 - dense_5_accuracy: 0.9997 - dense_6_accuracy: 1.0000 - val_loss: 1.9777 - val_dense_1_loss: 0.5853 - val_dense_2_loss: 0.7665 - val_dense_3_loss: 0.4862 - val_dense_4_loss: 0.1383 - val_dense_5_loss: 0.0014 - val_dense_6_loss: 8.6784e-06 - val_dense_1_accuracy: 0.8212 - val_dense_2_accuracy: 0.7595 - val_dense_3_accuracy: 0.8487 - val_dense_4_accuracy: 0.9668 - val_dense_5_accuracy: 0.9998 - val_dense_6_accuracy: 1.0000\n",
            "Epoch 9/100\n",
            "857/857 [==============================] - 234s 273ms/step - loss: 1.9022 - dense_1_loss: 0.5591 - dense_2_loss: 0.7483 - dense_3_loss: 0.4783 - dense_4_loss: 0.1135 - dense_5_loss: 0.0026 - dense_6_loss: 3.7862e-04 - dense_1_accuracy: 0.8284 - dense_2_accuracy: 0.7582 - dense_3_accuracy: 0.8522 - dense_4_accuracy: 0.9711 - dense_5_accuracy: 0.9997 - dense_6_accuracy: 1.0000 - val_loss: 1.7963 - val_dense_1_loss: 0.5458 - val_dense_2_loss: 0.6952 - val_dense_3_loss: 0.4391 - val_dense_4_loss: 0.1143 - val_dense_5_loss: 0.0019 - val_dense_6_loss: 5.7381e-05 - val_dense_1_accuracy: 0.8383 - val_dense_2_accuracy: 0.7827 - val_dense_3_accuracy: 0.8690 - val_dense_4_accuracy: 0.9727 - val_dense_5_accuracy: 0.9998 - val_dense_6_accuracy: 1.0000\n"
          ]
        },
        {
          "name": "stdout",
          "output_type": "stream",
          "text": [
            "Epoch 10/100\n",
            "857/857 [==============================] - 233s 272ms/step - loss: 1.7887 - dense_1_loss: 0.5306 - dense_2_loss: 0.7061 - dense_3_loss: 0.4460 - dense_4_loss: 0.1036 - dense_5_loss: 0.0019 - dense_6_loss: 4.3501e-04 - dense_1_accuracy: 0.8379 - dense_2_accuracy: 0.7689 - dense_3_accuracy: 0.8610 - dense_4_accuracy: 0.9729 - dense_5_accuracy: 0.9997 - dense_6_accuracy: 1.0000 - val_loss: 1.8437 - val_dense_1_loss: 0.5560 - val_dense_2_loss: 0.7305 - val_dense_3_loss: 0.4312 - val_dense_4_loss: 0.1235 - val_dense_5_loss: 0.0024 - val_dense_6_loss: 1.6288e-05 - val_dense_1_accuracy: 0.8280 - val_dense_2_accuracy: 0.7652 - val_dense_3_accuracy: 0.8712 - val_dense_4_accuracy: 0.9708 - val_dense_5_accuracy: 0.9998 - val_dense_6_accuracy: 1.0000\n",
            "Epoch 11/100\n",
            "857/857 [==============================] - 235s 275ms/step - loss: 1.7001 - dense_1_loss: 0.5033 - dense_2_loss: 0.6754 - dense_3_loss: 0.4206 - dense_4_loss: 0.0983 - dense_5_loss: 0.0021 - dense_6_loss: 3.7915e-04 - dense_1_accuracy: 0.8432 - dense_2_accuracy: 0.7799 - dense_3_accuracy: 0.8706 - dense_4_accuracy: 0.9750 - dense_5_accuracy: 0.9997 - dense_6_accuracy: 1.0000 - val_loss: 1.7258 - val_dense_1_loss: 0.5086 - val_dense_2_loss: 0.6842 - val_dense_3_loss: 0.4272 - val_dense_4_loss: 0.1037 - val_dense_5_loss: 0.0020 - val_dense_6_loss: 1.4909e-05 - val_dense_1_accuracy: 0.8490 - val_dense_2_accuracy: 0.7888 - val_dense_3_accuracy: 0.8758 - val_dense_4_accuracy: 0.9753 - val_dense_5_accuracy: 0.9998 - val_dense_6_accuracy: 1.0000\n",
            "Epoch 12/100\n",
            "857/857 [==============================] - 234s 273ms/step - loss: 1.6247 - dense_1_loss: 0.4824 - dense_2_loss: 0.6417 - dense_3_loss: 0.4059 - dense_4_loss: 0.0932 - dense_5_loss: 0.0013 - dense_6_loss: 2.5606e-04 - dense_1_accuracy: 0.8475 - dense_2_accuracy: 0.7901 - dense_3_accuracy: 0.8731 - dense_4_accuracy: 0.9757 - dense_5_accuracy: 0.9998 - dense_6_accuracy: 1.0000 - val_loss: 1.7076 - val_dense_1_loss: 0.5148 - val_dense_2_loss: 0.6743 - val_dense_3_loss: 0.4075 - val_dense_4_loss: 0.1081 - val_dense_5_loss: 0.0029 - val_dense_6_loss: 5.1470e-06 - val_dense_1_accuracy: 0.8502 - val_dense_2_accuracy: 0.7958 - val_dense_3_accuracy: 0.8818 - val_dense_4_accuracy: 0.9740 - val_dense_5_accuracy: 0.9998 - val_dense_6_accuracy: 1.0000\n",
            "Epoch 13/100\n",
            "857/857 [==============================] - 234s 273ms/step - loss: 1.5555 - dense_1_loss: 0.4586 - dense_2_loss: 0.6173 - dense_3_loss: 0.3903 - dense_4_loss: 0.0871 - dense_5_loss: 0.0021 - dense_6_loss: 1.2304e-04 - dense_1_accuracy: 0.8556 - dense_2_accuracy: 0.7998 - dense_3_accuracy: 0.8783 - dense_4_accuracy: 0.9762 - dense_5_accuracy: 0.9997 - dense_6_accuracy: 1.0000 - val_loss: 1.7258 - val_dense_1_loss: 0.5296 - val_dense_2_loss: 0.6878 - val_dense_3_loss: 0.4043 - val_dense_4_loss: 0.1022 - val_dense_5_loss: 0.0019 - val_dense_6_loss: 8.0589e-06 - val_dense_1_accuracy: 0.8428 - val_dense_2_accuracy: 0.7870 - val_dense_3_accuracy: 0.8822 - val_dense_4_accuracy: 0.9752 - val_dense_5_accuracy: 0.9998 - val_dense_6_accuracy: 1.0000\n",
            "Epoch 14/100\n",
            "857/857 [==============================] - 232s 270ms/step - loss: 1.4800 - dense_1_loss: 0.4432 - dense_2_loss: 0.5880 - dense_3_loss: 0.3644 - dense_4_loss: 0.0822 - dense_5_loss: 0.0022 - dense_6_loss: 3.5802e-05 - dense_1_accuracy: 0.8608 - dense_2_accuracy: 0.8088 - dense_3_accuracy: 0.8845 - dense_4_accuracy: 0.9780 - dense_5_accuracy: 0.9997 - dense_6_accuracy: 1.0000 - val_loss: 1.7635 - val_dense_1_loss: 0.5288 - val_dense_2_loss: 0.7156 - val_dense_3_loss: 0.4084 - val_dense_4_loss: 0.1086 - val_dense_5_loss: 0.0021 - val_dense_6_loss: 3.5125e-06 - val_dense_1_accuracy: 0.8508 - val_dense_2_accuracy: 0.7847 - val_dense_3_accuracy: 0.8807 - val_dense_4_accuracy: 0.9745 - val_dense_5_accuracy: 0.9998 - val_dense_6_accuracy: 1.0000\n",
            "Epoch 15/100\n",
            "857/857 [==============================] - 231s 269ms/step - loss: 1.4211 - dense_1_loss: 0.4207 - dense_2_loss: 0.5651 - dense_3_loss: 0.3559 - dense_4_loss: 0.0780 - dense_5_loss: 0.0013 - dense_6_loss: 1.7133e-04 - dense_1_accuracy: 0.8685 - dense_2_accuracy: 0.8166 - dense_3_accuracy: 0.8869 - dense_4_accuracy: 0.9793 - dense_5_accuracy: 0.9997 - dense_6_accuracy: 1.0000 - val_loss: 1.5954 - val_dense_1_loss: 0.4788 - val_dense_2_loss: 0.6423 - val_dense_3_loss: 0.3793 - val_dense_4_loss: 0.0937 - val_dense_5_loss: 0.0013 - val_dense_6_loss: 5.4804e-06 - val_dense_1_accuracy: 0.8628 - val_dense_2_accuracy: 0.8067 - val_dense_3_accuracy: 0.8863 - val_dense_4_accuracy: 0.9773 - val_dense_5_accuracy: 0.9998 - val_dense_6_accuracy: 1.0000\n",
            "Epoch 16/100\n",
            "857/857 [==============================] - 230s 269ms/step - loss: 1.3600 - dense_1_loss: 0.4015 - dense_2_loss: 0.5468 - dense_3_loss: 0.3387 - dense_4_loss: 0.0720 - dense_5_loss: 8.1527e-04 - dense_6_loss: 2.0845e-04 - dense_1_accuracy: 0.8739 - dense_2_accuracy: 0.8194 - dense_3_accuracy: 0.8911 - dense_4_accuracy: 0.9807 - dense_5_accuracy: 0.9997 - dense_6_accuracy: 1.0000 - val_loss: 1.7563 - val_dense_1_loss: 0.5270 - val_dense_2_loss: 0.7082 - val_dense_3_loss: 0.4173 - val_dense_4_loss: 0.1019 - val_dense_5_loss: 0.0020 - val_dense_6_loss: 1.8367e-06 - val_dense_1_accuracy: 0.8568 - val_dense_2_accuracy: 0.7987 - val_dense_3_accuracy: 0.8880 - val_dense_4_accuracy: 0.9768 - val_dense_5_accuracy: 0.9998 - val_dense_6_accuracy: 1.0000\n",
            "Epoch 17/100\n",
            "857/857 [==============================] - 231s 270ms/step - loss: 1.3175 - dense_1_loss: 0.3906 - dense_2_loss: 0.5292 - dense_3_loss: 0.3267 - dense_4_loss: 0.0686 - dense_5_loss: 0.0021 - dense_6_loss: 2.4785e-04 - dense_1_accuracy: 0.8779 - dense_2_accuracy: 0.8242 - dense_3_accuracy: 0.8948 - dense_4_accuracy: 0.9812 - dense_5_accuracy: 0.9996 - dense_6_accuracy: 1.0000 - val_loss: 1.6383 - val_dense_1_loss: 0.5021 - val_dense_2_loss: 0.6538 - val_dense_3_loss: 0.3826 - val_dense_4_loss: 0.0972 - val_dense_5_loss: 0.0025 - val_dense_6_loss: 3.5509e-06 - val_dense_1_accuracy: 0.8645 - val_dense_2_accuracy: 0.8047 - val_dense_3_accuracy: 0.8902 - val_dense_4_accuracy: 0.9768 - val_dense_5_accuracy: 0.9998 - val_dense_6_accuracy: 1.0000\n",
            "Epoch 18/100\n",
            "857/857 [==============================] - 231s 270ms/step - loss: 1.2595 - dense_1_loss: 0.3698 - dense_2_loss: 0.5093 - dense_3_loss: 0.3113 - dense_4_loss: 0.0680 - dense_5_loss: 0.0011 - dense_6_loss: 2.7848e-05 - dense_1_accuracy: 0.8822 - dense_2_accuracy: 0.8306 - dense_3_accuracy: 0.9014 - dense_4_accuracy: 0.9815 - dense_5_accuracy: 0.9997 - dense_6_accuracy: 1.0000 - val_loss: 1.5637 - val_dense_1_loss: 0.4654 - val_dense_2_loss: 0.6233 - val_dense_3_loss: 0.3801 - val_dense_4_loss: 0.0922 - val_dense_5_loss: 0.0027 - val_dense_6_loss: 1.2298e-05 - val_dense_1_accuracy: 0.8687 - val_dense_2_accuracy: 0.8148 - val_dense_3_accuracy: 0.8940 - val_dense_4_accuracy: 0.9782 - val_dense_5_accuracy: 0.9998 - val_dense_6_accuracy: 1.0000\n",
            "Epoch 19/100\n",
            "857/857 [==============================] - 232s 271ms/step - loss: 1.2097 - dense_1_loss: 0.3621 - dense_2_loss: 0.4893 - dense_3_loss: 0.2971 - dense_4_loss: 0.0605 - dense_5_loss: 7.0907e-04 - dense_6_loss: 8.2138e-05 - dense_1_accuracy: 0.8851 - dense_2_accuracy: 0.8357 - dense_3_accuracy: 0.9053 - dense_4_accuracy: 0.9823 - dense_5_accuracy: 0.9998 - dense_6_accuracy: 1.0000 - val_loss: 1.6609 - val_dense_1_loss: 0.5152 - val_dense_2_loss: 0.6628 - val_dense_3_loss: 0.3889 - val_dense_4_loss: 0.0908 - val_dense_5_loss: 0.0033 - val_dense_6_loss: 8.4748e-06 - val_dense_1_accuracy: 0.8672 - val_dense_2_accuracy: 0.8097 - val_dense_3_accuracy: 0.8898 - val_dense_4_accuracy: 0.9795 - val_dense_5_accuracy: 0.9998 - val_dense_6_accuracy: 1.0000\n",
            "Epoch 20/100\n",
            "857/857 [==============================] - 232s 271ms/step - loss: 1.1702 - dense_1_loss: 0.3442 - dense_2_loss: 0.4757 - dense_3_loss: 0.2871 - dense_4_loss: 0.0624 - dense_5_loss: 7.4159e-04 - dense_6_loss: 1.7333e-05 - dense_1_accuracy: 0.8902 - dense_2_accuracy: 0.8405 - dense_3_accuracy: 0.9068 - dense_4_accuracy: 0.9832 - dense_5_accuracy: 0.9998 - dense_6_accuracy: 1.0000 - val_loss: 1.6816 - val_dense_1_loss: 0.5082 - val_dense_2_loss: 0.6777 - val_dense_3_loss: 0.3977 - val_dense_4_loss: 0.0953 - val_dense_5_loss: 0.0027 - val_dense_6_loss: 1.7758e-06 - val_dense_1_accuracy: 0.8642 - val_dense_2_accuracy: 0.8118 - val_dense_3_accuracy: 0.8932 - val_dense_4_accuracy: 0.9797 - val_dense_5_accuracy: 0.9998 - val_dense_6_accuracy: 1.0000\n"
          ]
        },
        {
          "name": "stdout",
          "output_type": "stream",
          "text": [
            "Epoch 21/100\n",
            "857/857 [==============================] - 231s 270ms/step - loss: 1.1335 - dense_1_loss: 0.3363 - dense_2_loss: 0.4604 - dense_3_loss: 0.2781 - dense_4_loss: 0.0580 - dense_5_loss: 6.2473e-04 - dense_6_loss: 3.9104e-05 - dense_1_accuracy: 0.8917 - dense_2_accuracy: 0.8478 - dense_3_accuracy: 0.9098 - dense_4_accuracy: 0.9838 - dense_5_accuracy: 0.9997 - dense_6_accuracy: 1.0000 - val_loss: 1.6197 - val_dense_1_loss: 0.4925 - val_dense_2_loss: 0.6437 - val_dense_3_loss: 0.3881 - val_dense_4_loss: 0.0931 - val_dense_5_loss: 0.0022 - val_dense_6_loss: 5.3784e-06 - val_dense_1_accuracy: 0.8625 - val_dense_2_accuracy: 0.8147 - val_dense_3_accuracy: 0.8902 - val_dense_4_accuracy: 0.9788 - val_dense_5_accuracy: 0.9998 - val_dense_6_accuracy: 1.0000\n",
            "Epoch 22/100\n",
            "857/857 [==============================] - 233s 271ms/step - loss: 1.0899 - dense_1_loss: 0.3231 - dense_2_loss: 0.4428 - dense_3_loss: 0.2663 - dense_4_loss: 0.0567 - dense_5_loss: 8.7801e-04 - dense_6_loss: 4.4954e-05 - dense_1_accuracy: 0.8955 - dense_2_accuracy: 0.8511 - dense_3_accuracy: 0.9129 - dense_4_accuracy: 0.9839 - dense_5_accuracy: 0.9997 - dense_6_accuracy: 1.0000 - val_loss: 1.7828 - val_dense_1_loss: 0.5212 - val_dense_2_loss: 0.7211 - val_dense_3_loss: 0.4335 - val_dense_4_loss: 0.1040 - val_dense_5_loss: 0.0031 - val_dense_6_loss: 4.2542e-06 - val_dense_1_accuracy: 0.8583 - val_dense_2_accuracy: 0.8065 - val_dense_3_accuracy: 0.8915 - val_dense_4_accuracy: 0.9778 - val_dense_5_accuracy: 0.9998 - val_dense_6_accuracy: 1.0000\n",
            "Epoch 23/100\n",
            "857/857 [==============================] - 235s 274ms/step - loss: 1.0538 - dense_1_loss: 0.3108 - dense_2_loss: 0.4278 - dense_3_loss: 0.2638 - dense_4_loss: 0.0505 - dense_5_loss: 9.7484e-04 - dense_6_loss: 2.6309e-06 - dense_1_accuracy: 0.8989 - dense_2_accuracy: 0.8563 - dense_3_accuracy: 0.9143 - dense_4_accuracy: 0.9855 - dense_5_accuracy: 0.9997 - dense_6_accuracy: 1.0000 - val_loss: 1.6497 - val_dense_1_loss: 0.4960 - val_dense_2_loss: 0.6630 - val_dense_3_loss: 0.3964 - val_dense_4_loss: 0.0913 - val_dense_5_loss: 0.0030 - val_dense_6_loss: 1.7342e-06 - val_dense_1_accuracy: 0.8648 - val_dense_2_accuracy: 0.8098 - val_dense_3_accuracy: 0.8947 - val_dense_4_accuracy: 0.9812 - val_dense_5_accuracy: 0.9998 - val_dense_6_accuracy: 1.0000\n",
            "Epoch 24/100\n",
            "857/857 [==============================] - 227s 265ms/step - loss: 1.0263 - dense_1_loss: 0.3028 - dense_2_loss: 0.4191 - dense_3_loss: 0.2521 - dense_4_loss: 0.0516 - dense_5_loss: 6.9668e-04 - dense_6_loss: 4.1520e-06 - dense_1_accuracy: 0.9001 - dense_2_accuracy: 0.8591 - dense_3_accuracy: 0.9166 - dense_4_accuracy: 0.9859 - dense_5_accuracy: 0.9998 - dense_6_accuracy: 1.0000 - val_loss: 1.8029 - val_dense_1_loss: 0.5252 - val_dense_2_loss: 0.7408 - val_dense_3_loss: 0.4359 - val_dense_4_loss: 0.0974 - val_dense_5_loss: 0.0036 - val_dense_6_loss: 1.1362e-06 - val_dense_1_accuracy: 0.8578 - val_dense_2_accuracy: 0.7887 - val_dense_3_accuracy: 0.8860 - val_dense_4_accuracy: 0.9780 - val_dense_5_accuracy: 0.9998 - val_dense_6_accuracy: 1.0000\n",
            "Epoch 25/100\n",
            "857/857 [==============================] - 231s 269ms/step - loss: 1.0031 - dense_1_loss: 0.3006 - dense_2_loss: 0.4103 - dense_3_loss: 0.2429 - dense_4_loss: 0.0483 - dense_5_loss: 9.0717e-04 - dense_6_loss: 4.0747e-05 - dense_1_accuracy: 0.9016 - dense_2_accuracy: 0.8614 - dense_3_accuracy: 0.9200 - dense_4_accuracy: 0.9861 - dense_5_accuracy: 0.9997 - dense_6_accuracy: 1.0000 - val_loss: 1.6991 - val_dense_1_loss: 0.5092 - val_dense_2_loss: 0.6889 - val_dense_3_loss: 0.4014 - val_dense_4_loss: 0.0966 - val_dense_5_loss: 0.0030 - val_dense_6_loss: 9.3574e-07 - val_dense_1_accuracy: 0.8680 - val_dense_2_accuracy: 0.8147 - val_dense_3_accuracy: 0.8958 - val_dense_4_accuracy: 0.9782 - val_dense_5_accuracy: 0.9998 - val_dense_6_accuracy: 1.0000\n",
            "Epoch 26/100\n",
            "857/857 [==============================] - 231s 269ms/step - loss: 0.9617 - dense_1_loss: 0.2881 - dense_2_loss: 0.3954 - dense_3_loss: 0.2309 - dense_4_loss: 0.0464 - dense_5_loss: 7.2352e-04 - dense_6_loss: 1.1421e-04 - dense_1_accuracy: 0.9068 - dense_2_accuracy: 0.8680 - dense_3_accuracy: 0.9227 - dense_4_accuracy: 0.9867 - dense_5_accuracy: 0.9997 - dense_6_accuracy: 1.0000 - val_loss: 1.7203 - val_dense_1_loss: 0.5209 - val_dense_2_loss: 0.6771 - val_dense_3_loss: 0.4191 - val_dense_4_loss: 0.1004 - val_dense_5_loss: 0.0028 - val_dense_6_loss: 2.0137e-06 - val_dense_1_accuracy: 0.8567 - val_dense_2_accuracy: 0.8102 - val_dense_3_accuracy: 0.8927 - val_dense_4_accuracy: 0.9773 - val_dense_5_accuracy: 0.9997 - val_dense_6_accuracy: 1.0000\n",
            "Epoch 27/100\n",
            "857/857 [==============================] - 231s 269ms/step - loss: 0.9343 - dense_1_loss: 0.2759 - dense_2_loss: 0.3811 - dense_3_loss: 0.2281 - dense_4_loss: 0.0479 - dense_5_loss: 0.0012 - dense_6_loss: 3.4914e-05 - dense_1_accuracy: 0.9086 - dense_2_accuracy: 0.8714 - dense_3_accuracy: 0.9257 - dense_4_accuracy: 0.9869 - dense_5_accuracy: 0.9998 - dense_6_accuracy: 1.0000 - val_loss: 1.6700 - val_dense_1_loss: 0.5108 - val_dense_2_loss: 0.6627 - val_dense_3_loss: 0.3991 - val_dense_4_loss: 0.0934 - val_dense_5_loss: 0.0040 - val_dense_6_loss: 4.3708e-07 - val_dense_1_accuracy: 0.8672 - val_dense_2_accuracy: 0.8163 - val_dense_3_accuracy: 0.8960 - val_dense_4_accuracy: 0.9785 - val_dense_5_accuracy: 0.9998 - val_dense_6_accuracy: 1.0000\n",
            "Epoch 28/100\n",
            "857/857 [==============================] - 232s 270ms/step - loss: 0.8994 - dense_1_loss: 0.2662 - dense_2_loss: 0.3667 - dense_3_loss: 0.2211 - dense_4_loss: 0.0446 - dense_5_loss: 6.6849e-04 - dense_6_loss: 3.4730e-06 - dense_1_accuracy: 0.9110 - dense_2_accuracy: 0.8776 - dense_3_accuracy: 0.9261 - dense_4_accuracy: 0.9865 - dense_5_accuracy: 0.9998 - dense_6_accuracy: 1.0000 - val_loss: 1.8028 - val_dense_1_loss: 0.5448 - val_dense_2_loss: 0.7297 - val_dense_3_loss: 0.4266 - val_dense_4_loss: 0.0989 - val_dense_5_loss: 0.0028 - val_dense_6_loss: 1.7575e-06 - val_dense_1_accuracy: 0.8628 - val_dense_2_accuracy: 0.8130 - val_dense_3_accuracy: 0.8952 - val_dense_4_accuracy: 0.9780 - val_dense_5_accuracy: 0.9998 - val_dense_6_accuracy: 1.0000\n",
            "Epoch 29/100\n",
            "857/857 [==============================] - 230s 268ms/step - loss: 0.8756 - dense_1_loss: 0.2578 - dense_2_loss: 0.3568 - dense_3_loss: 0.2156 - dense_4_loss: 0.0449 - dense_5_loss: 3.6870e-04 - dense_6_loss: 5.7117e-07 - dense_1_accuracy: 0.9142 - dense_2_accuracy: 0.8778 - dense_3_accuracy: 0.9270 - dense_4_accuracy: 0.9869 - dense_5_accuracy: 0.9999 - dense_6_accuracy: 1.0000 - val_loss: 1.7786 - val_dense_1_loss: 0.5399 - val_dense_2_loss: 0.7131 - val_dense_3_loss: 0.4201 - val_dense_4_loss: 0.1023 - val_dense_5_loss: 0.0031 - val_dense_6_loss: 1.2844e-06 - val_dense_1_accuracy: 0.8642 - val_dense_2_accuracy: 0.8183 - val_dense_3_accuracy: 0.8960 - val_dense_4_accuracy: 0.9782 - val_dense_5_accuracy: 0.9997 - val_dense_6_accuracy: 1.0000\n",
            "Epoch 30/100\n",
            "857/857 [==============================] - 230s 268ms/step - loss: 0.8688 - dense_1_loss: 0.2608 - dense_2_loss: 0.3632 - dense_3_loss: 0.2046 - dense_4_loss: 0.0398 - dense_5_loss: 4.5520e-04 - dense_6_loss: 8.4596e-06 - dense_1_accuracy: 0.9145 - dense_2_accuracy: 0.8787 - dense_3_accuracy: 0.9319 - dense_4_accuracy: 0.9879 - dense_5_accuracy: 0.9998 - dense_6_accuracy: 1.0000 - val_loss: 1.7923 - val_dense_1_loss: 0.5349 - val_dense_2_loss: 0.7201 - val_dense_3_loss: 0.4354 - val_dense_4_loss: 0.0990 - val_dense_5_loss: 0.0029 - val_dense_6_loss: 6.9049e-07 - val_dense_1_accuracy: 0.8583 - val_dense_2_accuracy: 0.8055 - val_dense_3_accuracy: 0.8915 - val_dense_4_accuracy: 0.9803 - val_dense_5_accuracy: 0.9998 - val_dense_6_accuracy: 1.0000\n",
            "Epoch 31/100\n",
            "857/857 [==============================] - 269s 314ms/step - loss: 0.8351 - dense_1_loss: 0.2461 - dense_2_loss: 0.3434 - dense_3_loss: 0.2007 - dense_4_loss: 0.0445 - dense_5_loss: 3.9392e-04 - dense_6_loss: 3.5345e-07 - dense_1_accuracy: 0.9181 - dense_2_accuracy: 0.8841 - dense_3_accuracy: 0.9330 - dense_4_accuracy: 0.9869 - dense_5_accuracy: 0.9997 - dense_6_accuracy: 1.0000 - val_loss: 1.7426 - val_dense_1_loss: 0.5208 - val_dense_2_loss: 0.6925 - val_dense_3_loss: 0.4259 - val_dense_4_loss: 0.1011 - val_dense_5_loss: 0.0023 - val_dense_6_loss: 3.9873e-07 - val_dense_1_accuracy: 0.8717 - val_dense_2_accuracy: 0.8150 - val_dense_3_accuracy: 0.8897 - val_dense_4_accuracy: 0.9768 - val_dense_5_accuracy: 0.9998 - val_dense_6_accuracy: 1.0000\n"
          ]
        },
        {
          "name": "stdout",
          "output_type": "stream",
          "text": [
            "Epoch 32/100\n",
            "857/857 [==============================] - 275s 321ms/step - loss: 0.8028 - dense_1_loss: 0.2376 - dense_2_loss: 0.3284 - dense_3_loss: 0.1987 - dense_4_loss: 0.0376 - dense_5_loss: 3.5798e-04 - dense_6_loss: 1.1072e-05 - dense_1_accuracy: 0.9219 - dense_2_accuracy: 0.8877 - dense_3_accuracy: 0.9353 - dense_4_accuracy: 0.9885 - dense_5_accuracy: 0.9999 - dense_6_accuracy: 1.0000 - val_loss: 1.7843 - val_dense_1_loss: 0.5446 - val_dense_2_loss: 0.7201 - val_dense_3_loss: 0.4126 - val_dense_4_loss: 0.1026 - val_dense_5_loss: 0.0043 - val_dense_6_loss: 1.0435e-06 - val_dense_1_accuracy: 0.8685 - val_dense_2_accuracy: 0.8167 - val_dense_3_accuracy: 0.8998 - val_dense_4_accuracy: 0.9790 - val_dense_5_accuracy: 0.9998 - val_dense_6_accuracy: 1.0000\n",
            "Epoch 33/100\n",
            "857/857 [==============================] - 290s 339ms/step - loss: 0.8009 - dense_1_loss: 0.2359 - dense_2_loss: 0.3320 - dense_3_loss: 0.1944 - dense_4_loss: 0.0380 - dense_5_loss: 5.4521e-04 - dense_6_loss: 6.2593e-07 - dense_1_accuracy: 0.9216 - dense_2_accuracy: 0.8887 - dense_3_accuracy: 0.9353 - dense_4_accuracy: 0.9890 - dense_5_accuracy: 0.9998 - dense_6_accuracy: 1.0000 - val_loss: 1.7969 - val_dense_1_loss: 0.5435 - val_dense_2_loss: 0.7262 - val_dense_3_loss: 0.4250 - val_dense_4_loss: 0.0994 - val_dense_5_loss: 0.0029 - val_dense_6_loss: 2.5314e-07 - val_dense_1_accuracy: 0.8670 - val_dense_2_accuracy: 0.8123 - val_dense_3_accuracy: 0.8938 - val_dense_4_accuracy: 0.9802 - val_dense_5_accuracy: 0.9998 - val_dense_6_accuracy: 1.0000\n",
            "Epoch 34/100\n",
            "857/857 [==============================] - 314s 366ms/step - loss: 0.7642 - dense_1_loss: 0.2213 - dense_2_loss: 0.3188 - dense_3_loss: 0.1865 - dense_4_loss: 0.0370 - dense_5_loss: 5.7927e-04 - dense_6_loss: 4.1670e-06 - dense_1_accuracy: 0.9272 - dense_2_accuracy: 0.8936 - dense_3_accuracy: 0.9380 - dense_4_accuracy: 0.9891 - dense_5_accuracy: 0.9998 - dense_6_accuracy: 1.0000 - val_loss: 1.7942 - val_dense_1_loss: 0.5543 - val_dense_2_loss: 0.7015 - val_dense_3_loss: 0.4393 - val_dense_4_loss: 0.0965 - val_dense_5_loss: 0.0026 - val_dense_6_loss: 4.5052e-07 - val_dense_1_accuracy: 0.8713 - val_dense_2_accuracy: 0.8243 - val_dense_3_accuracy: 0.8930 - val_dense_4_accuracy: 0.9788 - val_dense_5_accuracy: 0.9998 - val_dense_6_accuracy: 1.0000\n",
            "Epoch 35/100\n",
            "857/857 [==============================] - 315s 367ms/step - loss: 0.7562 - dense_1_loss: 0.2272 - dense_2_loss: 0.3124 - dense_3_loss: 0.1828 - dense_4_loss: 0.0336 - dense_5_loss: 2.1695e-04 - dense_6_loss: 6.7582e-08 - dense_1_accuracy: 0.9239 - dense_2_accuracy: 0.8935 - dense_3_accuracy: 0.9378 - dense_4_accuracy: 0.9902 - dense_5_accuracy: 0.9999 - dense_6_accuracy: 1.0000 - val_loss: 1.8021 - val_dense_1_loss: 0.5386 - val_dense_2_loss: 0.7048 - val_dense_3_loss: 0.4573 - val_dense_4_loss: 0.0980 - val_dense_5_loss: 0.0033 - val_dense_6_loss: 9.7306e-07 - val_dense_1_accuracy: 0.8675 - val_dense_2_accuracy: 0.8223 - val_dense_3_accuracy: 0.8895 - val_dense_4_accuracy: 0.9792 - val_dense_5_accuracy: 0.9998 - val_dense_6_accuracy: 1.0000\n",
            "Epoch 36/100\n",
            "857/857 [==============================] - 307s 358ms/step - loss: 0.7283 - dense_1_loss: 0.2206 - dense_2_loss: 0.3039 - dense_3_loss: 0.1692 - dense_4_loss: 0.0344 - dense_5_loss: 1.9188e-04 - dense_6_loss: 1.0226e-04 - dense_1_accuracy: 0.9260 - dense_2_accuracy: 0.8972 - dense_3_accuracy: 0.9424 - dense_4_accuracy: 0.9896 - dense_5_accuracy: 1.0000 - dense_6_accuracy: 1.0000 - val_loss: 1.8614 - val_dense_1_loss: 0.5556 - val_dense_2_loss: 0.7394 - val_dense_3_loss: 0.4579 - val_dense_4_loss: 0.1045 - val_dense_5_loss: 0.0039 - val_dense_6_loss: 2.2270e-07 - val_dense_1_accuracy: 0.8670 - val_dense_2_accuracy: 0.8190 - val_dense_3_accuracy: 0.8947 - val_dense_4_accuracy: 0.9802 - val_dense_5_accuracy: 0.9998 - val_dense_6_accuracy: 1.0000\n",
            "Epoch 37/100\n",
            "857/857 [==============================] - 306s 358ms/step - loss: 0.7114 - dense_1_loss: 0.2099 - dense_2_loss: 0.2957 - dense_3_loss: 0.1711 - dense_4_loss: 0.0338 - dense_5_loss: 8.2006e-04 - dense_6_loss: 3.1061e-05 - dense_1_accuracy: 0.9289 - dense_2_accuracy: 0.9004 - dense_3_accuracy: 0.9436 - dense_4_accuracy: 0.9901 - dense_5_accuracy: 0.9999 - dense_6_accuracy: 1.0000 - val_loss: 1.8739 - val_dense_1_loss: 0.5651 - val_dense_2_loss: 0.7517 - val_dense_3_loss: 0.4506 - val_dense_4_loss: 0.1036 - val_dense_5_loss: 0.0030 - val_dense_6_loss: 1.9774e-06 - val_dense_1_accuracy: 0.8663 - val_dense_2_accuracy: 0.8183 - val_dense_3_accuracy: 0.8938 - val_dense_4_accuracy: 0.9788 - val_dense_5_accuracy: 0.9998 - val_dense_6_accuracy: 1.0000\n",
            "Epoch 38/100\n",
            "857/857 [==============================] - 250s 292ms/step - loss: 0.7005 - dense_1_loss: 0.2088 - dense_2_loss: 0.2891 - dense_3_loss: 0.1711 - dense_4_loss: 0.0313 - dense_5_loss: 2.6433e-04 - dense_6_loss: 5.0986e-05 - dense_1_accuracy: 0.9281 - dense_2_accuracy: 0.9017 - dense_3_accuracy: 0.9430 - dense_4_accuracy: 0.9902 - dense_5_accuracy: 0.9998 - dense_6_accuracy: 1.0000 - val_loss: 1.8534 - val_dense_1_loss: 0.5575 - val_dense_2_loss: 0.7201 - val_dense_3_loss: 0.4543 - val_dense_4_loss: 0.1193 - val_dense_5_loss: 0.0021 - val_dense_6_loss: 1.2236e-06 - val_dense_1_accuracy: 0.8652 - val_dense_2_accuracy: 0.8152 - val_dense_3_accuracy: 0.8867 - val_dense_4_accuracy: 0.9747 - val_dense_5_accuracy: 0.9998 - val_dense_6_accuracy: 1.0000\n",
            "Epoch 39/100\n",
            "857/857 [==============================] - 281s 328ms/step - loss: 0.6932 - dense_1_loss: 0.2044 - dense_2_loss: 0.2883 - dense_3_loss: 0.1668 - dense_4_loss: 0.0330 - dense_5_loss: 6.5523e-04 - dense_6_loss: 1.6835e-07 - dense_1_accuracy: 0.9315 - dense_2_accuracy: 0.9026 - dense_3_accuracy: 0.9426 - dense_4_accuracy: 0.9903 - dense_5_accuracy: 0.9999 - dense_6_accuracy: 1.0000 - val_loss: 1.8394 - val_dense_1_loss: 0.5653 - val_dense_2_loss: 0.7246 - val_dense_3_loss: 0.4434 - val_dense_4_loss: 0.1032 - val_dense_5_loss: 0.0028 - val_dense_6_loss: 7.7086e-07 - val_dense_1_accuracy: 0.8592 - val_dense_2_accuracy: 0.8148 - val_dense_3_accuracy: 0.8913 - val_dense_4_accuracy: 0.9788 - val_dense_5_accuracy: 0.9998 - val_dense_6_accuracy: 1.0000\n",
            "Epoch 40/100\n",
            "857/857 [==============================] - 285s 332ms/step - loss: 0.6654 - dense_1_loss: 0.1998 - dense_2_loss: 0.2745 - dense_3_loss: 0.1589 - dense_4_loss: 0.0318 - dense_5_loss: 3.6346e-04 - dense_6_loss: 6.5715e-05 - dense_1_accuracy: 0.9336 - dense_2_accuracy: 0.9079 - dense_3_accuracy: 0.9465 - dense_4_accuracy: 0.9900 - dense_5_accuracy: 0.9999 - dense_6_accuracy: 1.0000 - val_loss: 1.9087 - val_dense_1_loss: 0.5812 - val_dense_2_loss: 0.7453 - val_dense_3_loss: 0.4715 - val_dense_4_loss: 0.1079 - val_dense_5_loss: 0.0028 - val_dense_6_loss: 6.3653e-07 - val_dense_1_accuracy: 0.8665 - val_dense_2_accuracy: 0.8185 - val_dense_3_accuracy: 0.8908 - val_dense_4_accuracy: 0.9792 - val_dense_5_accuracy: 0.9998 - val_dense_6_accuracy: 1.0000\n",
            "Epoch 41/100\n",
            "857/857 [==============================] - 270s 315ms/step - loss: 0.6683 - dense_1_loss: 0.1990 - dense_2_loss: 0.2785 - dense_3_loss: 0.1587 - dense_4_loss: 0.0319 - dense_5_loss: 1.7469e-04 - dense_6_loss: 7.0389e-08 - dense_1_accuracy: 0.9333 - dense_2_accuracy: 0.9056 - dense_3_accuracy: 0.9477 - dense_4_accuracy: 0.9901 - dense_5_accuracy: 0.9999 - dense_6_accuracy: 1.0000 - val_loss: 1.8355 - val_dense_1_loss: 0.5570 - val_dense_2_loss: 0.7311 - val_dense_3_loss: 0.4432 - val_dense_4_loss: 0.1009 - val_dense_5_loss: 0.0032 - val_dense_6_loss: 6.7626e-08 - val_dense_1_accuracy: 0.8663 - val_dense_2_accuracy: 0.8150 - val_dense_3_accuracy: 0.8928 - val_dense_4_accuracy: 0.9798 - val_dense_5_accuracy: 0.9998 - val_dense_6_accuracy: 1.0000\n",
            "Epoch 42/100\n",
            "857/857 [==============================] - 272s 318ms/step - loss: 0.6356 - dense_1_loss: 0.1924 - dense_2_loss: 0.2606 - dense_3_loss: 0.1535 - dense_4_loss: 0.0288 - dense_5_loss: 3.5902e-04 - dense_6_loss: 1.8856e-06 - dense_1_accuracy: 0.9353 - dense_2_accuracy: 0.9106 - dense_3_accuracy: 0.9490 - dense_4_accuracy: 0.9915 - dense_5_accuracy: 0.9999 - dense_6_accuracy: 1.0000 - val_loss: 1.8998 - val_dense_1_loss: 0.5711 - val_dense_2_loss: 0.7346 - val_dense_3_loss: 0.4833 - val_dense_4_loss: 0.1079 - val_dense_5_loss: 0.0029 - val_dense_6_loss: 1.2910e-06 - val_dense_1_accuracy: 0.8692 - val_dense_2_accuracy: 0.8225 - val_dense_3_accuracy: 0.8890 - val_dense_4_accuracy: 0.9782 - val_dense_5_accuracy: 0.9998 - val_dense_6_accuracy: 1.0000\n"
          ]
        },
        {
          "name": "stdout",
          "output_type": "stream",
          "text": [
            "Epoch 43/100\n",
            "857/857 [==============================] - 277s 323ms/step - loss: 0.6289 - dense_1_loss: 0.1910 - dense_2_loss: 0.2598 - dense_3_loss: 0.1483 - dense_4_loss: 0.0297 - dense_5_loss: 1.6162e-04 - dense_6_loss: 7.3600e-07 - dense_1_accuracy: 0.9351 - dense_2_accuracy: 0.9126 - dense_3_accuracy: 0.9512 - dense_4_accuracy: 0.9909 - dense_5_accuracy: 1.0000 - dense_6_accuracy: 1.0000 - val_loss: 1.8749 - val_dense_1_loss: 0.5542 - val_dense_2_loss: 0.7498 - val_dense_3_loss: 0.4516 - val_dense_4_loss: 0.1163 - val_dense_5_loss: 0.0029 - val_dense_6_loss: 7.5883e-07 - val_dense_1_accuracy: 0.8703 - val_dense_2_accuracy: 0.8200 - val_dense_3_accuracy: 0.8945 - val_dense_4_accuracy: 0.9745 - val_dense_5_accuracy: 0.9998 - val_dense_6_accuracy: 1.0000\n",
            "Epoch 44/100\n",
            "857/857 [==============================] - 249s 291ms/step - loss: 0.6158 - dense_1_loss: 0.1872 - dense_2_loss: 0.2540 - dense_3_loss: 0.1465 - dense_4_loss: 0.0281 - dense_5_loss: 9.5102e-05 - dense_6_loss: 6.7874e-08 - dense_1_accuracy: 0.9388 - dense_2_accuracy: 0.9128 - dense_3_accuracy: 0.9511 - dense_4_accuracy: 0.9917 - dense_5_accuracy: 0.9999 - dense_6_accuracy: 1.0000 - val_loss: 1.9914 - val_dense_1_loss: 0.5885 - val_dense_2_loss: 0.7828 - val_dense_3_loss: 0.5052 - val_dense_4_loss: 0.1124 - val_dense_5_loss: 0.0024 - val_dense_6_loss: 7.1315e-06 - val_dense_1_accuracy: 0.8682 - val_dense_2_accuracy: 0.8195 - val_dense_3_accuracy: 0.8873 - val_dense_4_accuracy: 0.9772 - val_dense_5_accuracy: 0.9998 - val_dense_6_accuracy: 1.0000\n",
            "Epoch 45/100\n",
            "857/857 [==============================] - 250s 292ms/step - loss: 0.6013 - dense_1_loss: 0.1795 - dense_2_loss: 0.2498 - dense_3_loss: 0.1452 - dense_4_loss: 0.0265 - dense_5_loss: 3.0997e-04 - dense_6_loss: 2.0415e-07 - dense_1_accuracy: 0.9405 - dense_2_accuracy: 0.9159 - dense_3_accuracy: 0.9523 - dense_4_accuracy: 0.9917 - dense_5_accuracy: 0.9999 - dense_6_accuracy: 1.0000 - val_loss: 1.8809 - val_dense_1_loss: 0.5691 - val_dense_2_loss: 0.7600 - val_dense_3_loss: 0.4392 - val_dense_4_loss: 0.1098 - val_dense_5_loss: 0.0029 - val_dense_6_loss: 1.5006e-06 - val_dense_1_accuracy: 0.8642 - val_dense_2_accuracy: 0.8040 - val_dense_3_accuracy: 0.8893 - val_dense_4_accuracy: 0.9798 - val_dense_5_accuracy: 0.9998 - val_dense_6_accuracy: 1.0000\n",
            "Epoch 46/100\n",
            "857/857 [==============================] - 249s 291ms/step - loss: 0.5928 - dense_1_loss: 0.1773 - dense_2_loss: 0.2472 - dense_3_loss: 0.1437 - dense_4_loss: 0.0241 - dense_5_loss: 2.9415e-04 - dense_6_loss: 2.4186e-04 - dense_1_accuracy: 0.9411 - dense_2_accuracy: 0.9172 - dense_3_accuracy: 0.9525 - dense_4_accuracy: 0.9924 - dense_5_accuracy: 0.9999 - dense_6_accuracy: 1.0000 - val_loss: 1.9489 - val_dense_1_loss: 0.5738 - val_dense_2_loss: 0.7858 - val_dense_3_loss: 0.4728 - val_dense_4_loss: 0.1136 - val_dense_5_loss: 0.0029 - val_dense_6_loss: 6.9657e-07 - val_dense_1_accuracy: 0.8650 - val_dense_2_accuracy: 0.8118 - val_dense_3_accuracy: 0.8880 - val_dense_4_accuracy: 0.9757 - val_dense_5_accuracy: 0.9998 - val_dense_6_accuracy: 1.0000\n",
            "Epoch 47/100\n",
            "857/857 [==============================] - 248s 289ms/step - loss: 0.5623 - dense_1_loss: 0.1670 - dense_2_loss: 0.2340 - dense_3_loss: 0.1368 - dense_4_loss: 0.0238 - dense_5_loss: 5.9612e-04 - dense_6_loss: 5.5625e-07 - dense_1_accuracy: 0.9443 - dense_2_accuracy: 0.9209 - dense_3_accuracy: 0.9551 - dense_4_accuracy: 0.9919 - dense_5_accuracy: 0.9998 - dense_6_accuracy: 1.0000 - val_loss: 2.0281 - val_dense_1_loss: 0.6049 - val_dense_2_loss: 0.8167 - val_dense_3_loss: 0.4896 - val_dense_4_loss: 0.1128 - val_dense_5_loss: 0.0042 - val_dense_6_loss: 4.1742e-08 - val_dense_1_accuracy: 0.8655 - val_dense_2_accuracy: 0.8140 - val_dense_3_accuracy: 0.8910 - val_dense_4_accuracy: 0.9775 - val_dense_5_accuracy: 0.9998 - val_dense_6_accuracy: 1.0000\n",
            "Epoch 48/100\n",
            "857/857 [==============================] - 246s 287ms/step - loss: 0.5620 - dense_1_loss: 0.1700 - dense_2_loss: 0.2323 - dense_3_loss: 0.1347 - dense_4_loss: 0.0250 - dense_5_loss: 4.6210e-05 - dense_6_loss: 2.0885e-08 - dense_1_accuracy: 0.9446 - dense_2_accuracy: 0.9204 - dense_3_accuracy: 0.9551 - dense_4_accuracy: 0.9918 - dense_5_accuracy: 1.0000 - dense_6_accuracy: 1.0000 - val_loss: 2.0016 - val_dense_1_loss: 0.6054 - val_dense_2_loss: 0.7949 - val_dense_3_loss: 0.4767 - val_dense_4_loss: 0.1214 - val_dense_5_loss: 0.0032 - val_dense_6_loss: 8.9243e-07 - val_dense_1_accuracy: 0.8668 - val_dense_2_accuracy: 0.8205 - val_dense_3_accuracy: 0.8943 - val_dense_4_accuracy: 0.9788 - val_dense_5_accuracy: 0.9998 - val_dense_6_accuracy: 1.0000\n",
            "Epoch 49/100\n",
            "857/857 [==============================] - 246s 287ms/step - loss: 0.5465 - dense_1_loss: 0.1640 - dense_2_loss: 0.2271 - dense_3_loss: 0.1322 - dense_4_loss: 0.0229 - dense_5_loss: 3.6602e-04 - dense_6_loss: 5.2077e-08 - dense_1_accuracy: 0.9457 - dense_2_accuracy: 0.9221 - dense_3_accuracy: 0.9577 - dense_4_accuracy: 0.9925 - dense_5_accuracy: 0.9999 - dense_6_accuracy: 1.0000 - val_loss: 1.9466 - val_dense_1_loss: 0.5779 - val_dense_2_loss: 0.7731 - val_dense_3_loss: 0.4704 - val_dense_4_loss: 0.1218 - val_dense_5_loss: 0.0034 - val_dense_6_loss: 2.9268e-07 - val_dense_1_accuracy: 0.8672 - val_dense_2_accuracy: 0.8195 - val_dense_3_accuracy: 0.8920 - val_dense_4_accuracy: 0.9772 - val_dense_5_accuracy: 0.9998 - val_dense_6_accuracy: 1.0000\n",
            "Epoch 50/100\n",
            "857/857 [==============================] - 246s 287ms/step - loss: 0.5564 - dense_1_loss: 0.1655 - dense_2_loss: 0.2338 - dense_3_loss: 0.1317 - dense_4_loss: 0.0249 - dense_5_loss: 4.1599e-04 - dense_6_loss: 2.0787e-06 - dense_1_accuracy: 0.9440 - dense_2_accuracy: 0.9201 - dense_3_accuracy: 0.9566 - dense_4_accuracy: 0.9930 - dense_5_accuracy: 0.9999 - dense_6_accuracy: 1.0000 - val_loss: 2.0576 - val_dense_1_loss: 0.6220 - val_dense_2_loss: 0.8137 - val_dense_3_loss: 0.5003 - val_dense_4_loss: 0.1187 - val_dense_5_loss: 0.0030 - val_dense_6_loss: 1.2124e-07 - val_dense_1_accuracy: 0.8638 - val_dense_2_accuracy: 0.8170 - val_dense_3_accuracy: 0.8935 - val_dense_4_accuracy: 0.9788 - val_dense_5_accuracy: 0.9998 - val_dense_6_accuracy: 1.0000\n",
            "Epoch 51/100\n",
            "857/857 [==============================] - 245s 286ms/step - loss: 0.5226 - dense_1_loss: 0.1562 - dense_2_loss: 0.2116 - dense_3_loss: 0.1294 - dense_4_loss: 0.0252 - dense_5_loss: 1.2419e-04 - dense_6_loss: 3.9708e-07 - dense_1_accuracy: 0.9476 - dense_2_accuracy: 0.9304 - dense_3_accuracy: 0.9580 - dense_4_accuracy: 0.9923 - dense_5_accuracy: 0.9999 - dense_6_accuracy: 1.0000 - val_loss: 2.0564 - val_dense_1_loss: 0.6244 - val_dense_2_loss: 0.8195 - val_dense_3_loss: 0.4891 - val_dense_4_loss: 0.1187 - val_dense_5_loss: 0.0047 - val_dense_6_loss: 2.5482e-07 - val_dense_1_accuracy: 0.8673 - val_dense_2_accuracy: 0.8157 - val_dense_3_accuracy: 0.8918 - val_dense_4_accuracy: 0.9788 - val_dense_5_accuracy: 0.9997 - val_dense_6_accuracy: 1.0000\n",
            "Epoch 52/100\n",
            "857/857 [==============================] - 247s 288ms/step - loss: 0.5256 - dense_1_loss: 0.1587 - dense_2_loss: 0.2213 - dense_3_loss: 0.1240 - dense_4_loss: 0.0215 - dense_5_loss: 8.7993e-05 - dense_6_loss: 1.7096e-08 - dense_1_accuracy: 0.9479 - dense_2_accuracy: 0.9262 - dense_3_accuracy: 0.9581 - dense_4_accuracy: 0.9928 - dense_5_accuracy: 0.9999 - dense_6_accuracy: 1.0000 - val_loss: 2.0456 - val_dense_1_loss: 0.6077 - val_dense_2_loss: 0.8232 - val_dense_3_loss: 0.4877 - val_dense_4_loss: 0.1222 - val_dense_5_loss: 0.0048 - val_dense_6_loss: 2.3410e-07 - val_dense_1_accuracy: 0.8537 - val_dense_2_accuracy: 0.8068 - val_dense_3_accuracy: 0.8872 - val_dense_4_accuracy: 0.9767 - val_dense_5_accuracy: 0.9998 - val_dense_6_accuracy: 1.0000\n",
            "Epoch 53/100\n",
            "857/857 [==============================] - 245s 286ms/step - loss: 0.5178 - dense_1_loss: 0.1535 - dense_2_loss: 0.2152 - dense_3_loss: 0.1234 - dense_4_loss: 0.0254 - dense_5_loss: 3.4872e-04 - dense_6_loss: 3.2096e-07 - dense_1_accuracy: 0.9475 - dense_2_accuracy: 0.9270 - dense_3_accuracy: 0.9581 - dense_4_accuracy: 0.9925 - dense_5_accuracy: 0.9999 - dense_6_accuracy: 1.0000 - val_loss: 2.0465 - val_dense_1_loss: 0.6155 - val_dense_2_loss: 0.8271 - val_dense_3_loss: 0.4828 - val_dense_4_loss: 0.1178 - val_dense_5_loss: 0.0033 - val_dense_6_loss: 3.7306e-07 - val_dense_1_accuracy: 0.8665 - val_dense_2_accuracy: 0.8105 - val_dense_3_accuracy: 0.8918 - val_dense_4_accuracy: 0.9772 - val_dense_5_accuracy: 0.9998 - val_dense_6_accuracy: 1.0000\n"
          ]
        },
        {
          "name": "stdout",
          "output_type": "stream",
          "text": [
            "Epoch 54/100\n",
            "857/857 [==============================] - 244s 285ms/step - loss: 0.5165 - dense_1_loss: 0.1551 - dense_2_loss: 0.2150 - dense_3_loss: 0.1216 - dense_4_loss: 0.0248 - dense_5_loss: 4.6737e-05 - dense_6_loss: 4.1839e-07 - dense_1_accuracy: 0.9485 - dense_2_accuracy: 0.9270 - dense_3_accuracy: 0.9600 - dense_4_accuracy: 0.9925 - dense_5_accuracy: 1.0000 - dense_6_accuracy: 1.0000 - val_loss: 2.0441 - val_dense_1_loss: 0.6034 - val_dense_2_loss: 0.8022 - val_dense_3_loss: 0.5046 - val_dense_4_loss: 0.1314 - val_dense_5_loss: 0.0025 - val_dense_6_loss: 2.0281e-06 - val_dense_1_accuracy: 0.8603 - val_dense_2_accuracy: 0.8140 - val_dense_3_accuracy: 0.8915 - val_dense_4_accuracy: 0.9767 - val_dense_5_accuracy: 0.9998 - val_dense_6_accuracy: 1.0000\n",
            "Epoch 55/100\n",
            "857/857 [==============================] - 248s 289ms/step - loss: 0.4974 - dense_1_loss: 0.1505 - dense_2_loss: 0.2098 - dense_3_loss: 0.1142 - dense_4_loss: 0.0224 - dense_5_loss: 5.7240e-04 - dense_6_loss: 1.4082e-08 - dense_1_accuracy: 0.9506 - dense_2_accuracy: 0.9299 - dense_3_accuracy: 0.9625 - dense_4_accuracy: 0.9934 - dense_5_accuracy: 0.9999 - dense_6_accuracy: 1.0000 - val_loss: 2.0163 - val_dense_1_loss: 0.5758 - val_dense_2_loss: 0.8028 - val_dense_3_loss: 0.5000 - val_dense_4_loss: 0.1329 - val_dense_5_loss: 0.0049 - val_dense_6_loss: 3.8347e-07 - val_dense_1_accuracy: 0.8738 - val_dense_2_accuracy: 0.8237 - val_dense_3_accuracy: 0.8928 - val_dense_4_accuracy: 0.9752 - val_dense_5_accuracy: 0.9998 - val_dense_6_accuracy: 1.0000\n",
            "Epoch 56/100\n",
            "857/857 [==============================] - 247s 288ms/step - loss: 0.4954 - dense_1_loss: 0.1525 - dense_2_loss: 0.2057 - dense_3_loss: 0.1147 - dense_4_loss: 0.0224 - dense_5_loss: 6.1190e-05 - dense_6_loss: 1.6309e-06 - dense_1_accuracy: 0.9511 - dense_2_accuracy: 0.9296 - dense_3_accuracy: 0.9599 - dense_4_accuracy: 0.9927 - dense_5_accuracy: 1.0000 - dense_6_accuracy: 1.0000 - val_loss: 2.0029 - val_dense_1_loss: 0.5929 - val_dense_2_loss: 0.7856 - val_dense_3_loss: 0.4942 - val_dense_4_loss: 0.1251 - val_dense_5_loss: 0.0051 - val_dense_6_loss: 2.1748e-07 - val_dense_1_accuracy: 0.8715 - val_dense_2_accuracy: 0.8183 - val_dense_3_accuracy: 0.8912 - val_dense_4_accuracy: 0.9747 - val_dense_5_accuracy: 0.9998 - val_dense_6_accuracy: 1.0000\n",
            "Epoch 57/100\n",
            "857/857 [==============================] - 250s 292ms/step - loss: 0.4814 - dense_1_loss: 0.1424 - dense_2_loss: 0.2016 - dense_3_loss: 0.1153 - dense_4_loss: 0.0219 - dense_5_loss: 1.6747e-04 - dense_6_loss: 1.5013e-07 - dense_1_accuracy: 0.9525 - dense_2_accuracy: 0.9308 - dense_3_accuracy: 0.9616 - dense_4_accuracy: 0.9931 - dense_5_accuracy: 1.0000 - dense_6_accuracy: 1.0000 - val_loss: 2.0083 - val_dense_1_loss: 0.6063 - val_dense_2_loss: 0.7774 - val_dense_3_loss: 0.4984 - val_dense_4_loss: 0.1220 - val_dense_5_loss: 0.0042 - val_dense_6_loss: 4.4306e-06 - val_dense_1_accuracy: 0.8662 - val_dense_2_accuracy: 0.8175 - val_dense_3_accuracy: 0.8900 - val_dense_4_accuracy: 0.9767 - val_dense_5_accuracy: 0.9992 - val_dense_6_accuracy: 1.0000\n",
            "Epoch 58/100\n",
            "857/857 [==============================] - 248s 289ms/step - loss: 0.4697 - dense_1_loss: 0.1450 - dense_2_loss: 0.1930 - dense_3_loss: 0.1108 - dense_4_loss: 0.0206 - dense_5_loss: 4.1032e-04 - dense_6_loss: 5.2486e-06 - dense_1_accuracy: 0.9517 - dense_2_accuracy: 0.9344 - dense_3_accuracy: 0.9625 - dense_4_accuracy: 0.9936 - dense_5_accuracy: 0.9999 - dense_6_accuracy: 1.0000 - val_loss: 2.0912 - val_dense_1_loss: 0.6396 - val_dense_2_loss: 0.8169 - val_dense_3_loss: 0.5066 - val_dense_4_loss: 0.1251 - val_dense_5_loss: 0.0031 - val_dense_6_loss: 5.6298e-07 - val_dense_1_accuracy: 0.8685 - val_dense_2_accuracy: 0.8157 - val_dense_3_accuracy: 0.8875 - val_dense_4_accuracy: 0.9788 - val_dense_5_accuracy: 0.9998 - val_dense_6_accuracy: 1.0000\n",
            "Epoch 59/100\n",
            "857/857 [==============================] - 252s 294ms/step - loss: 0.4705 - dense_1_loss: 0.1414 - dense_2_loss: 0.1966 - dense_3_loss: 0.1128 - dense_4_loss: 0.0194 - dense_5_loss: 2.8478e-04 - dense_6_loss: 2.3347e-08 - dense_1_accuracy: 0.9533 - dense_2_accuracy: 0.9333 - dense_3_accuracy: 0.9630 - dense_4_accuracy: 0.9939 - dense_5_accuracy: 0.9999 - dense_6_accuracy: 1.0000 - val_loss: 2.1665 - val_dense_1_loss: 0.6591 - val_dense_2_loss: 0.8403 - val_dense_3_loss: 0.5353 - val_dense_4_loss: 0.1272 - val_dense_5_loss: 0.0046 - val_dense_6_loss: 7.1769e-07 - val_dense_1_accuracy: 0.8693 - val_dense_2_accuracy: 0.8192 - val_dense_3_accuracy: 0.8930 - val_dense_4_accuracy: 0.9780 - val_dense_5_accuracy: 0.9998 - val_dense_6_accuracy: 1.0000\n",
            "Epoch 60/100\n",
            "857/857 [==============================] - 246s 287ms/step - loss: 0.4604 - dense_1_loss: 0.1395 - dense_2_loss: 0.1938 - dense_3_loss: 0.1100 - dense_4_loss: 0.0169 - dense_5_loss: 2.2238e-05 - dense_6_loss: 9.8447e-07 - dense_1_accuracy: 0.9534 - dense_2_accuracy: 0.9352 - dense_3_accuracy: 0.9646 - dense_4_accuracy: 0.9941 - dense_5_accuracy: 1.0000 - dense_6_accuracy: 1.0000 - val_loss: 2.1501 - val_dense_1_loss: 0.6381 - val_dense_2_loss: 0.8348 - val_dense_3_loss: 0.5468 - val_dense_4_loss: 0.1255 - val_dense_5_loss: 0.0050 - val_dense_6_loss: 3.2947e-07 - val_dense_1_accuracy: 0.8713 - val_dense_2_accuracy: 0.8172 - val_dense_3_accuracy: 0.8890 - val_dense_4_accuracy: 0.9787 - val_dense_5_accuracy: 0.9998 - val_dense_6_accuracy: 1.0000\n",
            "Epoch 61/100\n",
            "857/857 [==============================] - 247s 288ms/step - loss: 0.4760 - dense_1_loss: 0.1441 - dense_2_loss: 0.1959 - dense_3_loss: 0.1139 - dense_4_loss: 0.0219 - dense_5_loss: 1.4062e-04 - dense_6_loss: 6.1679e-07 - dense_1_accuracy: 0.9509 - dense_2_accuracy: 0.9344 - dense_3_accuracy: 0.9633 - dense_4_accuracy: 0.9936 - dense_5_accuracy: 1.0000 - dense_6_accuracy: 1.0000 - val_loss: 2.0310 - val_dense_1_loss: 0.6004 - val_dense_2_loss: 0.8041 - val_dense_3_loss: 0.5012 - val_dense_4_loss: 0.1217 - val_dense_5_loss: 0.0036 - val_dense_6_loss: 7.8040e-07 - val_dense_1_accuracy: 0.8682 - val_dense_2_accuracy: 0.8185 - val_dense_3_accuracy: 0.8890 - val_dense_4_accuracy: 0.9785 - val_dense_5_accuracy: 0.9998 - val_dense_6_accuracy: 1.0000\n",
            "Epoch 62/100\n",
            "857/857 [==============================] - 248s 290ms/step - loss: 0.4630 - dense_1_loss: 0.1372 - dense_2_loss: 0.1903 - dense_3_loss: 0.1121 - dense_4_loss: 0.0233 - dense_5_loss: 1.5923e-04 - dense_6_loss: 1.1942e-07 - dense_1_accuracy: 0.9540 - dense_2_accuracy: 0.9349 - dense_3_accuracy: 0.9624 - dense_4_accuracy: 0.9923 - dense_5_accuracy: 1.0000 - dense_6_accuracy: 1.0000 - val_loss: 2.1054 - val_dense_1_loss: 0.6143 - val_dense_2_loss: 0.8403 - val_dense_3_loss: 0.5244 - val_dense_4_loss: 0.1230 - val_dense_5_loss: 0.0034 - val_dense_6_loss: 9.9298e-07 - val_dense_1_accuracy: 0.8700 - val_dense_2_accuracy: 0.8157 - val_dense_3_accuracy: 0.8902 - val_dense_4_accuracy: 0.9778 - val_dense_5_accuracy: 0.9997 - val_dense_6_accuracy: 1.0000\n",
            "Epoch 63/100\n",
            "857/857 [==============================] - 249s 290ms/step - loss: 0.4527 - dense_1_loss: 0.1393 - dense_2_loss: 0.1860 - dense_3_loss: 0.1063 - dense_4_loss: 0.0210 - dense_5_loss: 1.9464e-05 - dense_6_loss: 1.3719e-07 - dense_1_accuracy: 0.9541 - dense_2_accuracy: 0.9382 - dense_3_accuracy: 0.9649 - dense_4_accuracy: 0.9937 - dense_5_accuracy: 1.0000 - dense_6_accuracy: 1.0000 - val_loss: 2.1048 - val_dense_1_loss: 0.6113 - val_dense_2_loss: 0.8247 - val_dense_3_loss: 0.5259 - val_dense_4_loss: 0.1389 - val_dense_5_loss: 0.0041 - val_dense_6_loss: 3.4458e-07 - val_dense_1_accuracy: 0.8693 - val_dense_2_accuracy: 0.8167 - val_dense_3_accuracy: 0.8917 - val_dense_4_accuracy: 0.9743 - val_dense_5_accuracy: 0.9997 - val_dense_6_accuracy: 1.0000\n",
            "Epoch 64/100\n",
            "857/857 [==============================] - 248s 289ms/step - loss: 0.4359 - dense_1_loss: 0.1365 - dense_2_loss: 0.1847 - dense_3_loss: 0.0946 - dense_4_loss: 0.0199 - dense_5_loss: 9.2695e-05 - dense_6_loss: 8.4222e-09 - dense_1_accuracy: 0.9560 - dense_2_accuracy: 0.9373 - dense_3_accuracy: 0.9677 - dense_4_accuracy: 0.9941 - dense_5_accuracy: 1.0000 - dense_6_accuracy: 1.0000 - val_loss: 2.0775 - val_dense_1_loss: 0.6076 - val_dense_2_loss: 0.8264 - val_dense_3_loss: 0.5160 - val_dense_4_loss: 0.1225 - val_dense_5_loss: 0.0049 - val_dense_6_loss: 1.2322e-07 - val_dense_1_accuracy: 0.8692 - val_dense_2_accuracy: 0.8245 - val_dense_3_accuracy: 0.8907 - val_dense_4_accuracy: 0.9782 - val_dense_5_accuracy: 0.9998 - val_dense_6_accuracy: 1.0000\n"
          ]
        },
        {
          "name": "stdout",
          "output_type": "stream",
          "text": [
            "Epoch 65/100\n",
            "857/857 [==============================] - 245s 286ms/step - loss: 0.4262 - dense_1_loss: 0.1247 - dense_2_loss: 0.1797 - dense_3_loss: 0.1020 - dense_4_loss: 0.0198 - dense_5_loss: 1.2707e-05 - dense_6_loss: 3.2641e-08 - dense_1_accuracy: 0.9591 - dense_2_accuracy: 0.9385 - dense_3_accuracy: 0.9665 - dense_4_accuracy: 0.9936 - dense_5_accuracy: 1.0000 - dense_6_accuracy: 1.0000 - val_loss: 2.0951 - val_dense_1_loss: 0.6128 - val_dense_2_loss: 0.8205 - val_dense_3_loss: 0.5287 - val_dense_4_loss: 0.1285 - val_dense_5_loss: 0.0045 - val_dense_6_loss: 1.0804e-07 - val_dense_1_accuracy: 0.8680 - val_dense_2_accuracy: 0.8158 - val_dense_3_accuracy: 0.8883 - val_dense_4_accuracy: 0.9767 - val_dense_5_accuracy: 0.9997 - val_dense_6_accuracy: 1.0000\n",
            "Epoch 66/100\n",
            "857/857 [==============================] - 246s 287ms/step - loss: 0.4363 - dense_1_loss: 0.1325 - dense_2_loss: 0.1815 - dense_3_loss: 0.1048 - dense_4_loss: 0.0171 - dense_5_loss: 3.2143e-04 - dense_6_loss: 2.6355e-08 - dense_1_accuracy: 0.9563 - dense_2_accuracy: 0.9383 - dense_3_accuracy: 0.9653 - dense_4_accuracy: 0.9951 - dense_5_accuracy: 0.9999 - dense_6_accuracy: 1.0000 - val_loss: 2.1316 - val_dense_1_loss: 0.6307 - val_dense_2_loss: 0.8371 - val_dense_3_loss: 0.5270 - val_dense_4_loss: 0.1322 - val_dense_5_loss: 0.0046 - val_dense_6_loss: 2.5554e-07 - val_dense_1_accuracy: 0.8660 - val_dense_2_accuracy: 0.8148 - val_dense_3_accuracy: 0.8872 - val_dense_4_accuracy: 0.9730 - val_dense_5_accuracy: 0.9997 - val_dense_6_accuracy: 1.0000\n",
            "Epoch 67/100\n",
            "857/857 [==============================] - 244s 285ms/step - loss: 0.4225 - dense_1_loss: 0.1245 - dense_2_loss: 0.1799 - dense_3_loss: 0.0997 - dense_4_loss: 0.0181 - dense_5_loss: 2.7172e-04 - dense_6_loss: 3.1807e-08 - dense_1_accuracy: 0.9580 - dense_2_accuracy: 0.9391 - dense_3_accuracy: 0.9670 - dense_4_accuracy: 0.9945 - dense_5_accuracy: 0.9999 - dense_6_accuracy: 1.0000 - val_loss: 2.1485 - val_dense_1_loss: 0.6300 - val_dense_2_loss: 0.8469 - val_dense_3_loss: 0.5377 - val_dense_4_loss: 0.1284 - val_dense_5_loss: 0.0055 - val_dense_6_loss: 1.5545e-07 - val_dense_1_accuracy: 0.8655 - val_dense_2_accuracy: 0.8162 - val_dense_3_accuracy: 0.8940 - val_dense_4_accuracy: 0.9755 - val_dense_5_accuracy: 0.9998 - val_dense_6_accuracy: 1.0000\n",
            "Epoch 68/100\n",
            "857/857 [==============================] - 246s 287ms/step - loss: 0.4234 - dense_1_loss: 0.1278 - dense_2_loss: 0.1728 - dense_3_loss: 0.1022 - dense_4_loss: 0.0206 - dense_5_loss: 1.0077e-04 - dense_6_loss: 2.8710e-08 - dense_1_accuracy: 0.9589 - dense_2_accuracy: 0.9418 - dense_3_accuracy: 0.9664 - dense_4_accuracy: 0.9938 - dense_5_accuracy: 0.9999 - dense_6_accuracy: 1.0000 - val_loss: 2.2093 - val_dense_1_loss: 0.6491 - val_dense_2_loss: 0.8735 - val_dense_3_loss: 0.5474 - val_dense_4_loss: 0.1338 - val_dense_5_loss: 0.0056 - val_dense_6_loss: 1.5473e-07 - val_dense_1_accuracy: 0.8637 - val_dense_2_accuracy: 0.8208 - val_dense_3_accuracy: 0.8933 - val_dense_4_accuracy: 0.9768 - val_dense_5_accuracy: 0.9998 - val_dense_6_accuracy: 1.0000\n",
            "Epoch 69/100\n",
            "857/857 [==============================] - 245s 286ms/step - loss: 0.4213 - dense_1_loss: 0.1303 - dense_2_loss: 0.1768 - dense_3_loss: 0.0963 - dense_4_loss: 0.0176 - dense_5_loss: 2.1279e-04 - dense_6_loss: 9.8620e-07 - dense_1_accuracy: 0.9573 - dense_2_accuracy: 0.9419 - dense_3_accuracy: 0.9684 - dense_4_accuracy: 0.9945 - dense_5_accuracy: 0.9999 - dense_6_accuracy: 1.0000 - val_loss: 2.1208 - val_dense_1_loss: 0.6285 - val_dense_2_loss: 0.8371 - val_dense_3_loss: 0.5248 - val_dense_4_loss: 0.1260 - val_dense_5_loss: 0.0045 - val_dense_6_loss: 9.6999e-07 - val_dense_1_accuracy: 0.8658 - val_dense_2_accuracy: 0.8253 - val_dense_3_accuracy: 0.8958 - val_dense_4_accuracy: 0.9768 - val_dense_5_accuracy: 0.9997 - val_dense_6_accuracy: 1.0000\n",
            "Epoch 70/100\n",
            "857/857 [==============================] - 245s 285ms/step - loss: 0.4018 - dense_1_loss: 0.1214 - dense_2_loss: 0.1721 - dense_3_loss: 0.0914 - dense_4_loss: 0.0165 - dense_5_loss: 3.4844e-04 - dense_6_loss: 1.8831e-07 - dense_1_accuracy: 0.9592 - dense_2_accuracy: 0.9431 - dense_3_accuracy: 0.9688 - dense_4_accuracy: 0.9945 - dense_5_accuracy: 0.9999 - dense_6_accuracy: 1.0000 - val_loss: 2.1560 - val_dense_1_loss: 0.6331 - val_dense_2_loss: 0.8548 - val_dense_3_loss: 0.5347 - val_dense_4_loss: 0.1289 - val_dense_5_loss: 0.0044 - val_dense_6_loss: 3.4849e-07 - val_dense_1_accuracy: 0.8707 - val_dense_2_accuracy: 0.8227 - val_dense_3_accuracy: 0.8928 - val_dense_4_accuracy: 0.9748 - val_dense_5_accuracy: 0.9998 - val_dense_6_accuracy: 1.0000\n",
            "Epoch 71/100\n",
            "857/857 [==============================] - 246s 287ms/step - loss: 0.4107 - dense_1_loss: 0.1269 - dense_2_loss: 0.1662 - dense_3_loss: 0.0989 - dense_4_loss: 0.0186 - dense_5_loss: 1.8218e-05 - dense_6_loss: 2.1469e-06 - dense_1_accuracy: 0.9593 - dense_2_accuracy: 0.9461 - dense_3_accuracy: 0.9670 - dense_4_accuracy: 0.9939 - dense_5_accuracy: 1.0000 - dense_6_accuracy: 1.0000 - val_loss: 2.1623 - val_dense_1_loss: 0.6101 - val_dense_2_loss: 0.8738 - val_dense_3_loss: 0.5428 - val_dense_4_loss: 0.1296 - val_dense_5_loss: 0.0061 - val_dense_6_loss: 1.4918e-07 - val_dense_1_accuracy: 0.8652 - val_dense_2_accuracy: 0.8193 - val_dense_3_accuracy: 0.8935 - val_dense_4_accuracy: 0.9775 - val_dense_5_accuracy: 0.9997 - val_dense_6_accuracy: 1.0000\n",
            "Epoch 72/100\n",
            "857/857 [==============================] - 245s 285ms/step - loss: 0.3942 - dense_1_loss: 0.1216 - dense_2_loss: 0.1626 - dense_3_loss: 0.0921 - dense_4_loss: 0.0170 - dense_5_loss: 8.1702e-04 - dense_6_loss: 2.3399e-06 - dense_1_accuracy: 0.9596 - dense_2_accuracy: 0.9466 - dense_3_accuracy: 0.9706 - dense_4_accuracy: 0.9943 - dense_5_accuracy: 0.9999 - dense_6_accuracy: 1.0000 - val_loss: 2.2154 - val_dense_1_loss: 0.6460 - val_dense_2_loss: 0.8856 - val_dense_3_loss: 0.5498 - val_dense_4_loss: 0.1279 - val_dense_5_loss: 0.0061 - val_dense_6_loss: 7.3259e-07 - val_dense_1_accuracy: 0.8675 - val_dense_2_accuracy: 0.8182 - val_dense_3_accuracy: 0.8943 - val_dense_4_accuracy: 0.9768 - val_dense_5_accuracy: 0.9997 - val_dense_6_accuracy: 1.0000\n",
            "Epoch 73/100\n",
            "857/857 [==============================] - 248s 290ms/step - loss: 0.3949 - dense_1_loss: 0.1183 - dense_2_loss: 0.1633 - dense_3_loss: 0.0971 - dense_4_loss: 0.0159 - dense_5_loss: 3.4482e-04 - dense_6_loss: 7.6886e-08 - dense_1_accuracy: 0.9608 - dense_2_accuracy: 0.9454 - dense_3_accuracy: 0.9688 - dense_4_accuracy: 0.9954 - dense_5_accuracy: 0.9999 - dense_6_accuracy: 1.0000 - val_loss: 2.1897 - val_dense_1_loss: 0.6430 - val_dense_2_loss: 0.8724 - val_dense_3_loss: 0.5453 - val_dense_4_loss: 0.1231 - val_dense_5_loss: 0.0059 - val_dense_6_loss: 2.4667e-07 - val_dense_1_accuracy: 0.8652 - val_dense_2_accuracy: 0.8188 - val_dense_3_accuracy: 0.8875 - val_dense_4_accuracy: 0.9772 - val_dense_5_accuracy: 0.9998 - val_dense_6_accuracy: 1.0000\n",
            "Epoch 74/100\n",
            "857/857 [==============================] - 248s 289ms/step - loss: 0.3866 - dense_1_loss: 0.1140 - dense_2_loss: 0.1618 - dense_3_loss: 0.0939 - dense_4_loss: 0.0167 - dense_5_loss: 2.0343e-04 - dense_6_loss: 2.9863e-07 - dense_1_accuracy: 0.9626 - dense_2_accuracy: 0.9473 - dense_3_accuracy: 0.9687 - dense_4_accuracy: 0.9948 - dense_5_accuracy: 0.9999 - dense_6_accuracy: 1.0000 - val_loss: 2.1378 - val_dense_1_loss: 0.6212 - val_dense_2_loss: 0.8385 - val_dense_3_loss: 0.5465 - val_dense_4_loss: 0.1265 - val_dense_5_loss: 0.0051 - val_dense_6_loss: 8.9785e-07 - val_dense_1_accuracy: 0.8722 - val_dense_2_accuracy: 0.8185 - val_dense_3_accuracy: 0.8915 - val_dense_4_accuracy: 0.9752 - val_dense_5_accuracy: 0.9998 - val_dense_6_accuracy: 1.0000\n",
            "Epoch 75/100\n",
            "857/857 [==============================] - 247s 288ms/step - loss: 0.3932 - dense_1_loss: 0.1215 - dense_2_loss: 0.1646 - dense_3_loss: 0.0890 - dense_4_loss: 0.0179 - dense_5_loss: 2.1935e-04 - dense_6_loss: 5.5334e-08 - dense_1_accuracy: 0.9607 - dense_2_accuracy: 0.9445 - dense_3_accuracy: 0.9708 - dense_4_accuracy: 0.9946 - dense_5_accuracy: 0.9999 - dense_6_accuracy: 1.0000 - val_loss: 2.2140 - val_dense_1_loss: 0.6572 - val_dense_2_loss: 0.8796 - val_dense_3_loss: 0.5502 - val_dense_4_loss: 0.1225 - val_dense_5_loss: 0.0046 - val_dense_6_loss: 3.3490e-07 - val_dense_1_accuracy: 0.8693 - val_dense_2_accuracy: 0.8188 - val_dense_3_accuracy: 0.8903 - val_dense_4_accuracy: 0.9782 - val_dense_5_accuracy: 0.9998 - val_dense_6_accuracy: 1.0000\n"
          ]
        },
        {
          "name": "stdout",
          "output_type": "stream",
          "text": [
            "Epoch 76/100\n",
            "857/857 [==============================] - 246s 287ms/step - loss: 0.3963 - dense_1_loss: 0.1169 - dense_2_loss: 0.1686 - dense_3_loss: 0.0931 - dense_4_loss: 0.0172 - dense_5_loss: 5.0685e-04 - dense_6_loss: 7.1736e-09 - dense_1_accuracy: 0.9615 - dense_2_accuracy: 0.9436 - dense_3_accuracy: 0.9704 - dense_4_accuracy: 0.9950 - dense_5_accuracy: 0.9999 - dense_6_accuracy: 1.0000 - val_loss: 2.1595 - val_dense_1_loss: 0.6426 - val_dense_2_loss: 0.8774 - val_dense_3_loss: 0.5190 - val_dense_4_loss: 0.1160 - val_dense_5_loss: 0.0045 - val_dense_6_loss: 8.0466e-07 - val_dense_1_accuracy: 0.8678 - val_dense_2_accuracy: 0.8153 - val_dense_3_accuracy: 0.8897 - val_dense_4_accuracy: 0.9783 - val_dense_5_accuracy: 0.9998 - val_dense_6_accuracy: 1.0000\n",
            "Epoch 77/100\n",
            "857/857 [==============================] - 244s 285ms/step - loss: 0.3720 - dense_1_loss: 0.1167 - dense_2_loss: 0.1522 - dense_3_loss: 0.0875 - dense_4_loss: 0.0155 - dense_5_loss: 1.9422e-04 - dense_6_loss: 1.1685e-08 - dense_1_accuracy: 0.9601 - dense_2_accuracy: 0.9495 - dense_3_accuracy: 0.9706 - dense_4_accuracy: 0.9949 - dense_5_accuracy: 0.9999 - dense_6_accuracy: 1.0000 - val_loss: 2.2704 - val_dense_1_loss: 0.6561 - val_dense_2_loss: 0.9077 - val_dense_3_loss: 0.5711 - val_dense_4_loss: 0.1318 - val_dense_5_loss: 0.0037 - val_dense_6_loss: 2.0566e-07 - val_dense_1_accuracy: 0.8652 - val_dense_2_accuracy: 0.8153 - val_dense_3_accuracy: 0.8912 - val_dense_4_accuracy: 0.9770 - val_dense_5_accuracy: 0.9998 - val_dense_6_accuracy: 1.0000\n",
            "Epoch 78/100\n",
            "857/857 [==============================] - 242s 282ms/step - loss: 0.3861 - dense_1_loss: 0.1182 - dense_2_loss: 0.1604 - dense_3_loss: 0.0909 - dense_4_loss: 0.0162 - dense_5_loss: 2.7163e-04 - dense_6_loss: 5.8381e-09 - dense_1_accuracy: 0.9604 - dense_2_accuracy: 0.9474 - dense_3_accuracy: 0.9700 - dense_4_accuracy: 0.9951 - dense_5_accuracy: 0.9999 - dense_6_accuracy: 1.0000 - val_loss: 2.1542 - val_dense_1_loss: 0.6242 - val_dense_2_loss: 0.8586 - val_dense_3_loss: 0.5426 - val_dense_4_loss: 0.1245 - val_dense_5_loss: 0.0042 - val_dense_6_loss: 7.2167e-07 - val_dense_1_accuracy: 0.8697 - val_dense_2_accuracy: 0.8195 - val_dense_3_accuracy: 0.8898 - val_dense_4_accuracy: 0.9758 - val_dense_5_accuracy: 0.9997 - val_dense_6_accuracy: 1.0000\n",
            "Epoch 79/100\n",
            "857/857 [==============================] - 244s 285ms/step - loss: 0.3743 - dense_1_loss: 0.1090 - dense_2_loss: 0.1605 - dense_3_loss: 0.0877 - dense_4_loss: 0.0169 - dense_5_loss: 1.7603e-04 - dense_6_loss: 1.0102e-07 - dense_1_accuracy: 0.9630 - dense_2_accuracy: 0.9467 - dense_3_accuracy: 0.9720 - dense_4_accuracy: 0.9949 - dense_5_accuracy: 0.9999 - dense_6_accuracy: 1.0000 - val_loss: 2.2138 - val_dense_1_loss: 0.6608 - val_dense_2_loss: 0.8728 - val_dense_3_loss: 0.5548 - val_dense_4_loss: 0.1204 - val_dense_5_loss: 0.0051 - val_dense_6_loss: 6.0529e-07 - val_dense_1_accuracy: 0.8697 - val_dense_2_accuracy: 0.8185 - val_dense_3_accuracy: 0.8912 - val_dense_4_accuracy: 0.9765 - val_dense_5_accuracy: 0.9995 - val_dense_6_accuracy: 1.0000\n",
            "Epoch 80/100\n",
            "857/857 [==============================] - 245s 285ms/step - loss: 0.3655 - dense_1_loss: 0.1121 - dense_2_loss: 0.1544 - dense_3_loss: 0.0841 - dense_4_loss: 0.0149 - dense_5_loss: 4.8654e-05 - dense_6_loss: 6.1752e-08 - dense_1_accuracy: 0.9631 - dense_2_accuracy: 0.9484 - dense_3_accuracy: 0.9721 - dense_4_accuracy: 0.9954 - dense_5_accuracy: 1.0000 - dense_6_accuracy: 1.0000 - val_loss: 2.2650 - val_dense_1_loss: 0.6719 - val_dense_2_loss: 0.8886 - val_dense_3_loss: 0.5703 - val_dense_4_loss: 0.1300 - val_dense_5_loss: 0.0043 - val_dense_6_loss: 6.4650e-08 - val_dense_1_accuracy: 0.8675 - val_dense_2_accuracy: 0.8168 - val_dense_3_accuracy: 0.8903 - val_dense_4_accuracy: 0.9757 - val_dense_5_accuracy: 0.9998 - val_dense_6_accuracy: 1.0000\n",
            "Epoch 81/100\n",
            "857/857 [==============================] - 245s 286ms/step - loss: 0.3587 - dense_1_loss: 0.1091 - dense_2_loss: 0.1480 - dense_3_loss: 0.0860 - dense_4_loss: 0.0156 - dense_5_loss: 5.8910e-06 - dense_6_loss: 3.1627e-09 - dense_1_accuracy: 0.9662 - dense_2_accuracy: 0.9497 - dense_3_accuracy: 0.9715 - dense_4_accuracy: 0.9950 - dense_5_accuracy: 1.0000 - dense_6_accuracy: 1.0000 - val_loss: 2.2636 - val_dense_1_loss: 0.6627 - val_dense_2_loss: 0.9003 - val_dense_3_loss: 0.5590 - val_dense_4_loss: 0.1354 - val_dense_5_loss: 0.0062 - val_dense_6_loss: 4.0649e-07 - val_dense_1_accuracy: 0.8683 - val_dense_2_accuracy: 0.8148 - val_dense_3_accuracy: 0.8935 - val_dense_4_accuracy: 0.9772 - val_dense_5_accuracy: 0.9998 - val_dense_6_accuracy: 1.0000\n",
            "Epoch 82/100\n",
            "857/857 [==============================] - 245s 286ms/step - loss: 0.3591 - dense_1_loss: 0.1049 - dense_2_loss: 0.1506 - dense_3_loss: 0.0867 - dense_4_loss: 0.0166 - dense_5_loss: 1.7460e-04 - dense_6_loss: 1.0853e-08 - dense_1_accuracy: 0.9655 - dense_2_accuracy: 0.9504 - dense_3_accuracy: 0.9714 - dense_4_accuracy: 0.9947 - dense_5_accuracy: 0.9999 - dense_6_accuracy: 1.0000 - val_loss: 2.1987 - val_dense_1_loss: 0.6534 - val_dense_2_loss: 0.8537 - val_dense_3_loss: 0.5564 - val_dense_4_loss: 0.1279 - val_dense_5_loss: 0.0072 - val_dense_6_loss: 6.6236e-07 - val_dense_1_accuracy: 0.8683 - val_dense_2_accuracy: 0.8182 - val_dense_3_accuracy: 0.8927 - val_dense_4_accuracy: 0.9775 - val_dense_5_accuracy: 0.9998 - val_dense_6_accuracy: 1.0000\n",
            "Epoch 83/100\n",
            "857/857 [==============================] - 246s 287ms/step - loss: 0.3545 - dense_1_loss: 0.1101 - dense_2_loss: 0.1428 - dense_3_loss: 0.0843 - dense_4_loss: 0.0173 - dense_5_loss: 1.1892e-05 - dense_6_loss: 1.2712e-06 - dense_1_accuracy: 0.9644 - dense_2_accuracy: 0.9520 - dense_3_accuracy: 0.9714 - dense_4_accuracy: 0.9947 - dense_5_accuracy: 1.0000 - dense_6_accuracy: 1.0000 - val_loss: 2.2961 - val_dense_1_loss: 0.6827 - val_dense_2_loss: 0.9189 - val_dense_3_loss: 0.5625 - val_dense_4_loss: 0.1272 - val_dense_5_loss: 0.0048 - val_dense_6_loss: 7.2398e-08 - val_dense_1_accuracy: 0.8693 - val_dense_2_accuracy: 0.8192 - val_dense_3_accuracy: 0.8958 - val_dense_4_accuracy: 0.9783 - val_dense_5_accuracy: 0.9998 - val_dense_6_accuracy: 1.0000\n",
            "Epoch 84/100\n",
            "857/857 [==============================] - 247s 288ms/step - loss: 0.3475 - dense_1_loss: 0.1083 - dense_2_loss: 0.1431 - dense_3_loss: 0.0830 - dense_4_loss: 0.0131 - dense_5_loss: 5.2989e-05 - dense_6_loss: 1.6879e-09 - dense_1_accuracy: 0.9642 - dense_2_accuracy: 0.9515 - dense_3_accuracy: 0.9732 - dense_4_accuracy: 0.9960 - dense_5_accuracy: 1.0000 - dense_6_accuracy: 1.0000 - val_loss: 2.3071 - val_dense_1_loss: 0.6807 - val_dense_2_loss: 0.9047 - val_dense_3_loss: 0.5757 - val_dense_4_loss: 0.1407 - val_dense_5_loss: 0.0053 - val_dense_6_loss: 1.4209e-07 - val_dense_1_accuracy: 0.8708 - val_dense_2_accuracy: 0.8200 - val_dense_3_accuracy: 0.8925 - val_dense_4_accuracy: 0.9763 - val_dense_5_accuracy: 0.9998 - val_dense_6_accuracy: 1.0000\n",
            "Epoch 85/100\n",
            "857/857 [==============================] - 246s 287ms/step - loss: 0.3504 - dense_1_loss: 0.1066 - dense_2_loss: 0.1510 - dense_3_loss: 0.0776 - dense_4_loss: 0.0149 - dense_5_loss: 2.8918e-04 - dense_6_loss: 2.2532e-06 - dense_1_accuracy: 0.9660 - dense_2_accuracy: 0.9512 - dense_3_accuracy: 0.9743 - dense_4_accuracy: 0.9954 - dense_5_accuracy: 1.0000 - dense_6_accuracy: 1.0000 - val_loss: 2.2161 - val_dense_1_loss: 0.6526 - val_dense_2_loss: 0.8662 - val_dense_3_loss: 0.5598 - val_dense_4_loss: 0.1334 - val_dense_5_loss: 0.0040 - val_dense_6_loss: 5.2738e-07 - val_dense_1_accuracy: 0.8668 - val_dense_2_accuracy: 0.8223 - val_dense_3_accuracy: 0.8950 - val_dense_4_accuracy: 0.9780 - val_dense_5_accuracy: 0.9998 - val_dense_6_accuracy: 1.0000\n",
            "Epoch 86/100\n",
            "857/857 [==============================] - 247s 288ms/step - loss: 0.3494 - dense_1_loss: 0.1017 - dense_2_loss: 0.1458 - dense_3_loss: 0.0866 - dense_4_loss: 0.0153 - dense_5_loss: 1.0474e-05 - dense_6_loss: 5.5268e-08 - dense_1_accuracy: 0.9674 - dense_2_accuracy: 0.9520 - dense_3_accuracy: 0.9728 - dense_4_accuracy: 0.9949 - dense_5_accuracy: 1.0000 - dense_6_accuracy: 1.0000 - val_loss: 2.1932 - val_dense_1_loss: 0.6492 - val_dense_2_loss: 0.8558 - val_dense_3_loss: 0.5429 - val_dense_4_loss: 0.1395 - val_dense_5_loss: 0.0057 - val_dense_6_loss: 1.1491e-06 - val_dense_1_accuracy: 0.8677 - val_dense_2_accuracy: 0.8205 - val_dense_3_accuracy: 0.8897 - val_dense_4_accuracy: 0.9767 - val_dense_5_accuracy: 0.9998 - val_dense_6_accuracy: 1.0000\n"
          ]
        },
        {
          "name": "stdout",
          "output_type": "stream",
          "text": [
            "Epoch 87/100\n",
            "857/857 [==============================] - 247s 288ms/step - loss: 0.3334 - dense_1_loss: 0.1000 - dense_2_loss: 0.1379 - dense_3_loss: 0.0811 - dense_4_loss: 0.0145 - dense_5_loss: 2.8071e-05 - dense_6_loss: 3.2367e-09 - dense_1_accuracy: 0.9664 - dense_2_accuracy: 0.9549 - dense_3_accuracy: 0.9728 - dense_4_accuracy: 0.9951 - dense_5_accuracy: 1.0000 - dense_6_accuracy: 1.0000 - val_loss: 2.2463 - val_dense_1_loss: 0.6618 - val_dense_2_loss: 0.8906 - val_dense_3_loss: 0.5540 - val_dense_4_loss: 0.1339 - val_dense_5_loss: 0.0059 - val_dense_6_loss: 1.3610e-06 - val_dense_1_accuracy: 0.8687 - val_dense_2_accuracy: 0.8165 - val_dense_3_accuracy: 0.8943 - val_dense_4_accuracy: 0.9772 - val_dense_5_accuracy: 0.9997 - val_dense_6_accuracy: 1.0000\n",
            "Epoch 88/100\n",
            "857/857 [==============================] - 247s 288ms/step - loss: 0.3452 - dense_1_loss: 0.1099 - dense_2_loss: 0.1423 - dense_3_loss: 0.0785 - dense_4_loss: 0.0142 - dense_5_loss: 3.2151e-04 - dense_6_loss: 9.3491e-08 - dense_1_accuracy: 0.9654 - dense_2_accuracy: 0.9528 - dense_3_accuracy: 0.9747 - dense_4_accuracy: 0.9957 - dense_5_accuracy: 0.9999 - dense_6_accuracy: 1.0000 - val_loss: 2.2855 - val_dense_1_loss: 0.6776 - val_dense_2_loss: 0.9111 - val_dense_3_loss: 0.5578 - val_dense_4_loss: 0.1330 - val_dense_5_loss: 0.0060 - val_dense_6_loss: 8.4417e-07 - val_dense_1_accuracy: 0.8655 - val_dense_2_accuracy: 0.8162 - val_dense_3_accuracy: 0.8930 - val_dense_4_accuracy: 0.9772 - val_dense_5_accuracy: 0.9995 - val_dense_6_accuracy: 1.0000\n",
            "Epoch 89/100\n",
            "857/857 [==============================] - 248s 290ms/step - loss: 0.3400 - dense_1_loss: 0.1028 - dense_2_loss: 0.1450 - dense_3_loss: 0.0788 - dense_4_loss: 0.0133 - dense_5_loss: 4.9860e-05 - dense_6_loss: 4.2479e-07 - dense_1_accuracy: 0.9667 - dense_2_accuracy: 0.9522 - dense_3_accuracy: 0.9743 - dense_4_accuracy: 0.9961 - dense_5_accuracy: 1.0000 - dense_6_accuracy: 1.0000 - val_loss: 2.2172 - val_dense_1_loss: 0.6461 - val_dense_2_loss: 0.8773 - val_dense_3_loss: 0.5595 - val_dense_4_loss: 0.1282 - val_dense_5_loss: 0.0062 - val_dense_6_loss: 2.4992e-06 - val_dense_1_accuracy: 0.8643 - val_dense_2_accuracy: 0.8107 - val_dense_3_accuracy: 0.8875 - val_dense_4_accuracy: 0.9755 - val_dense_5_accuracy: 0.9995 - val_dense_6_accuracy: 1.0000\n",
            "Epoch 90/100\n",
            "857/857 [==============================] - 249s 291ms/step - loss: 0.3436 - dense_1_loss: 0.1053 - dense_2_loss: 0.1413 - dense_3_loss: 0.0807 - dense_4_loss: 0.0161 - dense_5_loss: 2.7603e-04 - dense_6_loss: 1.1547e-05 - dense_1_accuracy: 0.9652 - dense_2_accuracy: 0.9542 - dense_3_accuracy: 0.9738 - dense_4_accuracy: 0.9955 - dense_5_accuracy: 0.9999 - dense_6_accuracy: 1.0000 - val_loss: 2.2506 - val_dense_1_loss: 0.6721 - val_dense_2_loss: 0.8932 - val_dense_3_loss: 0.5502 - val_dense_4_loss: 0.1297 - val_dense_5_loss: 0.0056 - val_dense_6_loss: 2.5698e-06 - val_dense_1_accuracy: 0.8678 - val_dense_2_accuracy: 0.8218 - val_dense_3_accuracy: 0.8912 - val_dense_4_accuracy: 0.9753 - val_dense_5_accuracy: 0.9998 - val_dense_6_accuracy: 1.0000\n",
            "Epoch 91/100\n",
            "857/857 [==============================] - 247s 288ms/step - loss: 0.3357 - dense_1_loss: 0.1029 - dense_2_loss: 0.1397 - dense_3_loss: 0.0803 - dense_4_loss: 0.0127 - dense_5_loss: 1.7555e-04 - dense_6_loss: 7.3127e-08 - dense_1_accuracy: 0.9672 - dense_2_accuracy: 0.9529 - dense_3_accuracy: 0.9728 - dense_4_accuracy: 0.9964 - dense_5_accuracy: 1.0000 - dense_6_accuracy: 1.0000 - val_loss: 2.3563 - val_dense_1_loss: 0.6909 - val_dense_2_loss: 0.9186 - val_dense_3_loss: 0.5984 - val_dense_4_loss: 0.1422 - val_dense_5_loss: 0.0062 - val_dense_6_loss: 2.0659e-07 - val_dense_1_accuracy: 0.8657 - val_dense_2_accuracy: 0.8235 - val_dense_3_accuracy: 0.8937 - val_dense_4_accuracy: 0.9770 - val_dense_5_accuracy: 0.9998 - val_dense_6_accuracy: 1.0000\n",
            "Epoch 92/100\n",
            "857/857 [==============================] - 248s 289ms/step - loss: 0.3292 - dense_1_loss: 0.1011 - dense_2_loss: 0.1353 - dense_3_loss: 0.0801 - dense_4_loss: 0.0125 - dense_5_loss: 1.5207e-04 - dense_6_loss: 4.6331e-09 - dense_1_accuracy: 0.9672 - dense_2_accuracy: 0.9553 - dense_3_accuracy: 0.9741 - dense_4_accuracy: 0.9962 - dense_5_accuracy: 1.0000 - dense_6_accuracy: 1.0000 - val_loss: 2.3374 - val_dense_1_loss: 0.6938 - val_dense_2_loss: 0.9113 - val_dense_3_loss: 0.5906 - val_dense_4_loss: 0.1365 - val_dense_5_loss: 0.0051 - val_dense_6_loss: 8.0484e-07 - val_dense_1_accuracy: 0.8715 - val_dense_2_accuracy: 0.8232 - val_dense_3_accuracy: 0.8907 - val_dense_4_accuracy: 0.9757 - val_dense_5_accuracy: 0.9998 - val_dense_6_accuracy: 1.0000\n",
            "Epoch 93/100\n",
            "857/857 [==============================] - 247s 288ms/step - loss: 0.3177 - dense_1_loss: 0.0944 - dense_2_loss: 0.1357 - dense_3_loss: 0.0729 - dense_4_loss: 0.0142 - dense_5_loss: 4.4879e-04 - dense_6_loss: 2.8552e-08 - dense_1_accuracy: 0.9685 - dense_2_accuracy: 0.9548 - dense_3_accuracy: 0.9764 - dense_4_accuracy: 0.9958 - dense_5_accuracy: 1.0000 - dense_6_accuracy: 1.0000 - val_loss: 2.3275 - val_dense_1_loss: 0.6979 - val_dense_2_loss: 0.9175 - val_dense_3_loss: 0.5663 - val_dense_4_loss: 0.1401 - val_dense_5_loss: 0.0057 - val_dense_6_loss: 5.2112e-07 - val_dense_1_accuracy: 0.8753 - val_dense_2_accuracy: 0.8215 - val_dense_3_accuracy: 0.8943 - val_dense_4_accuracy: 0.9763 - val_dense_5_accuracy: 0.9998 - val_dense_6_accuracy: 1.0000\n",
            "Epoch 94/100\n",
            "857/857 [==============================] - 247s 289ms/step - loss: 0.3207 - dense_1_loss: 0.0995 - dense_2_loss: 0.1331 - dense_3_loss: 0.0762 - dense_4_loss: 0.0116 - dense_5_loss: 3.3310e-04 - dense_6_loss: 7.2649e-09 - dense_1_accuracy: 0.9674 - dense_2_accuracy: 0.9559 - dense_3_accuracy: 0.9755 - dense_4_accuracy: 0.9962 - dense_5_accuracy: 0.9999 - dense_6_accuracy: 1.0000 - val_loss: 2.2723 - val_dense_1_loss: 0.6715 - val_dense_2_loss: 0.9039 - val_dense_3_loss: 0.5527 - val_dense_4_loss: 0.1391 - val_dense_5_loss: 0.0050 - val_dense_6_loss: 6.9672e-07 - val_dense_1_accuracy: 0.8680 - val_dense_2_accuracy: 0.8237 - val_dense_3_accuracy: 0.8915 - val_dense_4_accuracy: 0.9758 - val_dense_5_accuracy: 0.9998 - val_dense_6_accuracy: 1.0000\n",
            "Epoch 95/100\n",
            "857/857 [==============================] - 246s 287ms/step - loss: 0.3284 - dense_1_loss: 0.0977 - dense_2_loss: 0.1394 - dense_3_loss: 0.0780 - dense_4_loss: 0.0132 - dense_5_loss: 4.8075e-06 - dense_6_loss: 2.0093e-07 - dense_1_accuracy: 0.9688 - dense_2_accuracy: 0.9533 - dense_3_accuracy: 0.9754 - dense_4_accuracy: 0.9962 - dense_5_accuracy: 1.0000 - dense_6_accuracy: 1.0000 - val_loss: 2.2871 - val_dense_1_loss: 0.6738 - val_dense_2_loss: 0.8968 - val_dense_3_loss: 0.5726 - val_dense_4_loss: 0.1383 - val_dense_5_loss: 0.0057 - val_dense_6_loss: 1.4071e-06 - val_dense_1_accuracy: 0.8653 - val_dense_2_accuracy: 0.8207 - val_dense_3_accuracy: 0.8928 - val_dense_4_accuracy: 0.9772 - val_dense_5_accuracy: 0.9998 - val_dense_6_accuracy: 1.0000\n",
            "Epoch 96/100\n",
            "857/857 [==============================] - 246s 287ms/step - loss: 0.3193 - dense_1_loss: 0.0944 - dense_2_loss: 0.1412 - dense_3_loss: 0.0701 - dense_4_loss: 0.0135 - dense_5_loss: 9.0423e-05 - dense_6_loss: 3.7568e-07 - dense_1_accuracy: 0.9700 - dense_2_accuracy: 0.9543 - dense_3_accuracy: 0.9770 - dense_4_accuracy: 0.9957 - dense_5_accuracy: 1.0000 - dense_6_accuracy: 1.0000 - val_loss: 2.3647 - val_dense_1_loss: 0.7054 - val_dense_2_loss: 0.9166 - val_dense_3_loss: 0.5869 - val_dense_4_loss: 0.1506 - val_dense_5_loss: 0.0052 - val_dense_6_loss: 4.6179e-07 - val_dense_1_accuracy: 0.8700 - val_dense_2_accuracy: 0.8208 - val_dense_3_accuracy: 0.8925 - val_dense_4_accuracy: 0.9757 - val_dense_5_accuracy: 0.9998 - val_dense_6_accuracy: 1.0000\n",
            "Epoch 97/100\n",
            "857/857 [==============================] - 245s 286ms/step - loss: 0.3325 - dense_1_loss: 0.1033 - dense_2_loss: 0.1366 - dense_3_loss: 0.0776 - dense_4_loss: 0.0149 - dense_5_loss: 5.6748e-06 - dense_6_loss: 7.4477e-09 - dense_1_accuracy: 0.9670 - dense_2_accuracy: 0.9543 - dense_3_accuracy: 0.9750 - dense_4_accuracy: 0.9959 - dense_5_accuracy: 1.0000 - dense_6_accuracy: 1.0000 - val_loss: 2.2575 - val_dense_1_loss: 0.6633 - val_dense_2_loss: 0.8896 - val_dense_3_loss: 0.5638 - val_dense_4_loss: 0.1366 - val_dense_5_loss: 0.0042 - val_dense_6_loss: 7.1992e-07 - val_dense_1_accuracy: 0.8677 - val_dense_2_accuracy: 0.8195 - val_dense_3_accuracy: 0.8925 - val_dense_4_accuracy: 0.9782 - val_dense_5_accuracy: 0.9998 - val_dense_6_accuracy: 1.0000\n"
          ]
        },
        {
          "name": "stdout",
          "output_type": "stream",
          "text": [
            "Epoch 98/100\n",
            "857/857 [==============================] - 245s 286ms/step - loss: 0.3194 - dense_1_loss: 0.0993 - dense_2_loss: 0.1292 - dense_3_loss: 0.0762 - dense_4_loss: 0.0147 - dense_5_loss: 4.1918e-05 - dense_6_loss: 3.4293e-06 - dense_1_accuracy: 0.9668 - dense_2_accuracy: 0.9564 - dense_3_accuracy: 0.9763 - dense_4_accuracy: 0.9957 - dense_5_accuracy: 1.0000 - dense_6_accuracy: 1.0000 - val_loss: 2.3265 - val_dense_1_loss: 0.6881 - val_dense_2_loss: 0.9133 - val_dense_3_loss: 0.5786 - val_dense_4_loss: 0.1425 - val_dense_5_loss: 0.0040 - val_dense_6_loss: 1.2047e-06 - val_dense_1_accuracy: 0.8705 - val_dense_2_accuracy: 0.8175 - val_dense_3_accuracy: 0.8947 - val_dense_4_accuracy: 0.9772 - val_dense_5_accuracy: 0.9998 - val_dense_6_accuracy: 1.0000\n",
            "Epoch 99/100\n",
            "857/857 [==============================] - 246s 287ms/step - loss: 0.3053 - dense_1_loss: 0.0934 - dense_2_loss: 0.1274 - dense_3_loss: 0.0713 - dense_4_loss: 0.0129 - dense_5_loss: 1.6638e-04 - dense_6_loss: 4.9594e-09 - dense_1_accuracy: 0.9699 - dense_2_accuracy: 0.9581 - dense_3_accuracy: 0.9773 - dense_4_accuracy: 0.9960 - dense_5_accuracy: 1.0000 - dense_6_accuracy: 1.0000 - val_loss: 2.3270 - val_dense_1_loss: 0.6822 - val_dense_2_loss: 0.9278 - val_dense_3_loss: 0.5807 - val_dense_4_loss: 0.1323 - val_dense_5_loss: 0.0040 - val_dense_6_loss: 8.0497e-07 - val_dense_1_accuracy: 0.8688 - val_dense_2_accuracy: 0.8145 - val_dense_3_accuracy: 0.8937 - val_dense_4_accuracy: 0.9790 - val_dense_5_accuracy: 0.9998 - val_dense_6_accuracy: 1.0000\n",
            "Epoch 100/100\n",
            "857/857 [==============================] - 250s 291ms/step - loss: 0.3157 - dense_1_loss: 0.0999 - dense_2_loss: 0.1307 - dense_3_loss: 0.0722 - dense_4_loss: 0.0129 - dense_5_loss: 5.1802e-05 - dense_6_loss: 7.1039e-09 - dense_1_accuracy: 0.9680 - dense_2_accuracy: 0.9569 - dense_3_accuracy: 0.9768 - dense_4_accuracy: 0.9962 - dense_5_accuracy: 1.0000 - dense_6_accuracy: 1.0000 - val_loss: 2.3091 - val_dense_1_loss: 0.6861 - val_dense_2_loss: 0.9110 - val_dense_3_loss: 0.5643 - val_dense_4_loss: 0.1439 - val_dense_5_loss: 0.0039 - val_dense_6_loss: 8.7436e-07 - val_dense_1_accuracy: 0.8670 - val_dense_2_accuracy: 0.8192 - val_dense_3_accuracy: 0.8903 - val_dense_4_accuracy: 0.9753 - val_dense_5_accuracy: 0.9998 - val_dense_6_accuracy: 1.0000\n"
          ]
        },
        {
          "data": {
            "text/plain": [
              "<keras.callbacks.History at 0x298cb7ec730>"
            ]
          },
          "execution_count": 9,
          "metadata": {},
          "output_type": "execute_result"
        }
      ],
      "source": [
        "from keras.models import Sequential, Model\n",
        "from keras.layers import Dense, Dropout, Activation, Flatten, Input\n",
        "from keras.layers import Conv2D, MaxPooling2D\n",
        "from tensorflow.keras.layers import BatchNormalization\n",
        "from tensorflow.keras.optimizers import SGD, RMSprop, Adadelta, Adam\n",
        "from tensorflow.keras.callbacks import ModelCheckpoint, EarlyStopping, TensorBoard\n",
        "\n",
        "\n",
        "batch_size = 32\n",
        "nb_classes = 11\n",
        "\n",
        "nb_epoch = 100\n",
        "\n",
        "# 100 epochs results:\n",
        "# The individual accuracy is 84.06029996939088 %\n",
        "# The sequence prediction accuracy is 52.456382001836545 %\n",
        "# The coverage is 86.26568717477808 %\n",
        "\n",
        "# image input dimensions\n",
        "img_rows = 64\n",
        "img_cols = 64\n",
        "img_channels = 1\n",
        "\n",
        "# number of convulation filters to use\n",
        "nb_filters = 32\n",
        "# size of pooling area for max pooling\n",
        "pool_size = (2, 2)\n",
        "# convolution kernel size\n",
        "kernel_size = (3, 3)\n",
        "\n",
        "# defining the input\n",
        "inputs = Input(shape=(img_rows, img_cols, img_channels))\n",
        "\n",
        "\n",
        "cov = Conv2D(nb_filters,kernel_size=(kernel_size[0],kernel_size[1]),padding='same', use_bias=False)(inputs)\n",
        "cov = BatchNormalization()(cov)\n",
        "cov = Activation('relu')(cov)\n",
        "cov = Conv2D(nb_filters,kernel_size=(kernel_size[0],kernel_size[1]),padding='same', use_bias=False)(cov)\n",
        "cov = BatchNormalization()(cov)\n",
        "cov = Activation('relu')(cov)\n",
        "cov = MaxPooling2D(pool_size=pool_size)(cov)\n",
        "cov = Dropout(0.3)(cov)\n",
        "\n",
        "cov = Conv2D((nb_filters * 2),kernel_size=(kernel_size[0],kernel_size[1]), use_bias=False)(cov)\n",
        "cov = BatchNormalization()(cov)\n",
        "cov = Activation('relu')(cov)\n",
        "cov = Conv2D((nb_filters * 2),kernel_size=(kernel_size[0],kernel_size[1]),padding='same', use_bias=False)(cov)\n",
        "cov = BatchNormalization()(cov)\n",
        "cov = Activation('relu')(cov)\n",
        "cov = MaxPooling2D(pool_size=pool_size)(cov)\n",
        "cov = Dropout(0.3)(cov)\n",
        "\n",
        "\n",
        "cov = Conv2D((nb_filters * 4),kernel_size=(kernel_size[0],kernel_size[1]), use_bias=False)(cov)\n",
        "cov = BatchNormalization()(cov)\n",
        "cov = Activation('relu')(cov)\n",
        "cov = Conv2D((nb_filters * 4),kernel_size=(kernel_size[0],kernel_size[1]),padding='same', use_bias=False)(cov)\n",
        "cov = BatchNormalization()(cov)\n",
        "cov = Activation('relu')(cov)\n",
        "cov = MaxPooling2D(pool_size=pool_size)(cov)\n",
        "cov = Dropout(0.3)(cov)\n",
        "\n",
        "cov = Conv2D((nb_filters * 8),kernel_size=(kernel_size[0],kernel_size[1]), use_bias=False)(cov)\n",
        "cov = BatchNormalization()(cov)\n",
        "cov = Activation('relu')(cov)\n",
        "cov = Conv2D((nb_filters * 8),kernel_size=(kernel_size[0],kernel_size[1]),padding='same', use_bias=False)(cov)\n",
        "cov = BatchNormalization()(cov)\n",
        "cov = Activation('relu')(cov)\n",
        "cov = MaxPooling2D(pool_size=pool_size)(cov)\n",
        "cov = Dropout(0.3)(cov)\n",
        "\n",
        "cov_out = Flatten()(cov)\n",
        "\n",
        "\n",
        "# Dense Layers\n",
        "cov2 = Dense(2056, activation='relu')(cov_out)\n",
        "cov2 = Dropout(0.3)(cov2)\n",
        "\n",
        "\n",
        "\n",
        "# Prediction layers\n",
        "c0 = Dense(nb_classes, activation='softmax')(cov2)\n",
        "c1 = Dense(nb_classes, activation='softmax')(cov2)\n",
        "c2 = Dense(nb_classes, activation='softmax')(cov2)\n",
        "c3 = Dense(nb_classes, activation='softmax')(cov2)\n",
        "c4 = Dense(nb_classes, activation='softmax')(cov2)\n",
        "c5 = Dense(nb_classes, activation='softmax')(cov2)\n",
        "\n",
        "# Defining the model\n",
        "model = Model(inputs=inputs,outputs=[c0,c1,c2,c3,c4,c5])\n",
        "print (model.summary())\n",
        "\n",
        "\n",
        "# Compiling the model\n",
        "model.compile(loss='categorical_crossentropy',optimizer='adam',metrics=['accuracy'])\n",
        "\n",
        "# original\n",
        "# early_stopping = EarlyStopping(monitor='val_loss', min_delta=0, patience=5, verbose=0, mode='auto')\n",
        "\n",
        "#modified delete if bad and return original\n",
        "early_stopping = EarlyStopping(monitor='val_loss', min_delta=0, patience=100, verbose=0, mode='auto')\n",
        "\n",
        "# Fitting the model\n",
        "model.fit(train_images,train_labels,batch_size=batch_size,epochs=nb_epoch,verbose=1,\n",
        "          validation_data=(valid_images, valid_labels), callbacks=[early_stopping])"
      ]
    },
    {
      "cell_type": "code",
      "execution_count": null,
      "metadata": {
        "colab": {
          "base_uri": "https://localhost:8080/"
        },
        "id": "tUQkBFIttxKu",
        "outputId": "bbb84b49-520d-4e26-873c-f072106104f9"
      },
      "outputs": [
        {
          "name": "stdout",
          "output_type": "stream",
          "text": [
            "409/409 [==============================] - 14s 34ms/step\n",
            "(6, 13068, 11)\n",
            "13068\n",
            "(6, 13068, 11)\n",
            "[8.5858982e-24 1.1597194e-08 3.9808391e-08 2.8431034e-06 2.6246328e-08\n",
            " 9.8587406e-01 1.4122707e-02 1.0642244e-08 2.7008875e-07 4.4415312e-08\n",
            " 1.6422908e-11]\n",
            "5\n"
          ]
        }
      ],
      "source": [
        "predictions = model.predict(test_images)\n",
        "print(np.shape(predictions))\n",
        "print(len(predictions[0]))\n",
        "\n",
        "print(np.shape(test_labels))\n",
        "print(predictions[0][0])\n",
        "print(np.argmax(predictions[0][0]))"
      ]
    },
    {
      "cell_type": "markdown",
      "metadata": {
        "id": "Z8eqQWS8ux0F"
      },
      "source": [
        "# Calculate Accuracy\n",
        "\n",
        "Here we have calculated the accuracy of the model with test data"
      ]
    },
    {
      "cell_type": "code",
      "execution_count": null,
      "metadata": {
        "colab": {
          "base_uri": "https://localhost:8080/"
        },
        "id": "b4ozt0bewDf9",
        "outputId": "78bcad22-3d64-494b-b3c9-7bab8a9a9ff6"
      },
      "outputs": [
        {
          "name": "stdout",
          "output_type": "stream",
          "text": [
            "The individual accuracy is 85.76930925415775 %\n",
            "The sequence prediction accuracy is 50.85705540250994 %\n",
            "The coverage is 87.05616773798593 %\n"
          ]
        }
      ],
      "source": [
        "def calculate_acc(predictions,real_labels):\n",
        "\n",
        "    individual_counter = 0\n",
        "    global_sequence_counter = 0\n",
        "    coverage_counter = 0\n",
        "    confidence = 0.7\n",
        "    for i in range(0,len(predictions[0])):\n",
        "        # Reset sequence counter at the start of each image\n",
        "        sequence_counter = 0\n",
        "\n",
        "        for j in range(0,6):\n",
        "\n",
        "            if np.argmax(predictions[j][i]) == np.argmax(real_labels[j][i]):\n",
        "                individual_counter += 1\n",
        "                sequence_counter += 1\n",
        "            if predictions[j][i][np.argmax(predictions[j][i])] >= confidence:\n",
        "                coverage_counter += 1\n",
        "\n",
        "        if sequence_counter == 6:\n",
        "            global_sequence_counter += 1\n",
        "\n",
        "    ind_accuracy = individual_counter / float(len(predictions[0]) * 6)\n",
        "    global_accuracy = global_sequence_counter / float(len(predictions[0]))\n",
        "    coverage = coverage_counter / float(len(predictions[0]) * 6)\n",
        "\n",
        "    return ind_accuracy,global_accuracy, coverage\n",
        "\n",
        "ind_acc, glob_acc, coverage = calculate_acc(predictions, test_labels)\n",
        "print(\"The individual accuracy is {} %\".format(ind_acc * 100))\n",
        "print(\"The sequence prediction accuracy is {} %\".format(glob_acc * 100))\n",
        "print(\"The coverage is {} %\".format(coverage * 100))"
      ]
    },
    {
      "cell_type": "markdown",
      "metadata": {
        "id": "OrY9RnZaw65c"
      },
      "source": [
        "# Testing\n",
        "Here we have imported a random test image with his label and check how the model predict the label"
      ]
    },
    {
      "cell_type": "code",
      "execution_count": null,
      "metadata": {
        "colab": {
          "base_uri": "https://localhost:8080/",
          "height": 484
        },
        "id": "BjprM25fwX7b",
        "outputId": "3cf8cd4c-bad1-4987-aed1-972161b0b4ec"
      },
      "outputs": [
        {
          "name": "stdout",
          "output_type": "stream",
          "text": [
            "Actual labels: [1, 2, 2, 10, 10, 10]\n",
            "Predicted labels: [1, 2, 2, 10, 10, 10]\n",
            "\n"
          ]
        },
        {
          "data": {
            "image/png": "[encoded data removed]",
            "text/plain": [
              "<Figure size 640x480 with 1 Axes>"
            ]
          },
          "metadata": {},
          "output_type": "display_data"
        }
      ],
      "source": [
        "import random\n",
        "\n",
        "for i in random.sample(range(0,10000),1):\n",
        "\n",
        "    actual_labels = []\n",
        "    predicted_labels = []\n",
        "    plt.figure()\n",
        "    plt.imshow(test_dataset[i])\n",
        "    for j in range(0,6):\n",
        "        actual_labels.append(np.argmax(test_labels[j][i]))\n",
        "        predicted_labels.append(np.argmax(predictions[j][i]))\n",
        "\n",
        "    print(\"Actual labels: {}\".format(actual_labels))\n",
        "    print(\"Predicted labels: {}\\n\".format(predicted_labels))"
      ]
    }
  ],
  "metadata": {
    "colab": {
      "provenance": []
    },
    "kernelspec": {
      "display_name": "Python 3 (ipykernel)",
      "language": "python",
      "name": "python3"
    },
    "language_info": {
      "codemirror_mode": {
        "name": "ipython",
        "version": 3
      },
      "file_extension": ".py",
      "mimetype": "text/x-python",
      "name": "python",
      "nbconvert_exporter": "python",
      "pygments_lexer": "ipython3",
      "version": "3.9.13"
    }
  },
  "nbformat": 4,
  "nbformat_minor": 0
}